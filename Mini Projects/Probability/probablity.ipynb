{
  "cells": [
    {
      "cell_type": "markdown",
      "source": [
        "Customer information from Ulwe Telecom is provided for data analysis. We need to learn more about customer churn rates. The performance of the business could be enhanced with the use of these insights.\n",
        "As historical data, a dataset with 47 features is provided. We also receive a file with the dataset description.\n",
        "The data are first subjected to exploratory data analysis.\n",
        "Since the data is numerical and the normal distribution of the data is skewed, null values are replaced median. From the provided data, one can additionally deduce some attributes or create some composite attributes. Outliers are identified using a box plot with the goal variable \"recharge delay.\" In the subsequent stage, outliers are eliminated. Features' data types are identified, and all features are converted to numerical form.\n",
        "By creating additional columns containing dummy variables, some categorical traits are transformed into numerical ones. With the help of previous data and a machine learning model, customers' precise recharge delays are forecasted. Building supervised data models involves combining multivariate analysis with linear regression. All of the variables are initially used as predictors, and the model's accuracy is determined. Due to the continuous nature of the target and predictors, linear multivariate analysis is performed. In order to map the model with a mathematical formula, the beta 0 column is constructed. The R-squared test and mean squared error are used to determine accuracy because the prediction is over a continuous target.\n",
        "Later in the data analysis, logistic regression is used to forecast client attrition. Accuracy, precision, and recall are computed using a confusion matrix because the target is a binary one.\n"
      ],
      "metadata": {
        "id": "T5OIsvB-_qQ1"
      }
    },
    {
      "cell_type": "code",
      "source": [
        "import pandas as pd\n",
        "data1=pd.read_csv('https://raw.githubusercontent.com/minal-sheth/projects/master/Minal%2BSheth.csv')\n",
        "\n",
        "#importing data from github"
      ],
      "metadata": {
        "id": "WfUVixAsLm9E"
      },
      "execution_count": 3,
      "outputs": []
    },
    {
      "cell_type": "code",
      "source": [
        "data_df = data1"
      ],
      "metadata": {
        "id": "cYuKQeu2FjrQ"
      },
      "execution_count": 4,
      "outputs": []
    },
    {
      "cell_type": "code",
      "source": [
        "data1.dropna()\n",
        "#reading data from github which has 46 features"
      ],
      "metadata": {
        "colab": {
          "base_uri": "https://localhost:8080/",
          "height": 488
        },
        "id": "2NmQjCJYSQCM",
        "outputId": "8320bc8b-f399-44fd-a3db-b787c5731b8b"
      },
      "execution_count": 5,
      "outputs": [
        {
          "output_type": "execute_result",
          "data": {
            "text/plain": [
              "     customer_id   ownership  activation_plan_code  mnp_flag  \\\n",
              "0          10000  individual                     6         0   \n",
              "1          10001  individual                     1         0   \n",
              "2          10002  individual                     4         0   \n",
              "3          10003   corporate                     1         0   \n",
              "4          10004  individual                     9         1   \n",
              "..           ...         ...                   ...       ...   \n",
              "995        10995  individual                     7         0   \n",
              "996        10996  individual                     9         0   \n",
              "997        10997  individual                     2         0   \n",
              "998        10998  individual                     9         0   \n",
              "999        10999  individual                     5         1   \n",
              "\n",
              "     calls_incoming_cnt  calls_outgoing_cnt  calls_incoming_duration  \\\n",
              "0                  80.0                19.0                95.945227   \n",
              "1                  17.0                 4.0                30.198034   \n",
              "2                 150.0                88.0               273.931049   \n",
              "3                  89.0                36.0               113.618648   \n",
              "4                  48.0                76.0                59.745842   \n",
              "..                  ...                 ...                      ...   \n",
              "995                12.0                 3.0                15.805581   \n",
              "996                10.0                 2.0                15.403155   \n",
              "997                33.0               107.0                36.041158   \n",
              "998                26.0               152.0                42.607193   \n",
              "999                66.0                90.0                78.650758   \n",
              "\n",
              "     calls_outgoing_duration  total_call_count  total_sum_duration  ...  \\\n",
              "0                  26.693724              99.0          122.638951  ...   \n",
              "1                   6.939370              21.0           37.137404  ...   \n",
              "2                 167.487087             238.0          441.418137  ...   \n",
              "3                  43.211189             125.0          156.829838  ...   \n",
              "4                  76.268839             124.0          136.014680  ...   \n",
              "..                       ...               ...                 ...  ...   \n",
              "995                 3.296523              15.0           19.102104  ...   \n",
              "996                 2.751630              12.0           18.154785  ...   \n",
              "997               156.652119             140.0          192.693277  ...   \n",
              "998               243.780715             178.0          286.387908  ...   \n",
              "999               147.574160             156.0          226.224917  ...   \n",
              "\n",
              "     current_active_plan_validity  last_cycle_plan_mrp  \\\n",
              "0                             365                  128   \n",
              "1                             120                  500   \n",
              "2                             700                  999   \n",
              "3                              15                  128   \n",
              "4                              90                  500   \n",
              "..                            ...                  ...   \n",
              "995                           365                   99   \n",
              "996                            15                 1500   \n",
              "997                            90                  999   \n",
              "998                           120                  300   \n",
              "999                           180                  300   \n",
              "\n",
              "     last_cycle_plan_validity  avg_days_bw_rchg_and_expiry  \\\n",
              "0                          28                     0.176600   \n",
              "1                         120                    -0.261885   \n",
              "2                         180                    -1.922172   \n",
              "3                          28                    -0.928306   \n",
              "4                         120                     1.265328   \n",
              "..                        ...                          ...   \n",
              "995                        15                    -1.333215   \n",
              "996                       365                     2.353738   \n",
              "997                       180                     4.744955   \n",
              "998                        90                     0.510868   \n",
              "999                        90                     0.538858   \n",
              "\n",
              "     stddev_days_bw_rchg_and_expiry  price_per_day  gb_per_day_quota  \\\n",
              "0                          1.331501       4.109589               3.0   \n",
              "1                         10.037758       4.166667               2.0   \n",
              "2                          3.455308       4.284286               4.0   \n",
              "3                          3.167296       6.600000               0.5   \n",
              "4                          0.859239       3.333333               1.5   \n",
              "..                              ...            ...               ...   \n",
              "995                        0.517329       4.109589               3.0   \n",
              "996                        1.346329       6.600000               0.5   \n",
              "997                        3.458185       3.333333               1.5   \n",
              "998                        2.138013       4.166667               2.0   \n",
              "999                        0.241051       5.550000               3.0   \n",
              "\n",
              "     pcnt_quota_used  device_avg_asp  recharge_delay  \n",
              "0           1.466524      10K_to_20K        7.255093  \n",
              "1          13.240316      20K_to_30K        1.774216  \n",
              "2          25.152820      30K_to_50K      -10.846162  \n",
              "3         113.841035      30K_to_50K        4.601008  \n",
              "4          13.424269      30K_to_50K       -4.386046  \n",
              "..               ...             ...             ...  \n",
              "995        42.640848      30K_to_50K       -3.436202  \n",
              "996        17.437244      10K_to_20K        8.099816  \n",
              "997        22.497311      30K_to_50K        7.049546  \n",
              "998        23.787594        less_10K        4.636170  \n",
              "999         8.874397      30K_to_50K        0.912576  \n",
              "\n",
              "[979 rows x 47 columns]"
            ],
            "text/html": [
              "\n",
              "  <div id=\"df-614d9219-ac60-4e16-94e5-c0334aeaa1df\">\n",
              "    <div class=\"colab-df-container\">\n",
              "      <div>\n",
              "<style scoped>\n",
              "    .dataframe tbody tr th:only-of-type {\n",
              "        vertical-align: middle;\n",
              "    }\n",
              "\n",
              "    .dataframe tbody tr th {\n",
              "        vertical-align: top;\n",
              "    }\n",
              "\n",
              "    .dataframe thead th {\n",
              "        text-align: right;\n",
              "    }\n",
              "</style>\n",
              "<table border=\"1\" class=\"dataframe\">\n",
              "  <thead>\n",
              "    <tr style=\"text-align: right;\">\n",
              "      <th></th>\n",
              "      <th>customer_id</th>\n",
              "      <th>ownership</th>\n",
              "      <th>activation_plan_code</th>\n",
              "      <th>mnp_flag</th>\n",
              "      <th>calls_incoming_cnt</th>\n",
              "      <th>calls_outgoing_cnt</th>\n",
              "      <th>calls_incoming_duration</th>\n",
              "      <th>calls_outgoing_duration</th>\n",
              "      <th>total_call_count</th>\n",
              "      <th>total_sum_duration</th>\n",
              "      <th>...</th>\n",
              "      <th>current_active_plan_validity</th>\n",
              "      <th>last_cycle_plan_mrp</th>\n",
              "      <th>last_cycle_plan_validity</th>\n",
              "      <th>avg_days_bw_rchg_and_expiry</th>\n",
              "      <th>stddev_days_bw_rchg_and_expiry</th>\n",
              "      <th>price_per_day</th>\n",
              "      <th>gb_per_day_quota</th>\n",
              "      <th>pcnt_quota_used</th>\n",
              "      <th>device_avg_asp</th>\n",
              "      <th>recharge_delay</th>\n",
              "    </tr>\n",
              "  </thead>\n",
              "  <tbody>\n",
              "    <tr>\n",
              "      <th>0</th>\n",
              "      <td>10000</td>\n",
              "      <td>individual</td>\n",
              "      <td>6</td>\n",
              "      <td>0</td>\n",
              "      <td>80.0</td>\n",
              "      <td>19.0</td>\n",
              "      <td>95.945227</td>\n",
              "      <td>26.693724</td>\n",
              "      <td>99.0</td>\n",
              "      <td>122.638951</td>\n",
              "      <td>...</td>\n",
              "      <td>365</td>\n",
              "      <td>128</td>\n",
              "      <td>28</td>\n",
              "      <td>0.176600</td>\n",
              "      <td>1.331501</td>\n",
              "      <td>4.109589</td>\n",
              "      <td>3.0</td>\n",
              "      <td>1.466524</td>\n",
              "      <td>10K_to_20K</td>\n",
              "      <td>7.255093</td>\n",
              "    </tr>\n",
              "    <tr>\n",
              "      <th>1</th>\n",
              "      <td>10001</td>\n",
              "      <td>individual</td>\n",
              "      <td>1</td>\n",
              "      <td>0</td>\n",
              "      <td>17.0</td>\n",
              "      <td>4.0</td>\n",
              "      <td>30.198034</td>\n",
              "      <td>6.939370</td>\n",
              "      <td>21.0</td>\n",
              "      <td>37.137404</td>\n",
              "      <td>...</td>\n",
              "      <td>120</td>\n",
              "      <td>500</td>\n",
              "      <td>120</td>\n",
              "      <td>-0.261885</td>\n",
              "      <td>10.037758</td>\n",
              "      <td>4.166667</td>\n",
              "      <td>2.0</td>\n",
              "      <td>13.240316</td>\n",
              "      <td>20K_to_30K</td>\n",
              "      <td>1.774216</td>\n",
              "    </tr>\n",
              "    <tr>\n",
              "      <th>2</th>\n",
              "      <td>10002</td>\n",
              "      <td>individual</td>\n",
              "      <td>4</td>\n",
              "      <td>0</td>\n",
              "      <td>150.0</td>\n",
              "      <td>88.0</td>\n",
              "      <td>273.931049</td>\n",
              "      <td>167.487087</td>\n",
              "      <td>238.0</td>\n",
              "      <td>441.418137</td>\n",
              "      <td>...</td>\n",
              "      <td>700</td>\n",
              "      <td>999</td>\n",
              "      <td>180</td>\n",
              "      <td>-1.922172</td>\n",
              "      <td>3.455308</td>\n",
              "      <td>4.284286</td>\n",
              "      <td>4.0</td>\n",
              "      <td>25.152820</td>\n",
              "      <td>30K_to_50K</td>\n",
              "      <td>-10.846162</td>\n",
              "    </tr>\n",
              "    <tr>\n",
              "      <th>3</th>\n",
              "      <td>10003</td>\n",
              "      <td>corporate</td>\n",
              "      <td>1</td>\n",
              "      <td>0</td>\n",
              "      <td>89.0</td>\n",
              "      <td>36.0</td>\n",
              "      <td>113.618648</td>\n",
              "      <td>43.211189</td>\n",
              "      <td>125.0</td>\n",
              "      <td>156.829838</td>\n",
              "      <td>...</td>\n",
              "      <td>15</td>\n",
              "      <td>128</td>\n",
              "      <td>28</td>\n",
              "      <td>-0.928306</td>\n",
              "      <td>3.167296</td>\n",
              "      <td>6.600000</td>\n",
              "      <td>0.5</td>\n",
              "      <td>113.841035</td>\n",
              "      <td>30K_to_50K</td>\n",
              "      <td>4.601008</td>\n",
              "    </tr>\n",
              "    <tr>\n",
              "      <th>4</th>\n",
              "      <td>10004</td>\n",
              "      <td>individual</td>\n",
              "      <td>9</td>\n",
              "      <td>1</td>\n",
              "      <td>48.0</td>\n",
              "      <td>76.0</td>\n",
              "      <td>59.745842</td>\n",
              "      <td>76.268839</td>\n",
              "      <td>124.0</td>\n",
              "      <td>136.014680</td>\n",
              "      <td>...</td>\n",
              "      <td>90</td>\n",
              "      <td>500</td>\n",
              "      <td>120</td>\n",
              "      <td>1.265328</td>\n",
              "      <td>0.859239</td>\n",
              "      <td>3.333333</td>\n",
              "      <td>1.5</td>\n",
              "      <td>13.424269</td>\n",
              "      <td>30K_to_50K</td>\n",
              "      <td>-4.386046</td>\n",
              "    </tr>\n",
              "    <tr>\n",
              "      <th>...</th>\n",
              "      <td>...</td>\n",
              "      <td>...</td>\n",
              "      <td>...</td>\n",
              "      <td>...</td>\n",
              "      <td>...</td>\n",
              "      <td>...</td>\n",
              "      <td>...</td>\n",
              "      <td>...</td>\n",
              "      <td>...</td>\n",
              "      <td>...</td>\n",
              "      <td>...</td>\n",
              "      <td>...</td>\n",
              "      <td>...</td>\n",
              "      <td>...</td>\n",
              "      <td>...</td>\n",
              "      <td>...</td>\n",
              "      <td>...</td>\n",
              "      <td>...</td>\n",
              "      <td>...</td>\n",
              "      <td>...</td>\n",
              "      <td>...</td>\n",
              "    </tr>\n",
              "    <tr>\n",
              "      <th>995</th>\n",
              "      <td>10995</td>\n",
              "      <td>individual</td>\n",
              "      <td>7</td>\n",
              "      <td>0</td>\n",
              "      <td>12.0</td>\n",
              "      <td>3.0</td>\n",
              "      <td>15.805581</td>\n",
              "      <td>3.296523</td>\n",
              "      <td>15.0</td>\n",
              "      <td>19.102104</td>\n",
              "      <td>...</td>\n",
              "      <td>365</td>\n",
              "      <td>99</td>\n",
              "      <td>15</td>\n",
              "      <td>-1.333215</td>\n",
              "      <td>0.517329</td>\n",
              "      <td>4.109589</td>\n",
              "      <td>3.0</td>\n",
              "      <td>42.640848</td>\n",
              "      <td>30K_to_50K</td>\n",
              "      <td>-3.436202</td>\n",
              "    </tr>\n",
              "    <tr>\n",
              "      <th>996</th>\n",
              "      <td>10996</td>\n",
              "      <td>individual</td>\n",
              "      <td>9</td>\n",
              "      <td>0</td>\n",
              "      <td>10.0</td>\n",
              "      <td>2.0</td>\n",
              "      <td>15.403155</td>\n",
              "      <td>2.751630</td>\n",
              "      <td>12.0</td>\n",
              "      <td>18.154785</td>\n",
              "      <td>...</td>\n",
              "      <td>15</td>\n",
              "      <td>1500</td>\n",
              "      <td>365</td>\n",
              "      <td>2.353738</td>\n",
              "      <td>1.346329</td>\n",
              "      <td>6.600000</td>\n",
              "      <td>0.5</td>\n",
              "      <td>17.437244</td>\n",
              "      <td>10K_to_20K</td>\n",
              "      <td>8.099816</td>\n",
              "    </tr>\n",
              "    <tr>\n",
              "      <th>997</th>\n",
              "      <td>10997</td>\n",
              "      <td>individual</td>\n",
              "      <td>2</td>\n",
              "      <td>0</td>\n",
              "      <td>33.0</td>\n",
              "      <td>107.0</td>\n",
              "      <td>36.041158</td>\n",
              "      <td>156.652119</td>\n",
              "      <td>140.0</td>\n",
              "      <td>192.693277</td>\n",
              "      <td>...</td>\n",
              "      <td>90</td>\n",
              "      <td>999</td>\n",
              "      <td>180</td>\n",
              "      <td>4.744955</td>\n",
              "      <td>3.458185</td>\n",
              "      <td>3.333333</td>\n",
              "      <td>1.5</td>\n",
              "      <td>22.497311</td>\n",
              "      <td>30K_to_50K</td>\n",
              "      <td>7.049546</td>\n",
              "    </tr>\n",
              "    <tr>\n",
              "      <th>998</th>\n",
              "      <td>10998</td>\n",
              "      <td>individual</td>\n",
              "      <td>9</td>\n",
              "      <td>0</td>\n",
              "      <td>26.0</td>\n",
              "      <td>152.0</td>\n",
              "      <td>42.607193</td>\n",
              "      <td>243.780715</td>\n",
              "      <td>178.0</td>\n",
              "      <td>286.387908</td>\n",
              "      <td>...</td>\n",
              "      <td>120</td>\n",
              "      <td>300</td>\n",
              "      <td>90</td>\n",
              "      <td>0.510868</td>\n",
              "      <td>2.138013</td>\n",
              "      <td>4.166667</td>\n",
              "      <td>2.0</td>\n",
              "      <td>23.787594</td>\n",
              "      <td>less_10K</td>\n",
              "      <td>4.636170</td>\n",
              "    </tr>\n",
              "    <tr>\n",
              "      <th>999</th>\n",
              "      <td>10999</td>\n",
              "      <td>individual</td>\n",
              "      <td>5</td>\n",
              "      <td>1</td>\n",
              "      <td>66.0</td>\n",
              "      <td>90.0</td>\n",
              "      <td>78.650758</td>\n",
              "      <td>147.574160</td>\n",
              "      <td>156.0</td>\n",
              "      <td>226.224917</td>\n",
              "      <td>...</td>\n",
              "      <td>180</td>\n",
              "      <td>300</td>\n",
              "      <td>90</td>\n",
              "      <td>0.538858</td>\n",
              "      <td>0.241051</td>\n",
              "      <td>5.550000</td>\n",
              "      <td>3.0</td>\n",
              "      <td>8.874397</td>\n",
              "      <td>30K_to_50K</td>\n",
              "      <td>0.912576</td>\n",
              "    </tr>\n",
              "  </tbody>\n",
              "</table>\n",
              "<p>979 rows × 47 columns</p>\n",
              "</div>\n",
              "      <button class=\"colab-df-convert\" onclick=\"convertToInteractive('df-614d9219-ac60-4e16-94e5-c0334aeaa1df')\"\n",
              "              title=\"Convert this dataframe to an interactive table.\"\n",
              "              style=\"display:none;\">\n",
              "        \n",
              "  <svg xmlns=\"http://www.w3.org/2000/svg\" height=\"24px\"viewBox=\"0 0 24 24\"\n",
              "       width=\"24px\">\n",
              "    <path d=\"M0 0h24v24H0V0z\" fill=\"none\"/>\n",
              "    <path d=\"M18.56 5.44l.94 2.06.94-2.06 2.06-.94-2.06-.94-.94-2.06-.94 2.06-2.06.94zm-11 1L8.5 8.5l.94-2.06 2.06-.94-2.06-.94L8.5 2.5l-.94 2.06-2.06.94zm10 10l.94 2.06.94-2.06 2.06-.94-2.06-.94-.94-2.06-.94 2.06-2.06.94z\"/><path d=\"M17.41 7.96l-1.37-1.37c-.4-.4-.92-.59-1.43-.59-.52 0-1.04.2-1.43.59L10.3 9.45l-7.72 7.72c-.78.78-.78 2.05 0 2.83L4 21.41c.39.39.9.59 1.41.59.51 0 1.02-.2 1.41-.59l7.78-7.78 2.81-2.81c.8-.78.8-2.07 0-2.86zM5.41 20L4 18.59l7.72-7.72 1.47 1.35L5.41 20z\"/>\n",
              "  </svg>\n",
              "      </button>\n",
              "      \n",
              "  <style>\n",
              "    .colab-df-container {\n",
              "      display:flex;\n",
              "      flex-wrap:wrap;\n",
              "      gap: 12px;\n",
              "    }\n",
              "\n",
              "    .colab-df-convert {\n",
              "      background-color: #E8F0FE;\n",
              "      border: none;\n",
              "      border-radius: 50%;\n",
              "      cursor: pointer;\n",
              "      display: none;\n",
              "      fill: #1967D2;\n",
              "      height: 32px;\n",
              "      padding: 0 0 0 0;\n",
              "      width: 32px;\n",
              "    }\n",
              "\n",
              "    .colab-df-convert:hover {\n",
              "      background-color: #E2EBFA;\n",
              "      box-shadow: 0px 1px 2px rgba(60, 64, 67, 0.3), 0px 1px 3px 1px rgba(60, 64, 67, 0.15);\n",
              "      fill: #174EA6;\n",
              "    }\n",
              "\n",
              "    [theme=dark] .colab-df-convert {\n",
              "      background-color: #3B4455;\n",
              "      fill: #D2E3FC;\n",
              "    }\n",
              "\n",
              "    [theme=dark] .colab-df-convert:hover {\n",
              "      background-color: #434B5C;\n",
              "      box-shadow: 0px 1px 3px 1px rgba(0, 0, 0, 0.15);\n",
              "      filter: drop-shadow(0px 1px 2px rgba(0, 0, 0, 0.3));\n",
              "      fill: #FFFFFF;\n",
              "    }\n",
              "  </style>\n",
              "\n",
              "      <script>\n",
              "        const buttonEl =\n",
              "          document.querySelector('#df-614d9219-ac60-4e16-94e5-c0334aeaa1df button.colab-df-convert');\n",
              "        buttonEl.style.display =\n",
              "          google.colab.kernel.accessAllowed ? 'block' : 'none';\n",
              "\n",
              "        async function convertToInteractive(key) {\n",
              "          const element = document.querySelector('#df-614d9219-ac60-4e16-94e5-c0334aeaa1df');\n",
              "          const dataTable =\n",
              "            await google.colab.kernel.invokeFunction('convertToInteractive',\n",
              "                                                     [key], {});\n",
              "          if (!dataTable) return;\n",
              "\n",
              "          const docLinkHtml = 'Like what you see? Visit the ' +\n",
              "            '<a target=\"_blank\" href=https://colab.research.google.com/notebooks/data_table.ipynb>data table notebook</a>'\n",
              "            + ' to learn more about interactive tables.';\n",
              "          element.innerHTML = '';\n",
              "          dataTable['output_type'] = 'display_data';\n",
              "          await google.colab.output.renderOutput(dataTable, element);\n",
              "          const docLink = document.createElement('div');\n",
              "          docLink.innerHTML = docLinkHtml;\n",
              "          element.appendChild(docLink);\n",
              "        }\n",
              "      </script>\n",
              "    </div>\n",
              "  </div>\n",
              "  "
            ]
          },
          "metadata": {},
          "execution_count": 5
        }
      ]
    },
    {
      "cell_type": "code",
      "source": [
        "data1.head()\n",
        "#reading the first 5 rows"
      ],
      "metadata": {
        "colab": {
          "base_uri": "https://localhost:8080/",
          "height": 299
        },
        "id": "oBsRiokXOlek",
        "outputId": "90de76bd-f06e-46ff-edc4-592758824e2b"
      },
      "execution_count": 6,
      "outputs": [
        {
          "output_type": "execute_result",
          "data": {
            "text/plain": [
              "   customer_id   ownership  activation_plan_code  mnp_flag  \\\n",
              "0        10000  individual                     6         0   \n",
              "1        10001  individual                     1         0   \n",
              "2        10002  individual                     4         0   \n",
              "3        10003   corporate                     1         0   \n",
              "4        10004  individual                     9         1   \n",
              "\n",
              "   calls_incoming_cnt  calls_outgoing_cnt  calls_incoming_duration  \\\n",
              "0                80.0                19.0                95.945227   \n",
              "1                17.0                 4.0                30.198034   \n",
              "2               150.0                88.0               273.931049   \n",
              "3                89.0                36.0               113.618648   \n",
              "4                48.0                76.0                59.745842   \n",
              "\n",
              "   calls_outgoing_duration  total_call_count  total_sum_duration  ...  \\\n",
              "0                26.693724              99.0          122.638951  ...   \n",
              "1                 6.939370              21.0           37.137404  ...   \n",
              "2               167.487087             238.0          441.418137  ...   \n",
              "3                43.211189             125.0          156.829838  ...   \n",
              "4                76.268839             124.0          136.014680  ...   \n",
              "\n",
              "   current_active_plan_validity  last_cycle_plan_mrp  \\\n",
              "0                           365                  128   \n",
              "1                           120                  500   \n",
              "2                           700                  999   \n",
              "3                            15                  128   \n",
              "4                            90                  500   \n",
              "\n",
              "   last_cycle_plan_validity  avg_days_bw_rchg_and_expiry  \\\n",
              "0                        28                     0.176600   \n",
              "1                       120                    -0.261885   \n",
              "2                       180                    -1.922172   \n",
              "3                        28                    -0.928306   \n",
              "4                       120                     1.265328   \n",
              "\n",
              "   stddev_days_bw_rchg_and_expiry  price_per_day  gb_per_day_quota  \\\n",
              "0                        1.331501       4.109589               3.0   \n",
              "1                       10.037758       4.166667               2.0   \n",
              "2                        3.455308       4.284286               4.0   \n",
              "3                        3.167296       6.600000               0.5   \n",
              "4                        0.859239       3.333333               1.5   \n",
              "\n",
              "   pcnt_quota_used  device_avg_asp  recharge_delay  \n",
              "0         1.466524      10K_to_20K        7.255093  \n",
              "1        13.240316      20K_to_30K        1.774216  \n",
              "2        25.152820      30K_to_50K      -10.846162  \n",
              "3       113.841035      30K_to_50K        4.601008  \n",
              "4        13.424269      30K_to_50K       -4.386046  \n",
              "\n",
              "[5 rows x 47 columns]"
            ],
            "text/html": [
              "\n",
              "  <div id=\"df-4ccc03cb-df74-4e27-915b-bff76ab47a13\">\n",
              "    <div class=\"colab-df-container\">\n",
              "      <div>\n",
              "<style scoped>\n",
              "    .dataframe tbody tr th:only-of-type {\n",
              "        vertical-align: middle;\n",
              "    }\n",
              "\n",
              "    .dataframe tbody tr th {\n",
              "        vertical-align: top;\n",
              "    }\n",
              "\n",
              "    .dataframe thead th {\n",
              "        text-align: right;\n",
              "    }\n",
              "</style>\n",
              "<table border=\"1\" class=\"dataframe\">\n",
              "  <thead>\n",
              "    <tr style=\"text-align: right;\">\n",
              "      <th></th>\n",
              "      <th>customer_id</th>\n",
              "      <th>ownership</th>\n",
              "      <th>activation_plan_code</th>\n",
              "      <th>mnp_flag</th>\n",
              "      <th>calls_incoming_cnt</th>\n",
              "      <th>calls_outgoing_cnt</th>\n",
              "      <th>calls_incoming_duration</th>\n",
              "      <th>calls_outgoing_duration</th>\n",
              "      <th>total_call_count</th>\n",
              "      <th>total_sum_duration</th>\n",
              "      <th>...</th>\n",
              "      <th>current_active_plan_validity</th>\n",
              "      <th>last_cycle_plan_mrp</th>\n",
              "      <th>last_cycle_plan_validity</th>\n",
              "      <th>avg_days_bw_rchg_and_expiry</th>\n",
              "      <th>stddev_days_bw_rchg_and_expiry</th>\n",
              "      <th>price_per_day</th>\n",
              "      <th>gb_per_day_quota</th>\n",
              "      <th>pcnt_quota_used</th>\n",
              "      <th>device_avg_asp</th>\n",
              "      <th>recharge_delay</th>\n",
              "    </tr>\n",
              "  </thead>\n",
              "  <tbody>\n",
              "    <tr>\n",
              "      <th>0</th>\n",
              "      <td>10000</td>\n",
              "      <td>individual</td>\n",
              "      <td>6</td>\n",
              "      <td>0</td>\n",
              "      <td>80.0</td>\n",
              "      <td>19.0</td>\n",
              "      <td>95.945227</td>\n",
              "      <td>26.693724</td>\n",
              "      <td>99.0</td>\n",
              "      <td>122.638951</td>\n",
              "      <td>...</td>\n",
              "      <td>365</td>\n",
              "      <td>128</td>\n",
              "      <td>28</td>\n",
              "      <td>0.176600</td>\n",
              "      <td>1.331501</td>\n",
              "      <td>4.109589</td>\n",
              "      <td>3.0</td>\n",
              "      <td>1.466524</td>\n",
              "      <td>10K_to_20K</td>\n",
              "      <td>7.255093</td>\n",
              "    </tr>\n",
              "    <tr>\n",
              "      <th>1</th>\n",
              "      <td>10001</td>\n",
              "      <td>individual</td>\n",
              "      <td>1</td>\n",
              "      <td>0</td>\n",
              "      <td>17.0</td>\n",
              "      <td>4.0</td>\n",
              "      <td>30.198034</td>\n",
              "      <td>6.939370</td>\n",
              "      <td>21.0</td>\n",
              "      <td>37.137404</td>\n",
              "      <td>...</td>\n",
              "      <td>120</td>\n",
              "      <td>500</td>\n",
              "      <td>120</td>\n",
              "      <td>-0.261885</td>\n",
              "      <td>10.037758</td>\n",
              "      <td>4.166667</td>\n",
              "      <td>2.0</td>\n",
              "      <td>13.240316</td>\n",
              "      <td>20K_to_30K</td>\n",
              "      <td>1.774216</td>\n",
              "    </tr>\n",
              "    <tr>\n",
              "      <th>2</th>\n",
              "      <td>10002</td>\n",
              "      <td>individual</td>\n",
              "      <td>4</td>\n",
              "      <td>0</td>\n",
              "      <td>150.0</td>\n",
              "      <td>88.0</td>\n",
              "      <td>273.931049</td>\n",
              "      <td>167.487087</td>\n",
              "      <td>238.0</td>\n",
              "      <td>441.418137</td>\n",
              "      <td>...</td>\n",
              "      <td>700</td>\n",
              "      <td>999</td>\n",
              "      <td>180</td>\n",
              "      <td>-1.922172</td>\n",
              "      <td>3.455308</td>\n",
              "      <td>4.284286</td>\n",
              "      <td>4.0</td>\n",
              "      <td>25.152820</td>\n",
              "      <td>30K_to_50K</td>\n",
              "      <td>-10.846162</td>\n",
              "    </tr>\n",
              "    <tr>\n",
              "      <th>3</th>\n",
              "      <td>10003</td>\n",
              "      <td>corporate</td>\n",
              "      <td>1</td>\n",
              "      <td>0</td>\n",
              "      <td>89.0</td>\n",
              "      <td>36.0</td>\n",
              "      <td>113.618648</td>\n",
              "      <td>43.211189</td>\n",
              "      <td>125.0</td>\n",
              "      <td>156.829838</td>\n",
              "      <td>...</td>\n",
              "      <td>15</td>\n",
              "      <td>128</td>\n",
              "      <td>28</td>\n",
              "      <td>-0.928306</td>\n",
              "      <td>3.167296</td>\n",
              "      <td>6.600000</td>\n",
              "      <td>0.5</td>\n",
              "      <td>113.841035</td>\n",
              "      <td>30K_to_50K</td>\n",
              "      <td>4.601008</td>\n",
              "    </tr>\n",
              "    <tr>\n",
              "      <th>4</th>\n",
              "      <td>10004</td>\n",
              "      <td>individual</td>\n",
              "      <td>9</td>\n",
              "      <td>1</td>\n",
              "      <td>48.0</td>\n",
              "      <td>76.0</td>\n",
              "      <td>59.745842</td>\n",
              "      <td>76.268839</td>\n",
              "      <td>124.0</td>\n",
              "      <td>136.014680</td>\n",
              "      <td>...</td>\n",
              "      <td>90</td>\n",
              "      <td>500</td>\n",
              "      <td>120</td>\n",
              "      <td>1.265328</td>\n",
              "      <td>0.859239</td>\n",
              "      <td>3.333333</td>\n",
              "      <td>1.5</td>\n",
              "      <td>13.424269</td>\n",
              "      <td>30K_to_50K</td>\n",
              "      <td>-4.386046</td>\n",
              "    </tr>\n",
              "  </tbody>\n",
              "</table>\n",
              "<p>5 rows × 47 columns</p>\n",
              "</div>\n",
              "      <button class=\"colab-df-convert\" onclick=\"convertToInteractive('df-4ccc03cb-df74-4e27-915b-bff76ab47a13')\"\n",
              "              title=\"Convert this dataframe to an interactive table.\"\n",
              "              style=\"display:none;\">\n",
              "        \n",
              "  <svg xmlns=\"http://www.w3.org/2000/svg\" height=\"24px\"viewBox=\"0 0 24 24\"\n",
              "       width=\"24px\">\n",
              "    <path d=\"M0 0h24v24H0V0z\" fill=\"none\"/>\n",
              "    <path d=\"M18.56 5.44l.94 2.06.94-2.06 2.06-.94-2.06-.94-.94-2.06-.94 2.06-2.06.94zm-11 1L8.5 8.5l.94-2.06 2.06-.94-2.06-.94L8.5 2.5l-.94 2.06-2.06.94zm10 10l.94 2.06.94-2.06 2.06-.94-2.06-.94-.94-2.06-.94 2.06-2.06.94z\"/><path d=\"M17.41 7.96l-1.37-1.37c-.4-.4-.92-.59-1.43-.59-.52 0-1.04.2-1.43.59L10.3 9.45l-7.72 7.72c-.78.78-.78 2.05 0 2.83L4 21.41c.39.39.9.59 1.41.59.51 0 1.02-.2 1.41-.59l7.78-7.78 2.81-2.81c.8-.78.8-2.07 0-2.86zM5.41 20L4 18.59l7.72-7.72 1.47 1.35L5.41 20z\"/>\n",
              "  </svg>\n",
              "      </button>\n",
              "      \n",
              "  <style>\n",
              "    .colab-df-container {\n",
              "      display:flex;\n",
              "      flex-wrap:wrap;\n",
              "      gap: 12px;\n",
              "    }\n",
              "\n",
              "    .colab-df-convert {\n",
              "      background-color: #E8F0FE;\n",
              "      border: none;\n",
              "      border-radius: 50%;\n",
              "      cursor: pointer;\n",
              "      display: none;\n",
              "      fill: #1967D2;\n",
              "      height: 32px;\n",
              "      padding: 0 0 0 0;\n",
              "      width: 32px;\n",
              "    }\n",
              "\n",
              "    .colab-df-convert:hover {\n",
              "      background-color: #E2EBFA;\n",
              "      box-shadow: 0px 1px 2px rgba(60, 64, 67, 0.3), 0px 1px 3px 1px rgba(60, 64, 67, 0.15);\n",
              "      fill: #174EA6;\n",
              "    }\n",
              "\n",
              "    [theme=dark] .colab-df-convert {\n",
              "      background-color: #3B4455;\n",
              "      fill: #D2E3FC;\n",
              "    }\n",
              "\n",
              "    [theme=dark] .colab-df-convert:hover {\n",
              "      background-color: #434B5C;\n",
              "      box-shadow: 0px 1px 3px 1px rgba(0, 0, 0, 0.15);\n",
              "      filter: drop-shadow(0px 1px 2px rgba(0, 0, 0, 0.3));\n",
              "      fill: #FFFFFF;\n",
              "    }\n",
              "  </style>\n",
              "\n",
              "      <script>\n",
              "        const buttonEl =\n",
              "          document.querySelector('#df-4ccc03cb-df74-4e27-915b-bff76ab47a13 button.colab-df-convert');\n",
              "        buttonEl.style.display =\n",
              "          google.colab.kernel.accessAllowed ? 'block' : 'none';\n",
              "\n",
              "        async function convertToInteractive(key) {\n",
              "          const element = document.querySelector('#df-4ccc03cb-df74-4e27-915b-bff76ab47a13');\n",
              "          const dataTable =\n",
              "            await google.colab.kernel.invokeFunction('convertToInteractive',\n",
              "                                                     [key], {});\n",
              "          if (!dataTable) return;\n",
              "\n",
              "          const docLinkHtml = 'Like what you see? Visit the ' +\n",
              "            '<a target=\"_blank\" href=https://colab.research.google.com/notebooks/data_table.ipynb>data table notebook</a>'\n",
              "            + ' to learn more about interactive tables.';\n",
              "          element.innerHTML = '';\n",
              "          dataTable['output_type'] = 'display_data';\n",
              "          await google.colab.output.renderOutput(dataTable, element);\n",
              "          const docLink = document.createElement('div');\n",
              "          docLink.innerHTML = docLinkHtml;\n",
              "          element.appendChild(docLink);\n",
              "        }\n",
              "      </script>\n",
              "    </div>\n",
              "  </div>\n",
              "  "
            ]
          },
          "metadata": {},
          "execution_count": 6
        }
      ]
    },
    {
      "cell_type": "code",
      "execution_count": 85,
      "metadata": {
        "id": "yjKpjtWRKCrF"
      },
      "outputs": [],
      "source": [
        "import numpy as np\n",
        "import sympy as sy\n",
        "import scipy\n",
        "from scipy.stats import expon, norm\n",
        "import matplotlib.pyplot as plt\n",
        "import math\n",
        "import pandas as pd\n",
        "import matplotlib.pyplot as plt\n",
        "import seaborn as sns\n",
        "from scipy.stats import f_oneway\n",
        "import statsmodels.api as sm\n",
        "np.random.seed(1234)"
      ]
    },
    {
      "cell_type": "markdown",
      "metadata": {
        "id": "MEIUBLmpKCrN"
      },
      "source": [
        "Q1 a: The team becomes interested in the number of subjects that recharge acrossseveral days after their plan expires. After an exploratory data analysis whichincludes drawing the observed histogram of the data, discuss a theoretical \n",
        "distribution that could be used to model such data.\n",
        "\n",
        "\n",
        "\n",
        "************"
      ]
    },
    {
      "cell_type": "code",
      "execution_count": 8,
      "metadata": {
        "id": "jbCpjjwUKCrP"
      },
      "outputs": [],
      "source": [
        "record1=data1[data1.avg_days_bw_rchg_and_expiry>0]\n",
        "#knowing the amount of customers that recharge after the package is over"
      ]
    },
    {
      "cell_type": "code",
      "execution_count": 9,
      "metadata": {
        "colab": {
          "base_uri": "https://localhost:8080/",
          "height": 394
        },
        "id": "nwSiebU8KCrQ",
        "outputId": "e609200e-52e4-4e4a-a7c6-3b6fd0c7c45d"
      },
      "outputs": [
        {
          "output_type": "execute_result",
          "data": {
            "text/plain": [
              "        customer_id  activation_plan_code    mnp_flag  calls_incoming_cnt  \\\n",
              "count    496.000000            496.000000  496.000000          496.000000   \n",
              "mean   10504.191532              5.540323    0.131048           57.475806   \n",
              "std      282.608881              2.860103    0.337794           56.807485   \n",
              "min    10000.000000              1.000000    0.000000            0.000000   \n",
              "25%    10273.250000              3.000000    0.000000           15.750000   \n",
              "50%    10503.500000              5.000000    0.000000           41.500000   \n",
              "75%    10746.500000              8.000000    0.000000           81.250000   \n",
              "max    10999.000000             10.000000    1.000000          361.000000   \n",
              "\n",
              "       calls_outgoing_cnt  calls_incoming_duration  calls_outgoing_duration  \\\n",
              "count          496.000000               496.000000               496.000000   \n",
              "mean            55.854839                84.598000                83.291109   \n",
              "std             54.105089                85.853055                83.655839   \n",
              "min              0.000000                 0.000000                 0.000000   \n",
              "25%             14.750000                22.094264                22.282023   \n",
              "50%             38.000000                60.944054                56.892958   \n",
              "75%             80.250000               110.811899               117.477856   \n",
              "max            304.000000               715.476090               507.563501   \n",
              "\n",
              "       total_call_count  total_sum_duration  tot_usage_mb  ...  \\\n",
              "count        496.000000          496.000000    496.000000  ...   \n",
              "mean         113.330645          167.889110  10998.337329  ...   \n",
              "std           81.953791          123.442761   9545.655677  ...   \n",
              "min            3.000000            4.321906    313.778058  ...   \n",
              "25%           52.000000           79.453787   3865.159879  ...   \n",
              "50%           91.500000          133.670199   7916.289979  ...   \n",
              "75%          154.000000          238.178132  15481.419378  ...   \n",
              "max          431.000000          765.980071  68202.655635  ...   \n",
              "\n",
              "       current_active_plan_mrp  current_active_plan_validity  \\\n",
              "count               496.000000                    496.000000   \n",
              "mean                965.516129                    223.084677   \n",
              "std                 993.734302                    232.815358   \n",
              "min                  99.000000                     15.000000   \n",
              "25%                 128.000000                     28.000000   \n",
              "50%                 500.000000                    120.000000   \n",
              "75%                1500.000000                    365.000000   \n",
              "max                2999.000000                    700.000000   \n",
              "\n",
              "       last_cycle_plan_mrp  last_cycle_plan_validity  \\\n",
              "count           496.000000                496.000000   \n",
              "mean            949.106855                218.526210   \n",
              "std             984.497517                230.136015   \n",
              "min              99.000000                 15.000000   \n",
              "25%             257.000000                 74.500000   \n",
              "50%             500.000000                120.000000   \n",
              "75%            1500.000000                365.000000   \n",
              "max            2999.000000                700.000000   \n",
              "\n",
              "       avg_days_bw_rchg_and_expiry  stddev_days_bw_rchg_and_expiry  \\\n",
              "count                   496.000000                      496.000000   \n",
              "mean                      1.904359                        3.074511   \n",
              "std                       1.715162                        3.020368   \n",
              "min                       0.003164                        0.002072   \n",
              "25%                       0.593906                        0.914251   \n",
              "50%                       1.292838                        2.039171   \n",
              "75%                       2.747616                        4.296782   \n",
              "max                       8.499451                       14.879131   \n",
              "\n",
              "       price_per_day  gb_per_day_quota  pcnt_quota_used  recharge_delay  \n",
              "count     496.000000        496.000000       496.000000      496.000000  \n",
              "mean        4.597700          2.168347        25.475362        1.312770  \n",
              "std         0.979001          1.164451        33.462324        7.469549  \n",
              "min         3.333333          0.500000         0.454092      -25.775418  \n",
              "25%         4.109589          1.000000         6.170363       -3.190191  \n",
              "50%         4.284286          2.000000        14.355701        1.128512  \n",
              "75%         5.550000          3.000000        28.292175        6.230675  \n",
              "max         6.600000          4.000000       252.049842       29.550684  \n",
              "\n",
              "[8 rows x 45 columns]"
            ],
            "text/html": [
              "\n",
              "  <div id=\"df-f2fbd483-ada0-48b0-8fc5-61b753a34536\">\n",
              "    <div class=\"colab-df-container\">\n",
              "      <div>\n",
              "<style scoped>\n",
              "    .dataframe tbody tr th:only-of-type {\n",
              "        vertical-align: middle;\n",
              "    }\n",
              "\n",
              "    .dataframe tbody tr th {\n",
              "        vertical-align: top;\n",
              "    }\n",
              "\n",
              "    .dataframe thead th {\n",
              "        text-align: right;\n",
              "    }\n",
              "</style>\n",
              "<table border=\"1\" class=\"dataframe\">\n",
              "  <thead>\n",
              "    <tr style=\"text-align: right;\">\n",
              "      <th></th>\n",
              "      <th>customer_id</th>\n",
              "      <th>activation_plan_code</th>\n",
              "      <th>mnp_flag</th>\n",
              "      <th>calls_incoming_cnt</th>\n",
              "      <th>calls_outgoing_cnt</th>\n",
              "      <th>calls_incoming_duration</th>\n",
              "      <th>calls_outgoing_duration</th>\n",
              "      <th>total_call_count</th>\n",
              "      <th>total_sum_duration</th>\n",
              "      <th>tot_usage_mb</th>\n",
              "      <th>...</th>\n",
              "      <th>current_active_plan_mrp</th>\n",
              "      <th>current_active_plan_validity</th>\n",
              "      <th>last_cycle_plan_mrp</th>\n",
              "      <th>last_cycle_plan_validity</th>\n",
              "      <th>avg_days_bw_rchg_and_expiry</th>\n",
              "      <th>stddev_days_bw_rchg_and_expiry</th>\n",
              "      <th>price_per_day</th>\n",
              "      <th>gb_per_day_quota</th>\n",
              "      <th>pcnt_quota_used</th>\n",
              "      <th>recharge_delay</th>\n",
              "    </tr>\n",
              "  </thead>\n",
              "  <tbody>\n",
              "    <tr>\n",
              "      <th>count</th>\n",
              "      <td>496.000000</td>\n",
              "      <td>496.000000</td>\n",
              "      <td>496.000000</td>\n",
              "      <td>496.000000</td>\n",
              "      <td>496.000000</td>\n",
              "      <td>496.000000</td>\n",
              "      <td>496.000000</td>\n",
              "      <td>496.000000</td>\n",
              "      <td>496.000000</td>\n",
              "      <td>496.000000</td>\n",
              "      <td>...</td>\n",
              "      <td>496.000000</td>\n",
              "      <td>496.000000</td>\n",
              "      <td>496.000000</td>\n",
              "      <td>496.000000</td>\n",
              "      <td>496.000000</td>\n",
              "      <td>496.000000</td>\n",
              "      <td>496.000000</td>\n",
              "      <td>496.000000</td>\n",
              "      <td>496.000000</td>\n",
              "      <td>496.000000</td>\n",
              "    </tr>\n",
              "    <tr>\n",
              "      <th>mean</th>\n",
              "      <td>10504.191532</td>\n",
              "      <td>5.540323</td>\n",
              "      <td>0.131048</td>\n",
              "      <td>57.475806</td>\n",
              "      <td>55.854839</td>\n",
              "      <td>84.598000</td>\n",
              "      <td>83.291109</td>\n",
              "      <td>113.330645</td>\n",
              "      <td>167.889110</td>\n",
              "      <td>10998.337329</td>\n",
              "      <td>...</td>\n",
              "      <td>965.516129</td>\n",
              "      <td>223.084677</td>\n",
              "      <td>949.106855</td>\n",
              "      <td>218.526210</td>\n",
              "      <td>1.904359</td>\n",
              "      <td>3.074511</td>\n",
              "      <td>4.597700</td>\n",
              "      <td>2.168347</td>\n",
              "      <td>25.475362</td>\n",
              "      <td>1.312770</td>\n",
              "    </tr>\n",
              "    <tr>\n",
              "      <th>std</th>\n",
              "      <td>282.608881</td>\n",
              "      <td>2.860103</td>\n",
              "      <td>0.337794</td>\n",
              "      <td>56.807485</td>\n",
              "      <td>54.105089</td>\n",
              "      <td>85.853055</td>\n",
              "      <td>83.655839</td>\n",
              "      <td>81.953791</td>\n",
              "      <td>123.442761</td>\n",
              "      <td>9545.655677</td>\n",
              "      <td>...</td>\n",
              "      <td>993.734302</td>\n",
              "      <td>232.815358</td>\n",
              "      <td>984.497517</td>\n",
              "      <td>230.136015</td>\n",
              "      <td>1.715162</td>\n",
              "      <td>3.020368</td>\n",
              "      <td>0.979001</td>\n",
              "      <td>1.164451</td>\n",
              "      <td>33.462324</td>\n",
              "      <td>7.469549</td>\n",
              "    </tr>\n",
              "    <tr>\n",
              "      <th>min</th>\n",
              "      <td>10000.000000</td>\n",
              "      <td>1.000000</td>\n",
              "      <td>0.000000</td>\n",
              "      <td>0.000000</td>\n",
              "      <td>0.000000</td>\n",
              "      <td>0.000000</td>\n",
              "      <td>0.000000</td>\n",
              "      <td>3.000000</td>\n",
              "      <td>4.321906</td>\n",
              "      <td>313.778058</td>\n",
              "      <td>...</td>\n",
              "      <td>99.000000</td>\n",
              "      <td>15.000000</td>\n",
              "      <td>99.000000</td>\n",
              "      <td>15.000000</td>\n",
              "      <td>0.003164</td>\n",
              "      <td>0.002072</td>\n",
              "      <td>3.333333</td>\n",
              "      <td>0.500000</td>\n",
              "      <td>0.454092</td>\n",
              "      <td>-25.775418</td>\n",
              "    </tr>\n",
              "    <tr>\n",
              "      <th>25%</th>\n",
              "      <td>10273.250000</td>\n",
              "      <td>3.000000</td>\n",
              "      <td>0.000000</td>\n",
              "      <td>15.750000</td>\n",
              "      <td>14.750000</td>\n",
              "      <td>22.094264</td>\n",
              "      <td>22.282023</td>\n",
              "      <td>52.000000</td>\n",
              "      <td>79.453787</td>\n",
              "      <td>3865.159879</td>\n",
              "      <td>...</td>\n",
              "      <td>128.000000</td>\n",
              "      <td>28.000000</td>\n",
              "      <td>257.000000</td>\n",
              "      <td>74.500000</td>\n",
              "      <td>0.593906</td>\n",
              "      <td>0.914251</td>\n",
              "      <td>4.109589</td>\n",
              "      <td>1.000000</td>\n",
              "      <td>6.170363</td>\n",
              "      <td>-3.190191</td>\n",
              "    </tr>\n",
              "    <tr>\n",
              "      <th>50%</th>\n",
              "      <td>10503.500000</td>\n",
              "      <td>5.000000</td>\n",
              "      <td>0.000000</td>\n",
              "      <td>41.500000</td>\n",
              "      <td>38.000000</td>\n",
              "      <td>60.944054</td>\n",
              "      <td>56.892958</td>\n",
              "      <td>91.500000</td>\n",
              "      <td>133.670199</td>\n",
              "      <td>7916.289979</td>\n",
              "      <td>...</td>\n",
              "      <td>500.000000</td>\n",
              "      <td>120.000000</td>\n",
              "      <td>500.000000</td>\n",
              "      <td>120.000000</td>\n",
              "      <td>1.292838</td>\n",
              "      <td>2.039171</td>\n",
              "      <td>4.284286</td>\n",
              "      <td>2.000000</td>\n",
              "      <td>14.355701</td>\n",
              "      <td>1.128512</td>\n",
              "    </tr>\n",
              "    <tr>\n",
              "      <th>75%</th>\n",
              "      <td>10746.500000</td>\n",
              "      <td>8.000000</td>\n",
              "      <td>0.000000</td>\n",
              "      <td>81.250000</td>\n",
              "      <td>80.250000</td>\n",
              "      <td>110.811899</td>\n",
              "      <td>117.477856</td>\n",
              "      <td>154.000000</td>\n",
              "      <td>238.178132</td>\n",
              "      <td>15481.419378</td>\n",
              "      <td>...</td>\n",
              "      <td>1500.000000</td>\n",
              "      <td>365.000000</td>\n",
              "      <td>1500.000000</td>\n",
              "      <td>365.000000</td>\n",
              "      <td>2.747616</td>\n",
              "      <td>4.296782</td>\n",
              "      <td>5.550000</td>\n",
              "      <td>3.000000</td>\n",
              "      <td>28.292175</td>\n",
              "      <td>6.230675</td>\n",
              "    </tr>\n",
              "    <tr>\n",
              "      <th>max</th>\n",
              "      <td>10999.000000</td>\n",
              "      <td>10.000000</td>\n",
              "      <td>1.000000</td>\n",
              "      <td>361.000000</td>\n",
              "      <td>304.000000</td>\n",
              "      <td>715.476090</td>\n",
              "      <td>507.563501</td>\n",
              "      <td>431.000000</td>\n",
              "      <td>765.980071</td>\n",
              "      <td>68202.655635</td>\n",
              "      <td>...</td>\n",
              "      <td>2999.000000</td>\n",
              "      <td>700.000000</td>\n",
              "      <td>2999.000000</td>\n",
              "      <td>700.000000</td>\n",
              "      <td>8.499451</td>\n",
              "      <td>14.879131</td>\n",
              "      <td>6.600000</td>\n",
              "      <td>4.000000</td>\n",
              "      <td>252.049842</td>\n",
              "      <td>29.550684</td>\n",
              "    </tr>\n",
              "  </tbody>\n",
              "</table>\n",
              "<p>8 rows × 45 columns</p>\n",
              "</div>\n",
              "      <button class=\"colab-df-convert\" onclick=\"convertToInteractive('df-f2fbd483-ada0-48b0-8fc5-61b753a34536')\"\n",
              "              title=\"Convert this dataframe to an interactive table.\"\n",
              "              style=\"display:none;\">\n",
              "        \n",
              "  <svg xmlns=\"http://www.w3.org/2000/svg\" height=\"24px\"viewBox=\"0 0 24 24\"\n",
              "       width=\"24px\">\n",
              "    <path d=\"M0 0h24v24H0V0z\" fill=\"none\"/>\n",
              "    <path d=\"M18.56 5.44l.94 2.06.94-2.06 2.06-.94-2.06-.94-.94-2.06-.94 2.06-2.06.94zm-11 1L8.5 8.5l.94-2.06 2.06-.94-2.06-.94L8.5 2.5l-.94 2.06-2.06.94zm10 10l.94 2.06.94-2.06 2.06-.94-2.06-.94-.94-2.06-.94 2.06-2.06.94z\"/><path d=\"M17.41 7.96l-1.37-1.37c-.4-.4-.92-.59-1.43-.59-.52 0-1.04.2-1.43.59L10.3 9.45l-7.72 7.72c-.78.78-.78 2.05 0 2.83L4 21.41c.39.39.9.59 1.41.59.51 0 1.02-.2 1.41-.59l7.78-7.78 2.81-2.81c.8-.78.8-2.07 0-2.86zM5.41 20L4 18.59l7.72-7.72 1.47 1.35L5.41 20z\"/>\n",
              "  </svg>\n",
              "      </button>\n",
              "      \n",
              "  <style>\n",
              "    .colab-df-container {\n",
              "      display:flex;\n",
              "      flex-wrap:wrap;\n",
              "      gap: 12px;\n",
              "    }\n",
              "\n",
              "    .colab-df-convert {\n",
              "      background-color: #E8F0FE;\n",
              "      border: none;\n",
              "      border-radius: 50%;\n",
              "      cursor: pointer;\n",
              "      display: none;\n",
              "      fill: #1967D2;\n",
              "      height: 32px;\n",
              "      padding: 0 0 0 0;\n",
              "      width: 32px;\n",
              "    }\n",
              "\n",
              "    .colab-df-convert:hover {\n",
              "      background-color: #E2EBFA;\n",
              "      box-shadow: 0px 1px 2px rgba(60, 64, 67, 0.3), 0px 1px 3px 1px rgba(60, 64, 67, 0.15);\n",
              "      fill: #174EA6;\n",
              "    }\n",
              "\n",
              "    [theme=dark] .colab-df-convert {\n",
              "      background-color: #3B4455;\n",
              "      fill: #D2E3FC;\n",
              "    }\n",
              "\n",
              "    [theme=dark] .colab-df-convert:hover {\n",
              "      background-color: #434B5C;\n",
              "      box-shadow: 0px 1px 3px 1px rgba(0, 0, 0, 0.15);\n",
              "      filter: drop-shadow(0px 1px 2px rgba(0, 0, 0, 0.3));\n",
              "      fill: #FFFFFF;\n",
              "    }\n",
              "  </style>\n",
              "\n",
              "      <script>\n",
              "        const buttonEl =\n",
              "          document.querySelector('#df-f2fbd483-ada0-48b0-8fc5-61b753a34536 button.colab-df-convert');\n",
              "        buttonEl.style.display =\n",
              "          google.colab.kernel.accessAllowed ? 'block' : 'none';\n",
              "\n",
              "        async function convertToInteractive(key) {\n",
              "          const element = document.querySelector('#df-f2fbd483-ada0-48b0-8fc5-61b753a34536');\n",
              "          const dataTable =\n",
              "            await google.colab.kernel.invokeFunction('convertToInteractive',\n",
              "                                                     [key], {});\n",
              "          if (!dataTable) return;\n",
              "\n",
              "          const docLinkHtml = 'Like what you see? Visit the ' +\n",
              "            '<a target=\"_blank\" href=https://colab.research.google.com/notebooks/data_table.ipynb>data table notebook</a>'\n",
              "            + ' to learn more about interactive tables.';\n",
              "          element.innerHTML = '';\n",
              "          dataTable['output_type'] = 'display_data';\n",
              "          await google.colab.output.renderOutput(dataTable, element);\n",
              "          const docLink = document.createElement('div');\n",
              "          docLink.innerHTML = docLinkHtml;\n",
              "          element.appendChild(docLink);\n",
              "        }\n",
              "      </script>\n",
              "    </div>\n",
              "  </div>\n",
              "  "
            ]
          },
          "metadata": {},
          "execution_count": 9
        }
      ],
      "source": [
        "record1.describe()"
      ]
    },
    {
      "cell_type": "code",
      "execution_count": 10,
      "metadata": {
        "id": "MhH5ZOD9KCrR"
      },
      "outputs": [],
      "source": [
        "d = record1.avg_days_bw_rchg_and_expiry"
      ]
    },
    {
      "cell_type": "code",
      "source": [
        "d.head()"
      ],
      "metadata": {
        "colab": {
          "base_uri": "https://localhost:8080/"
        },
        "id": "KHSyAHWsPWxJ",
        "outputId": "ca642566-73bd-40d5-a510-f1d0b2acea8d"
      },
      "execution_count": 11,
      "outputs": [
        {
          "output_type": "execute_result",
          "data": {
            "text/plain": [
              "0    0.176600\n",
              "4    1.265328\n",
              "5    0.564035\n",
              "7    4.029222\n",
              "9    1.037279\n",
              "Name: avg_days_bw_rchg_and_expiry, dtype: float64"
            ]
          },
          "metadata": {},
          "execution_count": 11
        }
      ]
    },
    {
      "cell_type": "code",
      "execution_count": 12,
      "metadata": {
        "colab": {
          "base_uri": "https://localhost:8080/",
          "height": 297
        },
        "id": "5kS9Kx_0KCrT",
        "outputId": "83a4fd14-070e-4d94-94f1-2e8ba3717380"
      },
      "outputs": [
        {
          "output_type": "execute_result",
          "data": {
            "text/plain": [
              "Text(0, 0.5, 'Frequency')"
            ]
          },
          "metadata": {},
          "execution_count": 12
        },
        {
          "output_type": "display_data",
          "data": {
            "text/plain": [
              "<Figure size 432x288 with 1 Axes>"
            ],
            "image/png": "[encoded data removed]"
          },
          "metadata": {
            "needs_background": "light"
          }
        }
      ],
      "source": [
        "plt.hist(d)\n",
        "plt.xlabel('Recharge Delay(days)');plt.ylabel('Frequency')\n",
        "# we are plotting the count of people and the amount of days after which they have done the recharge"
      ]
    },
    {
      "cell_type": "markdown",
      "metadata": {
        "id": "IKpmdayLKCrU"
      },
      "source": [
        "We fit exponential model to the data . The ML is 1/x\n"
      ]
    },
    {
      "cell_type": "code",
      "source": [
        "import scipy.stats as st\n",
        "no_of_sub_recharge_aft_expr_mean = d.mean()\n",
        "lambda_value = 1./no_of_sub_recharge_aft_expr_mean\n",
        "print(lambda_value)"
      ],
      "metadata": {
        "colab": {
          "base_uri": "https://localhost:8080/"
        },
        "id": "sC7rXbYroqc0",
        "outputId": "7012b201-e061-49d0-9e7b-84061c7157d0"
      },
      "execution_count": 13,
      "outputs": [
        {
          "output_type": "stream",
          "name": "stdout",
          "text": [
            "0.525111041362903\n"
          ]
        }
      ]
    },
    {
      "cell_type": "code",
      "source": [
        "dist =st.expon\n",
        "args=st.expon.fit(d)\n",
        "\n",
        "print(args[0]/args[1])"
      ],
      "metadata": {
        "colab": {
          "base_uri": "https://localhost:8080/"
        },
        "id": "6m0GdtTMuvnn",
        "outputId": "cbcb5c66-5e9f-4030-c518-91c9c5f21fac"
      },
      "execution_count": 14,
      "outputs": [
        {
          "output_type": "stream",
          "name": "stdout",
          "text": [
            "0.0016643124854209697\n"
          ]
        }
      ]
    },
    {
      "cell_type": "code",
      "source": [
        "maxd = d.max()\n",
        "days=np.linspace(0. , maxd , 500)\n",
        "dist_exp=st.expon.pdf(days, scale = 1./lambda_value)\n",
        "nbins=13\n",
        "plt.plot(days, dist_exp*len(d)*maxd / nbins  ,'-r')"
      ],
      "metadata": {
        "colab": {
          "base_uri": "https://localhost:8080/",
          "height": 283
        },
        "id": "b_5aHJefu1kN",
        "outputId": "ba2a76c8-d103-4ed1-de9f-a8f5694ccf20"
      },
      "execution_count": 15,
      "outputs": [
        {
          "output_type": "execute_result",
          "data": {
            "text/plain": [
              "[<matplotlib.lines.Line2D at 0x7f8744d1a310>]"
            ]
          },
          "metadata": {},
          "execution_count": 15
        },
        {
          "output_type": "display_data",
          "data": {
            "text/plain": [
              "<Figure size 432x288 with 1 Axes>"
            ],
            "image/png": "[encoded data removed]"
          },
          "metadata": {
            "needs_background": "light"
          }
        }
      ]
    },
    {
      "cell_type": "code",
      "source": [
        "fig,ax=plt.subplots(1,1,figsize=(15,5))\n",
        "ax.hist(d)\n",
        "ax.plot(days,dist_exp*len(d)*maxd/nbins,'-r')"
      ],
      "metadata": {
        "colab": {
          "base_uri": "https://localhost:8080/",
          "height": 338
        },
        "id": "XB9nhPyPvBjj",
        "outputId": "80aa14b9-385b-40ae-8c5e-dd2a09b3c62b"
      },
      "execution_count": 16,
      "outputs": [
        {
          "output_type": "execute_result",
          "data": {
            "text/plain": [
              "[<matplotlib.lines.Line2D at 0x7f87452bc390>]"
            ]
          },
          "metadata": {},
          "execution_count": 16
        },
        {
          "output_type": "display_data",
          "data": {
            "text/plain": [
              "<Figure size 1080x360 with 1 Axes>"
            ],
            "image/png": "[encoded data removed]"
          },
          "metadata": {
            "needs_background": "light"
          }
        }
      ]
    },
    {
      "cell_type": "markdown",
      "source": [
        "From the graph we can say that the graph is exponential distribution. \n"
      ],
      "metadata": {
        "id": "2i0EyoNS_F1r"
      }
    },
    {
      "cell_type": "code",
      "execution_count": 17,
      "metadata": {
        "colab": {
          "base_uri": "https://localhost:8080/"
        },
        "id": "siVNHvSFKCrV",
        "outputId": "7014fb2e-2ea9-476e-c1b0-c2824e0789a4"
      },
      "outputs": [
        {
          "output_type": "stream",
          "name": "stdout",
          "text": [
            "1.959963984540054\n"
          ]
        }
      ],
      "source": [
        "import numpy as np\n",
        "import scipy.stats as st\n",
        "alph = 0.05;\n",
        "mu = 0; sigma = 1; # Standard Gaussian\n",
        "epsilon = st.norm.ppf(1-alph/2, mu, sigma)\n",
        "print(epsilon)"
      ]
    },
    {
      "cell_type": "code",
      "source": [
        "import numpy as np\n",
        "print(np.percentile(record1[\"avg_days_bw_rchg_and_expiry\"],[25]))"
      ],
      "metadata": {
        "colab": {
          "base_uri": "https://localhost:8080/"
        },
        "id": "OhhypziVaOpR",
        "outputId": "f73132b5-91de-458c-dd2e-fab5da760594"
      },
      "execution_count": 18,
      "outputs": [
        {
          "output_type": "stream",
          "name": "stdout",
          "text": [
            "[0.59390554]\n"
          ]
        }
      ]
    },
    {
      "cell_type": "markdown",
      "source": [
        "1b) Find the point estimate(s) and 95\\% confidence interval(s) for the values of theparameter(s) that provide(s) the best fit to the observed data."
      ],
      "metadata": {
        "id": "wmPCN-hAgWVr"
      }
    },
    {
      "cell_type": "code",
      "source": [
        "alpha= 0.05\n",
        "z_left = norm.ppf(alpha/2)\n",
        "z_right = norm.ppf(1 - alpha/2)\n",
        "n = d. shape[0]\n",
        "d_mean = d.mean()\n",
        "s = d.std(ddof=1)/ n ** 0.5\n",
        "interval_left = d_mean + z_left * s \n",
        "interval_right = d_mean + z_right * s\n",
        "print(\"interval_left\", interval_left)\n",
        "print(\"interval_right\", interval_right)"
      ],
      "metadata": {
        "colab": {
          "base_uri": "https://localhost:8080/"
        },
        "id": "S4KGjnoRp8ce",
        "outputId": "896e90c7-2144-43bf-b8e4-0d3cfe58c265"
      },
      "execution_count": 19,
      "outputs": [
        {
          "output_type": "stream",
          "name": "stdout",
          "text": [
            "interval_left 1.7534162912065672\n",
            "interval_right 2.055301946385784\n"
          ]
        }
      ]
    },
    {
      "cell_type": "markdown",
      "source": [
        "Confidence level in between {Lower_limit = 1.8834519102990044} to {Upper_limit = 2.235695361943785}\""
      ],
      "metadata": {
        "id": "3FundY18kSjN"
      }
    },
    {
      "cell_type": "code",
      "source": [
        "from scipy.stats import t\n",
        "t_left = t.interval(0.95,n-1)[0]\n",
        "t_right = t.interval(0.95,n-1)[1]\n",
        "interval_t_left = d_mean + t_left * s \n",
        "interval_t_right = d_mean + t_right * s\n",
        "print(\"interval_left\", interval_t_left)\n",
        "print(\"interval_right\", interval_t_right)\n",
        "print(\"Confidence level of the Recharge delay customers :\",(interval_left), (interval_right))"
      ],
      "metadata": {
        "colab": {
          "base_uri": "https://localhost:8080/"
        },
        "id": "jZCk41tStPWx",
        "outputId": "f08777f9-3746-47da-90f0-755d02513a50"
      },
      "execution_count": 58,
      "outputs": [
        {
          "output_type": "stream",
          "name": "stdout",
          "text": [
            "interval_left 1.7530463198830049\n",
            "interval_right 2.055671917709346\n",
            "Confidence level of the Recharge delay customers : 1.7534162912065672 2.055301946385784\n"
          ]
        }
      ]
    },
    {
      "cell_type": "code",
      "source": [
        "maxd = data1.avg_days_bw_rchg_and_expiry.max()\n",
        "days1=np.linspace(0. , maxd , 500)\n",
        "plt.hist(data1.avg_days_bw_rchg_and_expiry)"
      ],
      "metadata": {
        "colab": {
          "base_uri": "https://localhost:8080/",
          "height": 356
        },
        "id": "8Z2TrFpzPIQq",
        "outputId": "a3edbcf0-b4c4-4e95-cb3f-32b5992eaa64"
      },
      "execution_count": 21,
      "outputs": [
        {
          "output_type": "execute_result",
          "data": {
            "text/plain": [
              "(array([  2.,   6.,  20.,  30., 138., 354., 280., 123.,  33.,  14.]),\n",
              " array([-12.19756665, -10.12786485,  -8.05816306,  -5.98846126,\n",
              "         -3.91875946,  -1.84905766,   0.22064413,   2.29034593,\n",
              "          4.36004773,   6.42974952,   8.49945132]),\n",
              " <a list of 10 Patch objects>)"
            ]
          },
          "metadata": {},
          "execution_count": 21
        },
        {
          "output_type": "display_data",
          "data": {
            "text/plain": [
              "<Figure size 432x288 with 1 Axes>"
            ],
            "image/png": "[encoded data removed]"
          },
          "metadata": {
            "needs_background": "light"
          }
        }
      ]
    },
    {
      "cell_type": "markdown",
      "metadata": {
        "id": "XnMujhDKKCrX"
      },
      "source": [
        "Q1 c: It is customary in the industry to consider the\n",
        "top x percentile\n",
        "of the customerswith delayed recharges as churners (i.e., the customers with the greatest delay -\n",
        "after sorting by decreasing recharge delay). Different companies may considerdifferent values of x as they feel appropriate, based on the observed data andrelated inference. Therefore, typically, the value of x is chosen to be between 10 and40. Based on the data provided to you by Ghansoli Raja, suggest a value x that thecompany should use to define the churners. In other words, after how many dayssince the plan expiration would you suggest that a customer is leaving thecompany?\n"
      ]
    },
    {
      "cell_type": "code",
      "source": [
        "data1.sort_values('recharge_delay',ascending = False)"
      ],
      "metadata": {
        "colab": {
          "base_uri": "https://localhost:8080/",
          "height": 488
        },
        "id": "JXZeux4vBrFT",
        "outputId": "c1b1d5e4-fdb4-4db8-d0a3-8795543ced63"
      },
      "execution_count": 22,
      "outputs": [
        {
          "output_type": "execute_result",
          "data": {
            "text/plain": [
              "     customer_id   ownership  activation_plan_code  mnp_flag  \\\n",
              "340        10340   corporate                     2         0   \n",
              "820        10820  individual                     2         0   \n",
              "401        10401   corporate                     2         0   \n",
              "864        10864  individual                     9         1   \n",
              "366        10366  individual                     9         0   \n",
              "..           ...         ...                   ...       ...   \n",
              "702        10702  individual                     5         1   \n",
              "507        10507  individual                     6         0   \n",
              "260        10260  individual                     3         0   \n",
              "959        10959  individual                     2         0   \n",
              "988        10988  individual                     3         0   \n",
              "\n",
              "     calls_incoming_cnt  calls_outgoing_cnt  calls_incoming_duration  \\\n",
              "340                42.0               103.0                44.847924   \n",
              "820                 3.0               160.0                 3.254047   \n",
              "401               133.0               128.0               244.003278   \n",
              "864                 6.0                39.0                 9.426406   \n",
              "366                52.0               119.0                55.646517   \n",
              "..                  ...                 ...                      ...   \n",
              "702               189.0                19.0               196.720564   \n",
              "507               147.0                 1.0               253.701518   \n",
              "260               108.0                62.0               170.225437   \n",
              "959                47.0                 1.0                92.678671   \n",
              "988                32.0                32.0                45.317454   \n",
              "\n",
              "     calls_outgoing_duration  total_call_count  total_sum_duration  ...  \\\n",
              "340               156.808298             145.0          201.656221  ...   \n",
              "820               165.515817             163.0          168.769864  ...   \n",
              "401               217.769418             261.0          461.772697  ...   \n",
              "864                71.216561              45.0           80.642966  ...   \n",
              "366               149.851889             171.0          205.498406  ...   \n",
              "..                       ...               ...                 ...  ...   \n",
              "702                25.895688             208.0          222.616252  ...   \n",
              "507                 1.989220             148.0          255.690738  ...   \n",
              "260               105.609594             170.0          275.835030  ...   \n",
              "959                 1.125457              48.0           93.804128  ...   \n",
              "988                46.691760              64.0           92.009214  ...   \n",
              "\n",
              "     current_active_plan_validity  last_cycle_plan_mrp  \\\n",
              "340                            90                  999   \n",
              "820                           180                 2999   \n",
              "401                           120                  500   \n",
              "864                           365                   99   \n",
              "366                            28                  500   \n",
              "..                            ...                  ...   \n",
              "702                            15                  500   \n",
              "507                            90                   99   \n",
              "260                           120                   99   \n",
              "959                            15                   99   \n",
              "988                            28                  999   \n",
              "\n",
              "     last_cycle_plan_validity  avg_days_bw_rchg_and_expiry  \\\n",
              "340                       180                     1.120970   \n",
              "820                       700                     2.745990   \n",
              "401                       120                     0.155789   \n",
              "864                        15                     4.316351   \n",
              "366                       120                    -0.164656   \n",
              "..                        ...                          ...   \n",
              "702                       120                    -3.057270   \n",
              "507                        15                     0.653466   \n",
              "260                        15                    -1.178604   \n",
              "959                        15                     0.420076   \n",
              "988                       180                    -1.554518   \n",
              "\n",
              "     stddev_days_bw_rchg_and_expiry  price_per_day  gb_per_day_quota  \\\n",
              "340                        4.150743       3.333333               1.5   \n",
              "820                        3.098960       5.550000               3.0   \n",
              "401                        2.658143       4.166667               2.0   \n",
              "864                        7.221566       4.109589               3.0   \n",
              "366                        2.457917       4.571429               1.0   \n",
              "..                              ...            ...               ...   \n",
              "702                        0.575094       6.600000               0.5   \n",
              "507                        0.560603       3.333333               1.5   \n",
              "260                        3.955751       4.166667               2.0   \n",
              "959                        1.001283       6.600000               0.5   \n",
              "988                        2.632406       4.571429               1.0   \n",
              "\n",
              "     pcnt_quota_used  device_avg_asp  recharge_delay  \n",
              "340         8.906420       50K_above       29.550684  \n",
              "820         1.730166      20K_to_30K       20.820238  \n",
              "401        20.488207        less_10K       19.922149  \n",
              "864         1.367165      10K_to_20K       19.789137  \n",
              "366        25.397636      30K_to_50K       19.609103  \n",
              "..               ...             ...             ...  \n",
              "702       112.833242       50K_above      -22.479431  \n",
              "507       148.009235       50K_above      -25.017030  \n",
              "260       116.564672        less_10K      -25.448472  \n",
              "959       226.664852      10K_to_20K      -25.775418  \n",
              "988       199.855214      20K_to_30K      -31.237912  \n",
              "\n",
              "[1000 rows x 47 columns]"
            ],
            "text/html": [
              "\n",
              "  <div id=\"df-da4aeac3-b2c7-442e-9c59-435483b6a17b\">\n",
              "    <div class=\"colab-df-container\">\n",
              "      <div>\n",
              "<style scoped>\n",
              "    .dataframe tbody tr th:only-of-type {\n",
              "        vertical-align: middle;\n",
              "    }\n",
              "\n",
              "    .dataframe tbody tr th {\n",
              "        vertical-align: top;\n",
              "    }\n",
              "\n",
              "    .dataframe thead th {\n",
              "        text-align: right;\n",
              "    }\n",
              "</style>\n",
              "<table border=\"1\" class=\"dataframe\">\n",
              "  <thead>\n",
              "    <tr style=\"text-align: right;\">\n",
              "      <th></th>\n",
              "      <th>customer_id</th>\n",
              "      <th>ownership</th>\n",
              "      <th>activation_plan_code</th>\n",
              "      <th>mnp_flag</th>\n",
              "      <th>calls_incoming_cnt</th>\n",
              "      <th>calls_outgoing_cnt</th>\n",
              "      <th>calls_incoming_duration</th>\n",
              "      <th>calls_outgoing_duration</th>\n",
              "      <th>total_call_count</th>\n",
              "      <th>total_sum_duration</th>\n",
              "      <th>...</th>\n",
              "      <th>current_active_plan_validity</th>\n",
              "      <th>last_cycle_plan_mrp</th>\n",
              "      <th>last_cycle_plan_validity</th>\n",
              "      <th>avg_days_bw_rchg_and_expiry</th>\n",
              "      <th>stddev_days_bw_rchg_and_expiry</th>\n",
              "      <th>price_per_day</th>\n",
              "      <th>gb_per_day_quota</th>\n",
              "      <th>pcnt_quota_used</th>\n",
              "      <th>device_avg_asp</th>\n",
              "      <th>recharge_delay</th>\n",
              "    </tr>\n",
              "  </thead>\n",
              "  <tbody>\n",
              "    <tr>\n",
              "      <th>340</th>\n",
              "      <td>10340</td>\n",
              "      <td>corporate</td>\n",
              "      <td>2</td>\n",
              "      <td>0</td>\n",
              "      <td>42.0</td>\n",
              "      <td>103.0</td>\n",
              "      <td>44.847924</td>\n",
              "      <td>156.808298</td>\n",
              "      <td>145.0</td>\n",
              "      <td>201.656221</td>\n",
              "      <td>...</td>\n",
              "      <td>90</td>\n",
              "      <td>999</td>\n",
              "      <td>180</td>\n",
              "      <td>1.120970</td>\n",
              "      <td>4.150743</td>\n",
              "      <td>3.333333</td>\n",
              "      <td>1.5</td>\n",
              "      <td>8.906420</td>\n",
              "      <td>50K_above</td>\n",
              "      <td>29.550684</td>\n",
              "    </tr>\n",
              "    <tr>\n",
              "      <th>820</th>\n",
              "      <td>10820</td>\n",
              "      <td>individual</td>\n",
              "      <td>2</td>\n",
              "      <td>0</td>\n",
              "      <td>3.0</td>\n",
              "      <td>160.0</td>\n",
              "      <td>3.254047</td>\n",
              "      <td>165.515817</td>\n",
              "      <td>163.0</td>\n",
              "      <td>168.769864</td>\n",
              "      <td>...</td>\n",
              "      <td>180</td>\n",
              "      <td>2999</td>\n",
              "      <td>700</td>\n",
              "      <td>2.745990</td>\n",
              "      <td>3.098960</td>\n",
              "      <td>5.550000</td>\n",
              "      <td>3.0</td>\n",
              "      <td>1.730166</td>\n",
              "      <td>20K_to_30K</td>\n",
              "      <td>20.820238</td>\n",
              "    </tr>\n",
              "    <tr>\n",
              "      <th>401</th>\n",
              "      <td>10401</td>\n",
              "      <td>corporate</td>\n",
              "      <td>2</td>\n",
              "      <td>0</td>\n",
              "      <td>133.0</td>\n",
              "      <td>128.0</td>\n",
              "      <td>244.003278</td>\n",
              "      <td>217.769418</td>\n",
              "      <td>261.0</td>\n",
              "      <td>461.772697</td>\n",
              "      <td>...</td>\n",
              "      <td>120</td>\n",
              "      <td>500</td>\n",
              "      <td>120</td>\n",
              "      <td>0.155789</td>\n",
              "      <td>2.658143</td>\n",
              "      <td>4.166667</td>\n",
              "      <td>2.0</td>\n",
              "      <td>20.488207</td>\n",
              "      <td>less_10K</td>\n",
              "      <td>19.922149</td>\n",
              "    </tr>\n",
              "    <tr>\n",
              "      <th>864</th>\n",
              "      <td>10864</td>\n",
              "      <td>individual</td>\n",
              "      <td>9</td>\n",
              "      <td>1</td>\n",
              "      <td>6.0</td>\n",
              "      <td>39.0</td>\n",
              "      <td>9.426406</td>\n",
              "      <td>71.216561</td>\n",
              "      <td>45.0</td>\n",
              "      <td>80.642966</td>\n",
              "      <td>...</td>\n",
              "      <td>365</td>\n",
              "      <td>99</td>\n",
              "      <td>15</td>\n",
              "      <td>4.316351</td>\n",
              "      <td>7.221566</td>\n",
              "      <td>4.109589</td>\n",
              "      <td>3.0</td>\n",
              "      <td>1.367165</td>\n",
              "      <td>10K_to_20K</td>\n",
              "      <td>19.789137</td>\n",
              "    </tr>\n",
              "    <tr>\n",
              "      <th>366</th>\n",
              "      <td>10366</td>\n",
              "      <td>individual</td>\n",
              "      <td>9</td>\n",
              "      <td>0</td>\n",
              "      <td>52.0</td>\n",
              "      <td>119.0</td>\n",
              "      <td>55.646517</td>\n",
              "      <td>149.851889</td>\n",
              "      <td>171.0</td>\n",
              "      <td>205.498406</td>\n",
              "      <td>...</td>\n",
              "      <td>28</td>\n",
              "      <td>500</td>\n",
              "      <td>120</td>\n",
              "      <td>-0.164656</td>\n",
              "      <td>2.457917</td>\n",
              "      <td>4.571429</td>\n",
              "      <td>1.0</td>\n",
              "      <td>25.397636</td>\n",
              "      <td>30K_to_50K</td>\n",
              "      <td>19.609103</td>\n",
              "    </tr>\n",
              "    <tr>\n",
              "      <th>...</th>\n",
              "      <td>...</td>\n",
              "      <td>...</td>\n",
              "      <td>...</td>\n",
              "      <td>...</td>\n",
              "      <td>...</td>\n",
              "      <td>...</td>\n",
              "      <td>...</td>\n",
              "      <td>...</td>\n",
              "      <td>...</td>\n",
              "      <td>...</td>\n",
              "      <td>...</td>\n",
              "      <td>...</td>\n",
              "      <td>...</td>\n",
              "      <td>...</td>\n",
              "      <td>...</td>\n",
              "      <td>...</td>\n",
              "      <td>...</td>\n",
              "      <td>...</td>\n",
              "      <td>...</td>\n",
              "      <td>...</td>\n",
              "      <td>...</td>\n",
              "    </tr>\n",
              "    <tr>\n",
              "      <th>702</th>\n",
              "      <td>10702</td>\n",
              "      <td>individual</td>\n",
              "      <td>5</td>\n",
              "      <td>1</td>\n",
              "      <td>189.0</td>\n",
              "      <td>19.0</td>\n",
              "      <td>196.720564</td>\n",
              "      <td>25.895688</td>\n",
              "      <td>208.0</td>\n",
              "      <td>222.616252</td>\n",
              "      <td>...</td>\n",
              "      <td>15</td>\n",
              "      <td>500</td>\n",
              "      <td>120</td>\n",
              "      <td>-3.057270</td>\n",
              "      <td>0.575094</td>\n",
              "      <td>6.600000</td>\n",
              "      <td>0.5</td>\n",
              "      <td>112.833242</td>\n",
              "      <td>50K_above</td>\n",
              "      <td>-22.479431</td>\n",
              "    </tr>\n",
              "    <tr>\n",
              "      <th>507</th>\n",
              "      <td>10507</td>\n",
              "      <td>individual</td>\n",
              "      <td>6</td>\n",
              "      <td>0</td>\n",
              "      <td>147.0</td>\n",
              "      <td>1.0</td>\n",
              "      <td>253.701518</td>\n",
              "      <td>1.989220</td>\n",
              "      <td>148.0</td>\n",
              "      <td>255.690738</td>\n",
              "      <td>...</td>\n",
              "      <td>90</td>\n",
              "      <td>99</td>\n",
              "      <td>15</td>\n",
              "      <td>0.653466</td>\n",
              "      <td>0.560603</td>\n",
              "      <td>3.333333</td>\n",
              "      <td>1.5</td>\n",
              "      <td>148.009235</td>\n",
              "      <td>50K_above</td>\n",
              "      <td>-25.017030</td>\n",
              "    </tr>\n",
              "    <tr>\n",
              "      <th>260</th>\n",
              "      <td>10260</td>\n",
              "      <td>individual</td>\n",
              "      <td>3</td>\n",
              "      <td>0</td>\n",
              "      <td>108.0</td>\n",
              "      <td>62.0</td>\n",
              "      <td>170.225437</td>\n",
              "      <td>105.609594</td>\n",
              "      <td>170.0</td>\n",
              "      <td>275.835030</td>\n",
              "      <td>...</td>\n",
              "      <td>120</td>\n",
              "      <td>99</td>\n",
              "      <td>15</td>\n",
              "      <td>-1.178604</td>\n",
              "      <td>3.955751</td>\n",
              "      <td>4.166667</td>\n",
              "      <td>2.0</td>\n",
              "      <td>116.564672</td>\n",
              "      <td>less_10K</td>\n",
              "      <td>-25.448472</td>\n",
              "    </tr>\n",
              "    <tr>\n",
              "      <th>959</th>\n",
              "      <td>10959</td>\n",
              "      <td>individual</td>\n",
              "      <td>2</td>\n",
              "      <td>0</td>\n",
              "      <td>47.0</td>\n",
              "      <td>1.0</td>\n",
              "      <td>92.678671</td>\n",
              "      <td>1.125457</td>\n",
              "      <td>48.0</td>\n",
              "      <td>93.804128</td>\n",
              "      <td>...</td>\n",
              "      <td>15</td>\n",
              "      <td>99</td>\n",
              "      <td>15</td>\n",
              "      <td>0.420076</td>\n",
              "      <td>1.001283</td>\n",
              "      <td>6.600000</td>\n",
              "      <td>0.5</td>\n",
              "      <td>226.664852</td>\n",
              "      <td>10K_to_20K</td>\n",
              "      <td>-25.775418</td>\n",
              "    </tr>\n",
              "    <tr>\n",
              "      <th>988</th>\n",
              "      <td>10988</td>\n",
              "      <td>individual</td>\n",
              "      <td>3</td>\n",
              "      <td>0</td>\n",
              "      <td>32.0</td>\n",
              "      <td>32.0</td>\n",
              "      <td>45.317454</td>\n",
              "      <td>46.691760</td>\n",
              "      <td>64.0</td>\n",
              "      <td>92.009214</td>\n",
              "      <td>...</td>\n",
              "      <td>28</td>\n",
              "      <td>999</td>\n",
              "      <td>180</td>\n",
              "      <td>-1.554518</td>\n",
              "      <td>2.632406</td>\n",
              "      <td>4.571429</td>\n",
              "      <td>1.0</td>\n",
              "      <td>199.855214</td>\n",
              "      <td>20K_to_30K</td>\n",
              "      <td>-31.237912</td>\n",
              "    </tr>\n",
              "  </tbody>\n",
              "</table>\n",
              "<p>1000 rows × 47 columns</p>\n",
              "</div>\n",
              "      <button class=\"colab-df-convert\" onclick=\"convertToInteractive('df-da4aeac3-b2c7-442e-9c59-435483b6a17b')\"\n",
              "              title=\"Convert this dataframe to an interactive table.\"\n",
              "              style=\"display:none;\">\n",
              "        \n",
              "  <svg xmlns=\"http://www.w3.org/2000/svg\" height=\"24px\"viewBox=\"0 0 24 24\"\n",
              "       width=\"24px\">\n",
              "    <path d=\"M0 0h24v24H0V0z\" fill=\"none\"/>\n",
              "    <path d=\"M18.56 5.44l.94 2.06.94-2.06 2.06-.94-2.06-.94-.94-2.06-.94 2.06-2.06.94zm-11 1L8.5 8.5l.94-2.06 2.06-.94-2.06-.94L8.5 2.5l-.94 2.06-2.06.94zm10 10l.94 2.06.94-2.06 2.06-.94-2.06-.94-.94-2.06-.94 2.06-2.06.94z\"/><path d=\"M17.41 7.96l-1.37-1.37c-.4-.4-.92-.59-1.43-.59-.52 0-1.04.2-1.43.59L10.3 9.45l-7.72 7.72c-.78.78-.78 2.05 0 2.83L4 21.41c.39.39.9.59 1.41.59.51 0 1.02-.2 1.41-.59l7.78-7.78 2.81-2.81c.8-.78.8-2.07 0-2.86zM5.41 20L4 18.59l7.72-7.72 1.47 1.35L5.41 20z\"/>\n",
              "  </svg>\n",
              "      </button>\n",
              "      \n",
              "  <style>\n",
              "    .colab-df-container {\n",
              "      display:flex;\n",
              "      flex-wrap:wrap;\n",
              "      gap: 12px;\n",
              "    }\n",
              "\n",
              "    .colab-df-convert {\n",
              "      background-color: #E8F0FE;\n",
              "      border: none;\n",
              "      border-radius: 50%;\n",
              "      cursor: pointer;\n",
              "      display: none;\n",
              "      fill: #1967D2;\n",
              "      height: 32px;\n",
              "      padding: 0 0 0 0;\n",
              "      width: 32px;\n",
              "    }\n",
              "\n",
              "    .colab-df-convert:hover {\n",
              "      background-color: #E2EBFA;\n",
              "      box-shadow: 0px 1px 2px rgba(60, 64, 67, 0.3), 0px 1px 3px 1px rgba(60, 64, 67, 0.15);\n",
              "      fill: #174EA6;\n",
              "    }\n",
              "\n",
              "    [theme=dark] .colab-df-convert {\n",
              "      background-color: #3B4455;\n",
              "      fill: #D2E3FC;\n",
              "    }\n",
              "\n",
              "    [theme=dark] .colab-df-convert:hover {\n",
              "      background-color: #434B5C;\n",
              "      box-shadow: 0px 1px 3px 1px rgba(0, 0, 0, 0.15);\n",
              "      filter: drop-shadow(0px 1px 2px rgba(0, 0, 0, 0.3));\n",
              "      fill: #FFFFFF;\n",
              "    }\n",
              "  </style>\n",
              "\n",
              "      <script>\n",
              "        const buttonEl =\n",
              "          document.querySelector('#df-da4aeac3-b2c7-442e-9c59-435483b6a17b button.colab-df-convert');\n",
              "        buttonEl.style.display =\n",
              "          google.colab.kernel.accessAllowed ? 'block' : 'none';\n",
              "\n",
              "        async function convertToInteractive(key) {\n",
              "          const element = document.querySelector('#df-da4aeac3-b2c7-442e-9c59-435483b6a17b');\n",
              "          const dataTable =\n",
              "            await google.colab.kernel.invokeFunction('convertToInteractive',\n",
              "                                                     [key], {});\n",
              "          if (!dataTable) return;\n",
              "\n",
              "          const docLinkHtml = 'Like what you see? Visit the ' +\n",
              "            '<a target=\"_blank\" href=https://colab.research.google.com/notebooks/data_table.ipynb>data table notebook</a>'\n",
              "            + ' to learn more about interactive tables.';\n",
              "          element.innerHTML = '';\n",
              "          dataTable['output_type'] = 'display_data';\n",
              "          await google.colab.output.renderOutput(dataTable, element);\n",
              "          const docLink = document.createElement('div');\n",
              "          docLink.innerHTML = docLinkHtml;\n",
              "          element.appendChild(docLink);\n",
              "        }\n",
              "      </script>\n",
              "    </div>\n",
              "  </div>\n",
              "  "
            ]
          },
          "metadata": {},
          "execution_count": 22
        }
      ]
    },
    {
      "cell_type": "code",
      "source": [
        "import scipy.stats as stats\n",
        "data1['perecentile_recharge_delay']=[stats.percentileofscore(data1[\"avg_days_bw_rchg_and_expiry\"].values,i) for i in data1['avg_days_bw_rchg_and_expiry'].values ]\n",
        "data1['perecentile_recharge_delay']"
      ],
      "metadata": {
        "colab": {
          "base_uri": "https://localhost:8080/"
        },
        "id": "FP0B1l2cCQFd",
        "outputId": "cbb57b41-10e7-46a1-f4da-0852ab41eb3c"
      },
      "execution_count": 23,
      "outputs": [
        {
          "output_type": "execute_result",
          "data": {
            "text/plain": [
              "0      53.9\n",
              "1      44.6\n",
              "2      18.4\n",
              "3      30.9\n",
              "4      74.8\n",
              "       ... \n",
              "995    24.6\n",
              "996    84.2\n",
              "997    96.2\n",
              "998    61.0\n",
              "999    61.6\n",
              "Name: perecentile_recharge_delay, Length: 1000, dtype: float64"
            ]
          },
          "metadata": {},
          "execution_count": 23
        }
      ]
    },
    {
      "cell_type": "code",
      "execution_count": 24,
      "metadata": {
        "colab": {
          "base_uri": "https://localhost:8080/",
          "height": 424
        },
        "id": "9FtD3V_RKCrX",
        "outputId": "c77d36d9-92e7-42bc-93ad-1a70676d7de4"
      },
      "outputs": [
        {
          "output_type": "execute_result",
          "data": {
            "text/plain": [
              "     perecentile_recharge_delay  avg_days_bw_rchg_and_expiry\n",
              "608                       100.0                     8.499451\n",
              "412                        99.9                     8.176130\n",
              "171                        99.8                     7.927657\n",
              "889                        99.7                     7.709917\n",
              "852                        99.6                     7.589958\n",
              "..                          ...                          ...\n",
              "189                        90.5                     3.191037\n",
              "66                         90.4                     3.167711\n",
              "537                        90.3                     3.164718\n",
              "978                        90.2                     3.151526\n",
              "281                        90.1                     3.117617\n",
              "\n",
              "[100 rows x 2 columns]"
            ],
            "text/html": [
              "\n",
              "  <div id=\"df-bfa71c4d-10ac-4c4d-96a0-7f9d0d7c244f\">\n",
              "    <div class=\"colab-df-container\">\n",
              "      <div>\n",
              "<style scoped>\n",
              "    .dataframe tbody tr th:only-of-type {\n",
              "        vertical-align: middle;\n",
              "    }\n",
              "\n",
              "    .dataframe tbody tr th {\n",
              "        vertical-align: top;\n",
              "    }\n",
              "\n",
              "    .dataframe thead th {\n",
              "        text-align: right;\n",
              "    }\n",
              "</style>\n",
              "<table border=\"1\" class=\"dataframe\">\n",
              "  <thead>\n",
              "    <tr style=\"text-align: right;\">\n",
              "      <th></th>\n",
              "      <th>perecentile_recharge_delay</th>\n",
              "      <th>avg_days_bw_rchg_and_expiry</th>\n",
              "    </tr>\n",
              "  </thead>\n",
              "  <tbody>\n",
              "    <tr>\n",
              "      <th>608</th>\n",
              "      <td>100.0</td>\n",
              "      <td>8.499451</td>\n",
              "    </tr>\n",
              "    <tr>\n",
              "      <th>412</th>\n",
              "      <td>99.9</td>\n",
              "      <td>8.176130</td>\n",
              "    </tr>\n",
              "    <tr>\n",
              "      <th>171</th>\n",
              "      <td>99.8</td>\n",
              "      <td>7.927657</td>\n",
              "    </tr>\n",
              "    <tr>\n",
              "      <th>889</th>\n",
              "      <td>99.7</td>\n",
              "      <td>7.709917</td>\n",
              "    </tr>\n",
              "    <tr>\n",
              "      <th>852</th>\n",
              "      <td>99.6</td>\n",
              "      <td>7.589958</td>\n",
              "    </tr>\n",
              "    <tr>\n",
              "      <th>...</th>\n",
              "      <td>...</td>\n",
              "      <td>...</td>\n",
              "    </tr>\n",
              "    <tr>\n",
              "      <th>189</th>\n",
              "      <td>90.5</td>\n",
              "      <td>3.191037</td>\n",
              "    </tr>\n",
              "    <tr>\n",
              "      <th>66</th>\n",
              "      <td>90.4</td>\n",
              "      <td>3.167711</td>\n",
              "    </tr>\n",
              "    <tr>\n",
              "      <th>537</th>\n",
              "      <td>90.3</td>\n",
              "      <td>3.164718</td>\n",
              "    </tr>\n",
              "    <tr>\n",
              "      <th>978</th>\n",
              "      <td>90.2</td>\n",
              "      <td>3.151526</td>\n",
              "    </tr>\n",
              "    <tr>\n",
              "      <th>281</th>\n",
              "      <td>90.1</td>\n",
              "      <td>3.117617</td>\n",
              "    </tr>\n",
              "  </tbody>\n",
              "</table>\n",
              "<p>100 rows × 2 columns</p>\n",
              "</div>\n",
              "      <button class=\"colab-df-convert\" onclick=\"convertToInteractive('df-bfa71c4d-10ac-4c4d-96a0-7f9d0d7c244f')\"\n",
              "              title=\"Convert this dataframe to an interactive table.\"\n",
              "              style=\"display:none;\">\n",
              "        \n",
              "  <svg xmlns=\"http://www.w3.org/2000/svg\" height=\"24px\"viewBox=\"0 0 24 24\"\n",
              "       width=\"24px\">\n",
              "    <path d=\"M0 0h24v24H0V0z\" fill=\"none\"/>\n",
              "    <path d=\"M18.56 5.44l.94 2.06.94-2.06 2.06-.94-2.06-.94-.94-2.06-.94 2.06-2.06.94zm-11 1L8.5 8.5l.94-2.06 2.06-.94-2.06-.94L8.5 2.5l-.94 2.06-2.06.94zm10 10l.94 2.06.94-2.06 2.06-.94-2.06-.94-.94-2.06-.94 2.06-2.06.94z\"/><path d=\"M17.41 7.96l-1.37-1.37c-.4-.4-.92-.59-1.43-.59-.52 0-1.04.2-1.43.59L10.3 9.45l-7.72 7.72c-.78.78-.78 2.05 0 2.83L4 21.41c.39.39.9.59 1.41.59.51 0 1.02-.2 1.41-.59l7.78-7.78 2.81-2.81c.8-.78.8-2.07 0-2.86zM5.41 20L4 18.59l7.72-7.72 1.47 1.35L5.41 20z\"/>\n",
              "  </svg>\n",
              "      </button>\n",
              "      \n",
              "  <style>\n",
              "    .colab-df-container {\n",
              "      display:flex;\n",
              "      flex-wrap:wrap;\n",
              "      gap: 12px;\n",
              "    }\n",
              "\n",
              "    .colab-df-convert {\n",
              "      background-color: #E8F0FE;\n",
              "      border: none;\n",
              "      border-radius: 50%;\n",
              "      cursor: pointer;\n",
              "      display: none;\n",
              "      fill: #1967D2;\n",
              "      height: 32px;\n",
              "      padding: 0 0 0 0;\n",
              "      width: 32px;\n",
              "    }\n",
              "\n",
              "    .colab-df-convert:hover {\n",
              "      background-color: #E2EBFA;\n",
              "      box-shadow: 0px 1px 2px rgba(60, 64, 67, 0.3), 0px 1px 3px 1px rgba(60, 64, 67, 0.15);\n",
              "      fill: #174EA6;\n",
              "    }\n",
              "\n",
              "    [theme=dark] .colab-df-convert {\n",
              "      background-color: #3B4455;\n",
              "      fill: #D2E3FC;\n",
              "    }\n",
              "\n",
              "    [theme=dark] .colab-df-convert:hover {\n",
              "      background-color: #434B5C;\n",
              "      box-shadow: 0px 1px 3px 1px rgba(0, 0, 0, 0.15);\n",
              "      filter: drop-shadow(0px 1px 2px rgba(0, 0, 0, 0.3));\n",
              "      fill: #FFFFFF;\n",
              "    }\n",
              "  </style>\n",
              "\n",
              "      <script>\n",
              "        const buttonEl =\n",
              "          document.querySelector('#df-bfa71c4d-10ac-4c4d-96a0-7f9d0d7c244f button.colab-df-convert');\n",
              "        buttonEl.style.display =\n",
              "          google.colab.kernel.accessAllowed ? 'block' : 'none';\n",
              "\n",
              "        async function convertToInteractive(key) {\n",
              "          const element = document.querySelector('#df-bfa71c4d-10ac-4c4d-96a0-7f9d0d7c244f');\n",
              "          const dataTable =\n",
              "            await google.colab.kernel.invokeFunction('convertToInteractive',\n",
              "                                                     [key], {});\n",
              "          if (!dataTable) return;\n",
              "\n",
              "          const docLinkHtml = 'Like what you see? Visit the ' +\n",
              "            '<a target=\"_blank\" href=https://colab.research.google.com/notebooks/data_table.ipynb>data table notebook</a>'\n",
              "            + ' to learn more about interactive tables.';\n",
              "          element.innerHTML = '';\n",
              "          dataTable['output_type'] = 'display_data';\n",
              "          await google.colab.output.renderOutput(dataTable, element);\n",
              "          const docLink = document.createElement('div');\n",
              "          docLink.innerHTML = docLinkHtml;\n",
              "          element.appendChild(docLink);\n",
              "        }\n",
              "      </script>\n",
              "    </div>\n",
              "  </div>\n",
              "  "
            ]
          },
          "metadata": {},
          "execution_count": 24
        }
      ],
      "source": [
        "new_data1 = data1[['perecentile_recharge_delay','avg_days_bw_rchg_and_expiry']].sort_values('avg_days_bw_rchg_and_expiry',ascending = False)\n",
        "new_data1.head(100)"
      ]
    },
    {
      "cell_type": "code",
      "source": [
        "df_data1=new_data1[new_data1['perecentile_recharge_delay']>90.0]\n",
        "avg_days=df_data1['avg_days_bw_rchg_and_expiry'].mean()\n",
        "avg_days"
      ],
      "metadata": {
        "colab": {
          "base_uri": "https://localhost:8080/"
        },
        "id": "iA8Me5pvC9xd",
        "outputId": "b0d62ba0-e0c1-492e-db3f-67a11e8f3471"
      },
      "execution_count": 25,
      "outputs": [
        {
          "output_type": "execute_result",
          "data": {
            "text/plain": [
              "4.686831739084899"
            ]
          },
          "metadata": {},
          "execution_count": 25
        }
      ]
    },
    {
      "cell_type": "markdown",
      "source": [
        "Here i have taken the value of recharge delay as 10."
      ],
      "metadata": {
        "id": "sAD9doxaBiI8"
      }
    },
    {
      "cell_type": "markdown",
      "source": [
        "2 -  Vashi Kumari is interested in testing some specific hypotheses on the customers'behavior. Based on the data provided to you, would you reject or fail to reject thefollowing hypotheses?\n",
        "\n",
        "a) Customers who are not ready to forego their phone numbers (mnp_flag=1)recharge earlier than the rest"
      ],
      "metadata": {
        "id": "FwCzFOVEpYjy"
      }
    },
    {
      "cell_type": "markdown",
      "source": [
        "Null hypothesis H0 = Customers who are not ready to forego their phone numbers (mnp_flag=1) recharge earlier than the rest.\n",
        "\n",
        "Alternate hypothesis H1 = Customers who are ready to forego their phone numbers (mnp_flag=0)recharge earlier than the rest."
      ],
      "metadata": {
        "id": "BsmAhCn_CDJC"
      }
    },
    {
      "cell_type": "code",
      "execution_count": 26,
      "metadata": {
        "colab": {
          "base_uri": "https://localhost:8080/"
        },
        "id": "qlPgx0aBKCrY",
        "outputId": "4ed18578-7f88-42b4-92bb-e516ed89c6be"
      },
      "outputs": [
        {
          "output_type": "stream",
          "name": "stdout",
          "text": [
            "p-value 0.4425904117815644\n",
            "We fail to reject null hypothesis\n"
          ]
        }
      ],
      "source": [
        "flag1 = data1[data1[\"mnp_flag\"] == 1]\n",
        "mnpflag_1 = flag1[\"avg_days_bw_rchg_and_expiry\"]\n",
        "\n",
        "flag0 = data1[data1[\"mnp_flag\"] == 0]\n",
        "mnpflag_0 = flag0[\"avg_days_bw_rchg_and_expiry\"]\n",
        "\n",
        "from scipy.stats import ttest_ind\n",
        "ttest,pval = ttest_ind(mnpflag_1,mnpflag_0, alternative = 'greater')\n",
        "print(\"p-value\",pval)\n",
        "if pval <0.05:\n",
        "  print(\"We reject null hypothesis\")\n",
        "else:\n",
        "  print(\"We fail to reject null hypothesis\")"
      ]
    },
    {
      "cell_type": "markdown",
      "source": [
        "We used T-test and found that the customers who do not want to forego their phone numbers recharge earlier than others is derived by failing to get null hypothesis."
      ],
      "metadata": {
        "id": "erY4CSHVC4eU"
      }
    },
    {
      "cell_type": "markdown",
      "source": [
        "2 b: Committed customers (customers with current plan validity more than last cycleplan validity) recharge earlier than the rest\n",
        "Null hypothesis H0 = Committed customers which means customers with current plan validity more than last cycle plan validity \n",
        "recharge earlier than the rest.\n",
        "\n",
        "Alternate hypothesis H1 = Customers with current plan validity less than last cycle plan validity recharge earlier than \n",
        "the rest."
      ],
      "metadata": {
        "id": "y0CbUeinrDmp"
      }
    },
    {
      "cell_type": "code",
      "source": [
        "validity_data1_0 = data1[data1[\"current_active_plan_validity\"]> data1[\"last_cycle_plan_validity\"]]\n",
        "validity_of_h0 = validity_data1_0[\"avg_days_bw_rchg_and_expiry\"]\n",
        "\n",
        "validity_data1_1 = data1[data1[\"current_active_plan_validity\"]< data1[\"last_cycle_plan_validity\"]]\n",
        "validity_of_h1 = validity_data1_1[\"avg_days_bw_rchg_and_expiry\"]\n",
        "\n",
        "from scipy.stats import ttest_ind\n",
        "ttest,pval = ttest_ind(validity_of_h1,validity_of_h0, alternative = 'greater')\n",
        "print(\"p-value\",pval)\n",
        "if pval <0.05:\n",
        "  print(\"We reject null hypothesis\")\n",
        "else:\n",
        "  print(\"We fail to reject null hypothesis\")"
      ],
      "metadata": {
        "colab": {
          "base_uri": "https://localhost:8080/"
        },
        "id": "V2zkkEGOp1Ow",
        "outputId": "1d6d11a3-d40d-4d1a-974c-6b46883c3123"
      },
      "execution_count": 27,
      "outputs": [
        {
          "output_type": "stream",
          "name": "stdout",
          "text": [
            "p-value 0.08915456038238265\n",
            "We fail to reject null hypothesis\n"
          ]
        }
      ]
    },
    {
      "cell_type": "markdown",
      "source": [
        "2 c: Customers who are not ready to forego their phone numbers (mnp_flag=1) showbetter engagement (tot_usage_mb and total_sum_duration)\n",
        "\n"
      ],
      "metadata": {
        "id": "mBpBC47VtXkh"
      }
    },
    {
      "cell_type": "code",
      "source": [
        "mnp_tot_usage_mb0= flag0['tot_usage_mb']\n",
        "mnp_tot_usage_mb1=flag1['tot_usage_mb']\n",
        "statistic, probability_value = stats.ttest_ind(mnp_tot_usage_mb0, mnp_tot_usage_mb1)\n",
        "print(\"p value\",probability_value)\n",
        "if probability_value <0.05:\n",
        "  print(\"Null hypothesis rejected, alternate hypothesis accepted\")\n",
        "else:\n",
        "  print(\"Null hypothesis failed to be rejected, alternate hypothesis rejected\")"
      ],
      "metadata": {
        "id": "YX9EUrvpp0i4",
        "outputId": "59c12d35-3b74-4e0f-ac32-d2381bb2e990",
        "colab": {
          "base_uri": "https://localhost:8080/"
        }
      },
      "execution_count": 28,
      "outputs": [
        {
          "output_type": "stream",
          "name": "stdout",
          "text": [
            "p value 0.35507111293280047\n",
            "Null hypothesis failed to be rejected, alternate hypothesis rejected\n"
          ]
        }
      ]
    },
    {
      "cell_type": "code",
      "source": [
        "mnp_total_sum_duration0=flag0['total_sum_duration']\n",
        "mnp_total_sum_duration1=flag1['total_sum_duration']\n",
        "statistic, probability_value = stats.ttest_ind(mnp_total_sum_duration0, mnp_total_sum_duration1)\n",
        "print(\"p value\",probability_value)\n",
        "if probability_value <0.05:\n",
        "  print(\"Null hypothesis rejected, alternate hypothesis accepted\")\n",
        "else:\n",
        "  print(\"Null hypothesis failed to be rejected, alternate hypothesis rejected\")"
      ],
      "metadata": {
        "id": "Jawi90Bx4hb4",
        "outputId": "1e48421e-4a05-4818-e2df-c9d1722736b7",
        "colab": {
          "base_uri": "https://localhost:8080/"
        }
      },
      "execution_count": 29,
      "outputs": [
        {
          "output_type": "stream",
          "name": "stdout",
          "text": [
            "p value 0.6605209994019128\n",
            "Null hypothesis failed to be rejected, alternate hypothesis rejected\n"
          ]
        }
      ]
    },
    {
      "cell_type": "markdown",
      "source": [
        "2 d: Promotional schemes at the time of activation (activation_offer_code) areassociated with the engagement (tot_usage_mb and total_sum_duration) of thecustomers and thus their timely recharge or recharge delay"
      ],
      "metadata": {
        "id": "3_YBqfKttbD-"
      }
    },
    {
      "cell_type": "code",
      "source": [
        "activation_plan_code_1 = data1[(data1['activation_plan_code'] == 1)]\n",
        "activation_plan_code_2 = data1[(data1['activation_plan_code'] == 2)]\n",
        "activation_plan_code_3 = data1[(data1['activation_plan_code'] == 3)]\n",
        "activation_plan_code_4 = data1[(data1['activation_plan_code'] == 4)]\n",
        "activation_plan_code_5 = data1[(data1['activation_plan_code'] == 5)]\n",
        "activation_plan_code_6 = data1[(data1['activation_plan_code'] == 6)]\n",
        "activation_plan_code_7 = data1[(data1['activation_plan_code'] == 7)]\n",
        "activation_plan_code_8 = data1[(data1['activation_plan_code'] == 8)]\n",
        "activation_plan_code_9 = data1[(data1['activation_plan_code'] == 9)]\n",
        "activation_plan_code_10 = data1[(data1['activation_plan_code'] == 10)]"
      ],
      "metadata": {
        "id": "J18tHztEtcYx"
      },
      "execution_count": 61,
      "outputs": []
    },
    {
      "cell_type": "code",
      "source": [
        "f_oneway(activation_plan_code_1['tot_usage_mb'], activation_plan_code_2['tot_usage_mb'], activation_plan_code_3['tot_usage_mb'],\n",
        "         activation_plan_code_4['tot_usage_mb'], activation_plan_code_5['tot_usage_mb'], activation_plan_code_6['tot_usage_mb'],\n",
        "         activation_plan_code_7['tot_usage_mb'], activation_plan_code_8['tot_usage_mb'], activation_plan_code_9['tot_usage_mb'],\n",
        "         activation_plan_code_10['tot_usage_mb'])"
      ],
      "metadata": {
        "colab": {
          "base_uri": "https://localhost:8080/"
        },
        "id": "kBM8CTW5HEnq",
        "outputId": "20f563ce-a8c8-48bc-85fb-8e78efb8e3b5"
      },
      "execution_count": 64,
      "outputs": [
        {
          "output_type": "execute_result",
          "data": {
            "text/plain": [
              "F_onewayResult(statistic=0.4996121521802118, pvalue=0.8753710777874031)"
            ]
          },
          "metadata": {},
          "execution_count": 64
        }
      ]
    },
    {
      "cell_type": "code",
      "source": [
        "pval = 0.8753710777874031\n",
        "\n",
        "if pval <0.05:\n",
        "  print(\"We reject null hypothesis\")\n",
        "else:\n",
        "  print(\"We fail to reject null hypothesis\")"
      ],
      "metadata": {
        "colab": {
          "base_uri": "https://localhost:8080/"
        },
        "id": "-r5FQWmXIJY2",
        "outputId": "7abdf2ab-8a3e-42f1-b191-549036c2be7e"
      },
      "execution_count": 65,
      "outputs": [
        {
          "output_type": "stream",
          "name": "stdout",
          "text": [
            "We fail to reject null hypothesis\n"
          ]
        }
      ]
    },
    {
      "cell_type": "code",
      "source": [
        "f_oneway(activation_plan_code_1['total_sum_duration'], activation_plan_code_2['total_sum_duration'], \n",
        "         activation_plan_code_3['total_sum_duration'], activation_plan_code_4['total_sum_duration'], \n",
        "         activation_plan_code_5['total_sum_duration'], activation_plan_code_6['total_sum_duration'], \n",
        "         activation_plan_code_7['total_sum_duration'], activation_plan_code_8['total_sum_duration'],\n",
        "         activation_plan_code_9['total_sum_duration'], activation_plan_code_10['total_sum_duration'])\n"
      ],
      "metadata": {
        "colab": {
          "base_uri": "https://localhost:8080/"
        },
        "id": "cC8XtXwSITyh",
        "outputId": "48637b51-9f59-4ee0-958b-395de6afe363"
      },
      "execution_count": 66,
      "outputs": [
        {
          "output_type": "execute_result",
          "data": {
            "text/plain": [
              "F_onewayResult(statistic=0.7055170879217786, pvalue=0.7042654047366004)"
            ]
          },
          "metadata": {},
          "execution_count": 66
        }
      ]
    },
    {
      "cell_type": "code",
      "source": [
        "pval = 0.7042654047366004\n",
        "\n",
        "if pval <0.05:\n",
        "  print(\"We reject null hypothesis\")\n",
        "else:\n",
        "  print(\"We fail to reject null hypothesis\")"
      ],
      "metadata": {
        "colab": {
          "base_uri": "https://localhost:8080/"
        },
        "id": "v4IPrC50IXhE",
        "outputId": "2cd11669-7d56-4aa1-b132-60974fdff0c1"
      },
      "execution_count": 67,
      "outputs": [
        {
          "output_type": "stream",
          "name": "stdout",
          "text": [
            "We fail to reject null hypothesis\n"
          ]
        }
      ]
    },
    {
      "cell_type": "markdown",
      "source": [
        "2 e: Customers with better experience (implicit - pcnt_dropped_calls or explicit -cnt_open_qrc) recharge earlier than the rest\n",
        "\n",
        "Null hypothesis = Customers with better experience (in terms of percentage call drops) recharge earlier than the rest.\n",
        "\n",
        "Alternate hypothesis = Customers with not good experience (in terms of percentage call drops) recharge earlier than the rest."
      ],
      "metadata": {
        "id": "EdGyJbgNtdFU"
      }
    },
    {
      "cell_type": "code",
      "source": [
        "better_exp = data1.sort_values(by = [\"pcnt_dropped_calls\"], ascending = True) \n",
        "better_sorted = better_exp[:300]\n",
        "worst_sorted = better_exp[300:]"
      ],
      "metadata": {
        "id": "5N789KzU9Paf"
      },
      "execution_count": 68,
      "outputs": []
    },
    {
      "cell_type": "code",
      "source": [
        "better_recharge_exp=better_sorted[\"avg_days_bw_rchg_and_expiry\"]"
      ],
      "metadata": {
        "id": "yWsqxQTmQ8AF"
      },
      "execution_count": 69,
      "outputs": []
    },
    {
      "cell_type": "code",
      "source": [
        "worst_recharge_exp=worst_sorted[\"avg_days_bw_rchg_and_expiry\"]"
      ],
      "metadata": {
        "id": "oiB4bufdRAS5"
      },
      "execution_count": 70,
      "outputs": []
    },
    {
      "cell_type": "code",
      "source": [
        "ttest,pval = ttest_ind(better_recharge_exp,worst_recharge_exp, alternative = 'greater')\n",
        "print(\"p-value\",pval)\n",
        "if pval <0.05:\n",
        "  print(\"We reject null hypothesis\")\n",
        "else:\n",
        "  print(\"We fail to reject null hypothesis\")"
      ],
      "metadata": {
        "colab": {
          "base_uri": "https://localhost:8080/"
        },
        "id": "TL68YIgrRDch",
        "outputId": "d8b9e165-9c18-4e0c-e833-01c5176acddd"
      },
      "execution_count": 71,
      "outputs": [
        {
          "output_type": "stream",
          "name": "stdout",
          "text": [
            "p-value 0.24684895966353393\n",
            "We fail to reject null hypothesis\n"
          ]
        }
      ]
    },
    {
      "cell_type": "markdown",
      "source": [
        "Here we are failed to reject null hypothesis that means that customer which have less call drops recharge eairler than the rest."
      ],
      "metadata": {
        "id": "J-Kg4zstRHmR"
      }
    },
    {
      "cell_type": "markdown",
      "source": [
        "2 f: Customers who complain (poor explicit experience - cnt_open_qrc) areassociated with having poor implicit network experience (pcnt_dropped_calls andany other network quality or coverage feature)\n",
        "\n",
        "Null hypothesis H0 = Customers who complain about poor explicit experience are associated with having poor implicit network \n",
        "experience.\n",
        "\n",
        "Alternate hypothesis H1 = Customers who complain about poor explicit experience are not associated with having poor\n",
        "implicit network experience."
      ],
      "metadata": {
        "id": "xMKggiiRtfpt"
      }
    },
    {
      "cell_type": "code",
      "source": [
        "total_count = int(data1[\"cnt_open_qrc\"].count()/2)\n",
        "\n",
        "first_half_count = data1.sort_values(\"cnt_open_qrc\", ascending = True)[:total_count]\n",
        "second_half_count = data1.sort_values(\"cnt_open_qrc\", ascending = False)[:total_count]\n",
        "\n",
        "\n",
        "stat, pvalue = scipy.stats.ttest_ind( first_half_count[\"pcnt_dropped_calls\"],second_half_count[\"pcnt_dropped_calls\"], alternative=\"two-sided\")\n",
        "print(pvalue)\n",
        "\n",
        "\n"
      ],
      "metadata": {
        "id": "fZWgiCECthG-",
        "colab": {
          "base_uri": "https://localhost:8080/"
        },
        "outputId": "e101b47c-2a83-4be3-e8f7-e93cfd05d644"
      },
      "execution_count": 73,
      "outputs": [
        {
          "output_type": "stream",
          "name": "stdout",
          "text": [
            "2.555926202885968e-24\n"
          ]
        }
      ]
    },
    {
      "cell_type": "code",
      "source": [
        "if pvalue <= 0.05:\n",
        "    print(\"Null hypothesis rejected, Alternative hypothesis accepted with\", pvalue)\n",
        "else:\n",
        "    print(\"Null hypothesis failed to be rejected, Alternative hypothesis rejected with\", pvalue)"
      ],
      "metadata": {
        "colab": {
          "base_uri": "https://localhost:8080/"
        },
        "id": "AlXqOjAuR2QD",
        "outputId": "9d0d7ab3-6fd2-4f3c-ca28-e31e21055bd4"
      },
      "execution_count": 75,
      "outputs": [
        {
          "output_type": "stream",
          "name": "stdout",
          "text": [
            "Null hypothesis rejected, Alternative hypothesis accepted with 2.555926202885968e-24\n"
          ]
        }
      ]
    },
    {
      "cell_type": "markdown",
      "source": [
        "Here, the alternative hypothesis is accepted and our null hypothesis is rejected, indicating that a customer's complaints about a poor explicit experience are not always related to the performance of the network or the proportion of dropped calls. Therefore, we can conclude that complaints regarding the explicit experience are unrelated to network problems. customer encountering more problems due to subpar explicit knowledge."
      ],
      "metadata": {
        "id": "LzCRVDbcSRbZ"
      }
    },
    {
      "cell_type": "markdown",
      "source": [
        "3 a: One of the main interests for the company is to predict recharge delay (which could beconsidered a continuous outcome) of each customer, that is on which day before or afterthe plan expiration the customer will do their next recharge, based on historical data.Ghansoli Raja has asked you do deliver a report based on a model for such predictiveeffort, given your acclaimed expertise on the field."
      ],
      "metadata": {
        "id": "zj_ImSrvtikp"
      }
    },
    {
      "cell_type": "code",
      "source": [
        "data_df.isnull().any()"
      ],
      "metadata": {
        "colab": {
          "base_uri": "https://localhost:8080/"
        },
        "id": "8lPgFWq3tjuW",
        "outputId": "43dce7a3-b869-4aec-bdbe-59ccbbd366bf"
      },
      "execution_count": 30,
      "outputs": [
        {
          "output_type": "execute_result",
          "data": {
            "text/plain": [
              "customer_id                          False\n",
              "ownership                            False\n",
              "activation_plan_code                 False\n",
              "mnp_flag                             False\n",
              "calls_incoming_cnt                   False\n",
              "calls_outgoing_cnt                   False\n",
              "calls_incoming_duration              False\n",
              "calls_outgoing_duration              False\n",
              "total_call_count                     False\n",
              "total_sum_duration                   False\n",
              "tot_usage_mb                         False\n",
              "upload_usage_mb                      False\n",
              "download_usage_mb                    False\n",
              "days_since_latch                     False\n",
              "cnt_open_qrc                         False\n",
              "avg_days_to_close                     True\n",
              "cnt_call_drops                       False\n",
              "pcnt_dropped_calls                   False\n",
              "rsrp_voice_pcnt_poor_duration        False\n",
              "rsrp_data_pcnt_poor_duration         False\n",
              "mean_cqi_voice_pcnt_poor_duration    False\n",
              "sinr_voice_pcnt_poor_duration        False\n",
              "sinr_data_pcnt_poor_duration         False\n",
              "age_on_network                       False\n",
              "cnt_connections                      False\n",
              "current_plan_code                    False\n",
              "cnt_recharges_made                   False\n",
              "total_payment_made                   False\n",
              "cnt_main_plans_taken                 False\n",
              "total_main_plans_mrp                 False\n",
              "cnt_addon_plans_taken                False\n",
              "total_addon_plans_mrp                False\n",
              "cnt_rchg_offline                     False\n",
              "cnt_rchg_online                      False\n",
              "cnt_rchg_on_or_before_expiry         False\n",
              "cnt_rchg_after_expiry                False\n",
              "current_active_plan_mrp              False\n",
              "current_active_plan_validity         False\n",
              "last_cycle_plan_mrp                  False\n",
              "last_cycle_plan_validity             False\n",
              "avg_days_bw_rchg_and_expiry          False\n",
              "stddev_days_bw_rchg_and_expiry       False\n",
              "price_per_day                        False\n",
              "gb_per_day_quota                     False\n",
              "pcnt_quota_used                      False\n",
              "device_avg_asp                       False\n",
              "recharge_delay                       False\n",
              "perecentile_recharge_delay           False\n",
              "dtype: bool"
            ]
          },
          "metadata": {},
          "execution_count": 30
        }
      ]
    },
    {
      "cell_type": "code",
      "source": [
        "data_df['avg_days_to_close'].describe()"
      ],
      "metadata": {
        "colab": {
          "base_uri": "https://localhost:8080/"
        },
        "id": "3WS9AMgEGcX8",
        "outputId": "4df1cd9d-b526-4dad-9006-d5cfb7a191f6"
      },
      "execution_count": 31,
      "outputs": [
        {
          "output_type": "execute_result",
          "data": {
            "text/plain": [
              "count    979.000000\n",
              "mean       8.987743\n",
              "std        3.210389\n",
              "min        4.000000\n",
              "25%        6.000000\n",
              "50%        9.000000\n",
              "75%       12.000000\n",
              "max       14.000000\n",
              "Name: avg_days_to_close, dtype: float64"
            ]
          },
          "metadata": {},
          "execution_count": 31
        }
      ]
    },
    {
      "cell_type": "code",
      "source": [
        "data_df['avg_days_to_close'].skew(axis=0 , skipna= True )"
      ],
      "metadata": {
        "colab": {
          "base_uri": "https://localhost:8080/"
        },
        "id": "BS5a3co4GkVD",
        "outputId": "d40cc7a8-946f-480b-9080-af0913465b19"
      },
      "execution_count": 32,
      "outputs": [
        {
          "output_type": "execute_result",
          "data": {
            "text/plain": [
              "0.01983828390406494"
            ]
          },
          "metadata": {},
          "execution_count": 32
        }
      ]
    },
    {
      "cell_type": "code",
      "source": [
        "data_df['avg_days_to_close'].fillna(data_df['avg_days_to_close'].median() , inplace= True )"
      ],
      "metadata": {
        "id": "m3RQl2uMGuux"
      },
      "execution_count": 33,
      "outputs": []
    },
    {
      "cell_type": "code",
      "source": [
        "data_df.isnull().any()"
      ],
      "metadata": {
        "colab": {
          "base_uri": "https://localhost:8080/"
        },
        "id": "imJCuIbWG4E1",
        "outputId": "78c2e592-4fdf-4f4e-882a-2325c36285a6"
      },
      "execution_count": 34,
      "outputs": [
        {
          "output_type": "execute_result",
          "data": {
            "text/plain": [
              "customer_id                          False\n",
              "ownership                            False\n",
              "activation_plan_code                 False\n",
              "mnp_flag                             False\n",
              "calls_incoming_cnt                   False\n",
              "calls_outgoing_cnt                   False\n",
              "calls_incoming_duration              False\n",
              "calls_outgoing_duration              False\n",
              "total_call_count                     False\n",
              "total_sum_duration                   False\n",
              "tot_usage_mb                         False\n",
              "upload_usage_mb                      False\n",
              "download_usage_mb                    False\n",
              "days_since_latch                     False\n",
              "cnt_open_qrc                         False\n",
              "avg_days_to_close                    False\n",
              "cnt_call_drops                       False\n",
              "pcnt_dropped_calls                   False\n",
              "rsrp_voice_pcnt_poor_duration        False\n",
              "rsrp_data_pcnt_poor_duration         False\n",
              "mean_cqi_voice_pcnt_poor_duration    False\n",
              "sinr_voice_pcnt_poor_duration        False\n",
              "sinr_data_pcnt_poor_duration         False\n",
              "age_on_network                       False\n",
              "cnt_connections                      False\n",
              "current_plan_code                    False\n",
              "cnt_recharges_made                   False\n",
              "total_payment_made                   False\n",
              "cnt_main_plans_taken                 False\n",
              "total_main_plans_mrp                 False\n",
              "cnt_addon_plans_taken                False\n",
              "total_addon_plans_mrp                False\n",
              "cnt_rchg_offline                     False\n",
              "cnt_rchg_online                      False\n",
              "cnt_rchg_on_or_before_expiry         False\n",
              "cnt_rchg_after_expiry                False\n",
              "current_active_plan_mrp              False\n",
              "current_active_plan_validity         False\n",
              "last_cycle_plan_mrp                  False\n",
              "last_cycle_plan_validity             False\n",
              "avg_days_bw_rchg_and_expiry          False\n",
              "stddev_days_bw_rchg_and_expiry       False\n",
              "price_per_day                        False\n",
              "gb_per_day_quota                     False\n",
              "pcnt_quota_used                      False\n",
              "device_avg_asp                       False\n",
              "recharge_delay                       False\n",
              "perecentile_recharge_delay           False\n",
              "dtype: bool"
            ]
          },
          "metadata": {},
          "execution_count": 34
        }
      ]
    },
    {
      "cell_type": "code",
      "source": [
        "data_df.dtypes"
      ],
      "metadata": {
        "colab": {
          "base_uri": "https://localhost:8080/"
        },
        "id": "gQ_A9BhbG9D1",
        "outputId": "36867127-f0c4-4290-b0e0-63a2ef4cdb9a"
      },
      "execution_count": 35,
      "outputs": [
        {
          "output_type": "execute_result",
          "data": {
            "text/plain": [
              "customer_id                            int64\n",
              "ownership                             object\n",
              "activation_plan_code                   int64\n",
              "mnp_flag                               int64\n",
              "calls_incoming_cnt                   float64\n",
              "calls_outgoing_cnt                   float64\n",
              "calls_incoming_duration              float64\n",
              "calls_outgoing_duration              float64\n",
              "total_call_count                     float64\n",
              "total_sum_duration                   float64\n",
              "tot_usage_mb                         float64\n",
              "upload_usage_mb                      float64\n",
              "download_usage_mb                    float64\n",
              "days_since_latch                       int64\n",
              "cnt_open_qrc                           int64\n",
              "avg_days_to_close                    float64\n",
              "cnt_call_drops                       float64\n",
              "pcnt_dropped_calls                   float64\n",
              "rsrp_voice_pcnt_poor_duration        float64\n",
              "rsrp_data_pcnt_poor_duration         float64\n",
              "mean_cqi_voice_pcnt_poor_duration    float64\n",
              "sinr_voice_pcnt_poor_duration        float64\n",
              "sinr_data_pcnt_poor_duration         float64\n",
              "age_on_network                         int64\n",
              "cnt_connections                        int64\n",
              "current_plan_code                      int64\n",
              "cnt_recharges_made                     int64\n",
              "total_payment_made                   float64\n",
              "cnt_main_plans_taken                   int64\n",
              "total_main_plans_mrp                 float64\n",
              "cnt_addon_plans_taken                  int64\n",
              "total_addon_plans_mrp                float64\n",
              "cnt_rchg_offline                       int64\n",
              "cnt_rchg_online                        int64\n",
              "cnt_rchg_on_or_before_expiry         float64\n",
              "cnt_rchg_after_expiry                float64\n",
              "current_active_plan_mrp                int64\n",
              "current_active_plan_validity           int64\n",
              "last_cycle_plan_mrp                    int64\n",
              "last_cycle_plan_validity               int64\n",
              "avg_days_bw_rchg_and_expiry          float64\n",
              "stddev_days_bw_rchg_and_expiry       float64\n",
              "price_per_day                        float64\n",
              "gb_per_day_quota                     float64\n",
              "pcnt_quota_used                      float64\n",
              "device_avg_asp                        object\n",
              "recharge_delay                       float64\n",
              "perecentile_recharge_delay           float64\n",
              "dtype: object"
            ]
          },
          "metadata": {},
          "execution_count": 35
        }
      ]
    },
    {
      "cell_type": "code",
      "source": [
        "data_df['ownership'].unique()"
      ],
      "metadata": {
        "colab": {
          "base_uri": "https://localhost:8080/"
        },
        "id": "9nixLxYJHJdL",
        "outputId": "3d46bb4b-ba33-47e0-f341-8f09ffee4490"
      },
      "execution_count": 36,
      "outputs": [
        {
          "output_type": "execute_result",
          "data": {
            "text/plain": [
              "array(['individual', 'corporate'], dtype=object)"
            ]
          },
          "metadata": {},
          "execution_count": 36
        }
      ]
    },
    {
      "cell_type": "code",
      "source": [
        "data_df['device_avg_asp'].unique()"
      ],
      "metadata": {
        "colab": {
          "base_uri": "https://localhost:8080/"
        },
        "id": "kzwb0msWHQWS",
        "outputId": "92496a93-075f-4173-bfab-457af0031c61"
      },
      "execution_count": 37,
      "outputs": [
        {
          "output_type": "execute_result",
          "data": {
            "text/plain": [
              "array(['10K_to_20K', '20K_to_30K', '30K_to_50K', 'less_10K', '50K_above'],\n",
              "      dtype=object)"
            ]
          },
          "metadata": {},
          "execution_count": 37
        }
      ]
    },
    {
      "cell_type": "code",
      "source": [
        "data_df = pd.get_dummies(data=data_df, drop_first=True)\n",
        "data_df[['ownership_individual', 'device_avg_asp_20K_to_30K','device_avg_asp_30K_to_50K','device_avg_asp_50K_above','device_avg_asp_less_10K']] = data_df[['ownership_individual', 'device_avg_asp_20K_to_30K','device_avg_asp_30K_to_50K','device_avg_asp_50K_above','device_avg_asp_less_10K']].astype(int)\n",
        "data_df.dtypes"
      ],
      "metadata": {
        "colab": {
          "base_uri": "https://localhost:8080/"
        },
        "id": "gfyp1QSuHhYv",
        "outputId": "dac4f57b-8dbd-4528-a350-2027718bad03"
      },
      "execution_count": 38,
      "outputs": [
        {
          "output_type": "execute_result",
          "data": {
            "text/plain": [
              "customer_id                            int64\n",
              "activation_plan_code                   int64\n",
              "mnp_flag                               int64\n",
              "calls_incoming_cnt                   float64\n",
              "calls_outgoing_cnt                   float64\n",
              "calls_incoming_duration              float64\n",
              "calls_outgoing_duration              float64\n",
              "total_call_count                     float64\n",
              "total_sum_duration                   float64\n",
              "tot_usage_mb                         float64\n",
              "upload_usage_mb                      float64\n",
              "download_usage_mb                    float64\n",
              "days_since_latch                       int64\n",
              "cnt_open_qrc                           int64\n",
              "avg_days_to_close                    float64\n",
              "cnt_call_drops                       float64\n",
              "pcnt_dropped_calls                   float64\n",
              "rsrp_voice_pcnt_poor_duration        float64\n",
              "rsrp_data_pcnt_poor_duration         float64\n",
              "mean_cqi_voice_pcnt_poor_duration    float64\n",
              "sinr_voice_pcnt_poor_duration        float64\n",
              "sinr_data_pcnt_poor_duration         float64\n",
              "age_on_network                         int64\n",
              "cnt_connections                        int64\n",
              "current_plan_code                      int64\n",
              "cnt_recharges_made                     int64\n",
              "total_payment_made                   float64\n",
              "cnt_main_plans_taken                   int64\n",
              "total_main_plans_mrp                 float64\n",
              "cnt_addon_plans_taken                  int64\n",
              "total_addon_plans_mrp                float64\n",
              "cnt_rchg_offline                       int64\n",
              "cnt_rchg_online                        int64\n",
              "cnt_rchg_on_or_before_expiry         float64\n",
              "cnt_rchg_after_expiry                float64\n",
              "current_active_plan_mrp                int64\n",
              "current_active_plan_validity           int64\n",
              "last_cycle_plan_mrp                    int64\n",
              "last_cycle_plan_validity               int64\n",
              "avg_days_bw_rchg_and_expiry          float64\n",
              "stddev_days_bw_rchg_and_expiry       float64\n",
              "price_per_day                        float64\n",
              "gb_per_day_quota                     float64\n",
              "pcnt_quota_used                      float64\n",
              "recharge_delay                       float64\n",
              "perecentile_recharge_delay           float64\n",
              "ownership_individual                   int64\n",
              "device_avg_asp_20K_to_30K              int64\n",
              "device_avg_asp_30K_to_50K              int64\n",
              "device_avg_asp_50K_above               int64\n",
              "device_avg_asp_less_10K                int64\n",
              "dtype: object"
            ]
          },
          "metadata": {},
          "execution_count": 38
        }
      ]
    },
    {
      "cell_type": "code",
      "source": [
        "data_df.dtypes"
      ],
      "metadata": {
        "colab": {
          "base_uri": "https://localhost:8080/"
        },
        "id": "ihXA0gOSHhOz",
        "outputId": "fb4f72fd-22d1-4133-c9aa-713a4479053a"
      },
      "execution_count": 39,
      "outputs": [
        {
          "output_type": "execute_result",
          "data": {
            "text/plain": [
              "customer_id                            int64\n",
              "activation_plan_code                   int64\n",
              "mnp_flag                               int64\n",
              "calls_incoming_cnt                   float64\n",
              "calls_outgoing_cnt                   float64\n",
              "calls_incoming_duration              float64\n",
              "calls_outgoing_duration              float64\n",
              "total_call_count                     float64\n",
              "total_sum_duration                   float64\n",
              "tot_usage_mb                         float64\n",
              "upload_usage_mb                      float64\n",
              "download_usage_mb                    float64\n",
              "days_since_latch                       int64\n",
              "cnt_open_qrc                           int64\n",
              "avg_days_to_close                    float64\n",
              "cnt_call_drops                       float64\n",
              "pcnt_dropped_calls                   float64\n",
              "rsrp_voice_pcnt_poor_duration        float64\n",
              "rsrp_data_pcnt_poor_duration         float64\n",
              "mean_cqi_voice_pcnt_poor_duration    float64\n",
              "sinr_voice_pcnt_poor_duration        float64\n",
              "sinr_data_pcnt_poor_duration         float64\n",
              "age_on_network                         int64\n",
              "cnt_connections                        int64\n",
              "current_plan_code                      int64\n",
              "cnt_recharges_made                     int64\n",
              "total_payment_made                   float64\n",
              "cnt_main_plans_taken                   int64\n",
              "total_main_plans_mrp                 float64\n",
              "cnt_addon_plans_taken                  int64\n",
              "total_addon_plans_mrp                float64\n",
              "cnt_rchg_offline                       int64\n",
              "cnt_rchg_online                        int64\n",
              "cnt_rchg_on_or_before_expiry         float64\n",
              "cnt_rchg_after_expiry                float64\n",
              "current_active_plan_mrp                int64\n",
              "current_active_plan_validity           int64\n",
              "last_cycle_plan_mrp                    int64\n",
              "last_cycle_plan_validity               int64\n",
              "avg_days_bw_rchg_and_expiry          float64\n",
              "stddev_days_bw_rchg_and_expiry       float64\n",
              "price_per_day                        float64\n",
              "gb_per_day_quota                     float64\n",
              "pcnt_quota_used                      float64\n",
              "recharge_delay                       float64\n",
              "perecentile_recharge_delay           float64\n",
              "ownership_individual                   int64\n",
              "device_avg_asp_20K_to_30K              int64\n",
              "device_avg_asp_30K_to_50K              int64\n",
              "device_avg_asp_50K_above               int64\n",
              "device_avg_asp_less_10K                int64\n",
              "dtype: object"
            ]
          },
          "metadata": {},
          "execution_count": 39
        }
      ]
    },
    {
      "cell_type": "code",
      "source": [
        "plt.hist(data_df['avg_days_bw_rchg_and_expiry'],  histtype='bar', rwidth = 0.8)"
      ],
      "metadata": {
        "colab": {
          "base_uri": "https://localhost:8080/",
          "height": 356
        },
        "id": "yVNt4hrzIElq",
        "outputId": "8eca61d2-f6c2-4e93-c8b8-b07c112a930d"
      },
      "execution_count": 40,
      "outputs": [
        {
          "output_type": "execute_result",
          "data": {
            "text/plain": [
              "(array([  2.,   6.,  20.,  30., 138., 354., 280., 123.,  33.,  14.]),\n",
              " array([-12.19756665, -10.12786485,  -8.05816306,  -5.98846126,\n",
              "         -3.91875946,  -1.84905766,   0.22064413,   2.29034593,\n",
              "          4.36004773,   6.42974952,   8.49945132]),\n",
              " <a list of 10 Patch objects>)"
            ]
          },
          "metadata": {},
          "execution_count": 40
        },
        {
          "output_type": "display_data",
          "data": {
            "text/plain": [
              "<Figure size 432x288 with 1 Axes>"
            ],
            "image/png": "[encoded data removed]"
          },
          "metadata": {
            "needs_background": "light"
          }
        }
      ]
    },
    {
      "cell_type": "code",
      "source": [
        "plt.hist(data_df['recharge_delay'],  histtype='bar', rwidth = 0.8)"
      ],
      "metadata": {
        "colab": {
          "base_uri": "https://localhost:8080/",
          "height": 356
        },
        "id": "NI_AGeLJHhDZ",
        "outputId": "2afb9769-6bdb-4e0a-89b1-9429778c2f27"
      },
      "execution_count": 41,
      "outputs": [
        {
          "output_type": "execute_result",
          "data": {
            "text/plain": [
              "(array([  3.,   6.,  42., 127., 256., 314., 191.,  50.,  10.,   1.]),\n",
              " array([-31.23791168, -25.1590521 , -19.08019252, -13.00133294,\n",
              "         -6.92247336,  -0.84361378,   5.2352458 ,  11.31410538,\n",
              "         17.39296496,  23.47182454,  29.55068412]),\n",
              " <a list of 10 Patch objects>)"
            ]
          },
          "metadata": {},
          "execution_count": 41
        },
        {
          "output_type": "display_data",
          "data": {
            "text/plain": [
              "<Figure size 432x288 with 1 Axes>"
            ],
            "image/png": "[encoded data removed]"
          },
          "metadata": {
            "needs_background": "light"
          }
        }
      ]
    },
    {
      "cell_type": "code",
      "source": [
        "data_df['recharge_delay'].skew(axis=0 , skipna= True )"
      ],
      "metadata": {
        "colab": {
          "base_uri": "https://localhost:8080/"
        },
        "id": "2OIUss1RHg2v",
        "outputId": "e38b4b7e-34bd-4c48-f7fe-44e19fae19f0"
      },
      "execution_count": 42,
      "outputs": [
        {
          "output_type": "execute_result",
          "data": {
            "text/plain": [
              "-0.22901993506290635"
            ]
          },
          "metadata": {},
          "execution_count": 42
        }
      ]
    },
    {
      "cell_type": "code",
      "source": [
        "# figure1 = plt.figure(figsize =(25, 5))\n",
        "b_p=sns.boxplot(data=data_df['recharge_delay'])"
      ],
      "metadata": {
        "colab": {
          "base_uri": "https://localhost:8080/",
          "height": 265
        },
        "id": "Ydl3IZsrIcCc",
        "outputId": "4966a3bd-b980-4d92-a3f6-35fd550a1328"
      },
      "execution_count": 43,
      "outputs": [
        {
          "output_type": "display_data",
          "data": {
            "text/plain": [
              "<Figure size 432x288 with 1 Axes>"
            ],
            "image/png": "[encoded data removed]"
          },
          "metadata": {
            "needs_background": "light"
          }
        }
      ]
    },
    {
      "cell_type": "code",
      "source": [
        "from scipy import stats\n",
        "import numpy as np\n",
        " \n",
        "z_score = np.abs(stats.zscore(data_df['recharge_delay']))\n",
        "\n",
        "a_z_score = np.where(z_score>2)\n",
        "print(a_z_score)\n",
        "data_new = data_df.drop(a_z_score[0] , inplace =False)"
      ],
      "metadata": {
        "colab": {
          "base_uri": "https://localhost:8080/"
        },
        "id": "c7yC4SUuIb5G",
        "outputId": "e888317c-e427-4d7d-f1ac-9d72be00c98d"
      },
      "execution_count": 44,
      "outputs": [
        {
          "output_type": "stream",
          "name": "stdout",
          "text": [
            "(array([ 15,  39,  69,  73,  99, 118, 143, 177, 216, 225, 244, 255, 260,\n",
            "       315, 329, 340, 355, 365, 366, 372, 394, 401, 403, 416, 418, 423,\n",
            "       453, 507, 514, 702, 710, 711, 717, 749, 765, 770, 806, 820, 864,\n",
            "       938, 959, 968, 974, 988, 992]),)\n"
          ]
        }
      ]
    },
    {
      "cell_type": "code",
      "source": [
        "figure1 = plt.figure(figsize =(15, 5))\n",
        "b_p=sns.boxplot(data=data_df['recharge_delay'])"
      ],
      "metadata": {
        "colab": {
          "base_uri": "https://localhost:8080/",
          "height": 320
        },
        "id": "xEWpyiyIIbwl",
        "outputId": "a2a76f67-a5a8-4c15-a697-8f81df551ada"
      },
      "execution_count": 45,
      "outputs": [
        {
          "output_type": "display_data",
          "data": {
            "text/plain": [
              "<Figure size 1080x360 with 1 Axes>"
            ],
            "image/png": "[encoded data removed]"
          },
          "metadata": {
            "needs_background": "light"
          }
        }
      ]
    },
    {
      "cell_type": "code",
      "source": [
        "#method 2 for outlier \n",
        "\n",
        "Q1 = np.percentile(data_df['recharge_delay'], 25,\n",
        "                   interpolation = 'midpoint')\n",
        " \n",
        "Q3 = np.percentile(data_df['recharge_delay'], 75,\n",
        "                   interpolation = 'midpoint')\n",
        "IQR = Q3 - Q1\n",
        " \n",
        "print(\"Old Shape: \", data_df.shape)\n",
        " \n",
        "# Upper bound\n",
        "upper = np.where(data_df['recharge_delay'] >= (Q3+1.5*IQR))\n",
        "# Lower bound\n",
        "lower = np.where(data_df['recharge_delay'] <= (Q1-1.5*IQR))\n",
        " \n",
        "''' Removing the Outliers '''\n",
        "data_df.drop(upper[0], inplace = True)\n",
        "data_df.drop(lower[0], inplace = True)\n",
        " \n",
        "print(\"New Shape: \", data_df.shape)"
      ],
      "metadata": {
        "colab": {
          "base_uri": "https://localhost:8080/"
        },
        "id": "zHH5jInrKP3X",
        "outputId": "6f33781f-f7d9-4b43-a78b-40b62cd8030a"
      },
      "execution_count": 46,
      "outputs": [
        {
          "output_type": "stream",
          "name": "stdout",
          "text": [
            "Old Shape:  (1000, 51)\n",
            "New Shape:  (990, 51)\n"
          ]
        }
      ]
    },
    {
      "cell_type": "code",
      "source": [
        "import statsmodels.formula.api as smf\n",
        "import statsmodels.api as sm\n",
        "from sklearn.model_selection import train_test_split\n",
        "\n",
        "x=data_df\n",
        "x = sm.add_constant(x)\n",
        "y = data_df['recharge_delay']\n",
        "train_x_raw, test_x_raw , train_y_raw, test_y_raw = train_test_split(x ,y ,train_size=0.8,random_state=123)\n",
        "\n",
        "lmod_rawdata = sm.OLS(train_y_raw, train_x_raw).fit()\n",
        "lmod_rawdata.summary()"
      ],
      "metadata": {
        "colab": {
          "base_uri": "https://localhost:8080/",
          "height": 1000
        },
        "id": "16sWIs0eKPxl",
        "outputId": "a966478a-2903-4483-f70e-57aae3dc7943"
      },
      "execution_count": 47,
      "outputs": [
        {
          "output_type": "stream",
          "name": "stderr",
          "text": [
            "/usr/local/lib/python3.7/dist-packages/statsmodels/tsa/tsatools.py:142: FutureWarning: In a future version of pandas all arguments of concat except for the argument 'objs' will be keyword-only\n",
            "  x = pd.concat(x[::order], 1)\n"
          ]
        },
        {
          "output_type": "execute_result",
          "data": {
            "text/plain": [
              "<class 'statsmodels.iolib.summary.Summary'>\n",
              "\"\"\"\n",
              "                            OLS Regression Results                            \n",
              "==============================================================================\n",
              "Dep. Variable:         recharge_delay   R-squared:                       1.000\n",
              "Model:                            OLS   Adj. R-squared:                  1.000\n",
              "Method:                 Least Squares   F-statistic:                 2.030e+27\n",
              "Date:                Thu, 01 Sep 2022   Prob (F-statistic):               0.00\n",
              "Time:                        12:13:52   Log-Likelihood:                 21037.\n",
              "No. Observations:                 792   AIC:                        -4.199e+04\n",
              "Df Residuals:                     751   BIC:                        -4.180e+04\n",
              "Df Model:                          40                                         \n",
              "Covariance Type:            nonrobust                                         \n",
              "=====================================================================================================\n",
              "                                        coef    std err          t      P>|t|      [0.025      0.975]\n",
              "-----------------------------------------------------------------------------------------------------\n",
              "const                             -2.842e-14   1.64e-12     -0.017      0.986   -3.25e-12     3.2e-12\n",
              "customer_id                       -5.757e-17    9.1e-17     -0.633      0.527   -2.36e-16    1.21e-16\n",
              "activation_plan_code              -3.539e-16   9.72e-15     -0.036      0.971   -1.94e-14    1.87e-14\n",
              "mnp_flag                          -5.718e-15   8.27e-14     -0.069      0.945   -1.68e-13    1.57e-13\n",
              "calls_incoming_cnt                 4.342e-14   1.74e-15     25.016      0.000       4e-14    4.68e-14\n",
              "calls_outgoing_cnt                 4.272e-14   1.78e-15     23.985      0.000    3.92e-14    4.62e-14\n",
              "calls_incoming_duration           -2.666e-15   8.47e-16     -3.146      0.002   -4.33e-15      -1e-15\n",
              "calls_outgoing_duration           -3.095e-15   7.95e-16     -3.891      0.000   -4.66e-15   -1.53e-15\n",
              "total_call_count                  -4.316e-14   2.52e-15    -17.144      0.000   -4.81e-14   -3.82e-14\n",
              "total_sum_duration                 3.083e-15   5.28e-16      5.843      0.000    2.05e-15    4.12e-15\n",
              "tot_usage_mb                      -1.693e-13   7.02e-18  -2.41e+04      0.000   -1.69e-13   -1.69e-13\n",
              "upload_usage_mb                    1.692e-13   1.16e-17   1.46e+04      0.000    1.69e-13    1.69e-13\n",
              "download_usage_mb                  1.693e-13   6.16e-18   2.75e+04      0.000    1.69e-13    1.69e-13\n",
              "days_since_latch                   8.812e-16   7.18e-14      0.012      0.990    -1.4e-13    1.42e-13\n",
              "cnt_open_qrc                       6.314e-16   1.25e-14      0.050      0.960    -2.4e-14    2.52e-14\n",
              "avg_days_to_close                  3.955e-16   8.36e-15      0.047      0.962    -1.6e-14    1.68e-14\n",
              "cnt_call_drops                    -5.551e-16    2.1e-14     -0.026      0.979   -4.17e-14    4.06e-14\n",
              "pcnt_dropped_calls                 2.193e-15   5.06e-14      0.043      0.965   -9.72e-14    1.02e-13\n",
              "rsrp_voice_pcnt_poor_duration      1.574e-15   6.48e-16      2.431      0.015    3.03e-16    2.85e-15\n",
              "rsrp_data_pcnt_poor_duration      -1.103e-15   7.19e-16     -1.534      0.126   -2.52e-15    3.09e-16\n",
              "mean_cqi_voice_pcnt_poor_duration  6.418e-17   1.55e-15      0.041      0.967   -2.98e-15    3.11e-15\n",
              "sinr_voice_pcnt_poor_duration       6.64e-16   6.39e-16      1.039      0.299   -5.91e-16    1.92e-15\n",
              "sinr_data_pcnt_poor_duration      -4.881e-16   6.49e-16     -0.752      0.452   -1.76e-15    7.86e-16\n",
              "age_on_network                     3.678e-16   7.83e-15      0.047      0.963    -1.5e-14    1.57e-14\n",
              "cnt_connections                    3.452e-16   2.07e-14      0.017      0.987   -4.03e-14     4.1e-14\n",
              "current_plan_code                 -3.539e-16   8.93e-15     -0.040      0.968   -1.79e-14    1.72e-14\n",
              "cnt_recharges_made                 -1.97e-15   1.55e-18  -1266.924      0.000   -1.97e-15   -1.97e-15\n",
              "total_payment_made                 1.967e-13   2.85e-16    690.488      0.000    1.96e-13    1.97e-13\n",
              "cnt_main_plans_taken              -1.244e-15   7.78e-19  -1599.029      0.000   -1.25e-15   -1.24e-15\n",
              "total_main_plans_mrp              -1.968e-13   1.43e-16  -1380.569      0.000   -1.97e-13   -1.97e-13\n",
              "cnt_addon_plans_taken             -1.407e-15   7.79e-19  -1807.359      0.000   -1.41e-15   -1.41e-15\n",
              "total_addon_plans_mrp             -1.966e-13   1.43e-16  -1378.309      0.000   -1.97e-13   -1.96e-13\n",
              "cnt_rchg_offline                   8.882e-16   5.64e-14      0.016      0.987    -1.1e-13    1.12e-13\n",
              "cnt_rchg_online                    -6.55e-15   5.64e-14     -0.116      0.908   -1.17e-13    1.04e-13\n",
              "cnt_rchg_on_or_before_expiry      -1.578e-15   7.03e-16     -2.245      0.025   -2.96e-15   -1.98e-16\n",
              "cnt_rchg_after_expiry             -1.579e-15   7.03e-16     -2.247      0.025   -2.96e-15   -1.99e-16\n",
              "current_active_plan_mrp            6.939e-18    7.4e-16      0.009      0.993   -1.45e-15    1.46e-15\n",
              "current_active_plan_validity       6.592e-17   2.81e-15      0.023      0.981   -5.45e-15    5.58e-15\n",
              "last_cycle_plan_mrp                8.804e-17   2.87e-16      0.307      0.759   -4.76e-16    6.52e-16\n",
              "last_cycle_plan_validity          -8.197e-17   1.24e-15     -0.066      0.948   -2.53e-15    2.36e-15\n",
              "avg_days_bw_rchg_and_expiry       -3.331e-16   2.87e-14     -0.012      0.991   -5.68e-14    5.61e-14\n",
              "stddev_days_bw_rchg_and_expiry     7.425e-16   8.75e-15      0.085      0.932   -1.64e-14    1.79e-14\n",
              "price_per_day                      6.661e-16   6.23e-14      0.011      0.991   -1.22e-13    1.23e-13\n",
              "gb_per_day_quota                   4.441e-16   1.11e-13      0.004      0.997   -2.17e-13    2.18e-13\n",
              "pcnt_quota_used                   -2.099e-16   2.14e-15     -0.098      0.922    -4.4e-15    3.98e-15\n",
              "recharge_delay                        1.0000   1.61e-14    6.2e+13      0.000       1.000       1.000\n",
              "perecentile_recharge_delay         3.469e-18   2.53e-15      0.001      0.999   -4.96e-15    4.97e-15\n",
              "ownership_individual               1.055e-15   5.79e-14      0.018      0.985   -1.13e-13    1.15e-13\n",
              "device_avg_asp_20K_to_30K          1.249e-15   8.24e-14      0.015      0.988   -1.61e-13    1.63e-13\n",
              "device_avg_asp_30K_to_50K          6.661e-16   8.22e-14      0.008      0.994   -1.61e-13    1.62e-13\n",
              "device_avg_asp_50K_above           6.106e-16   8.35e-14      0.007      0.994   -1.63e-13    1.64e-13\n",
              "device_avg_asp_less_10K             1.11e-16   8.41e-14      0.001      0.999   -1.65e-13    1.65e-13\n",
              "==============================================================================\n",
              "Omnibus:                       14.457   Durbin-Watson:                   0.668\n",
              "Prob(Omnibus):                  0.001   Jarque-Bera (JB):               26.078\n",
              "Skew:                          -0.005   Prob(JB):                     2.17e-06\n",
              "Kurtosis:                       3.889   Cond. No.                     1.09e+16\n",
              "==============================================================================\n",
              "\n",
              "Notes:\n",
              "[1] Standard Errors assume that the covariance matrix of the errors is correctly specified.\n",
              "[2] The smallest eigenvalue is 4.13e-21. This might indicate that there are\n",
              "strong multicollinearity problems or that the design matrix is singular.\n",
              "\"\"\""
            ],
            "text/html": [
              "<table class=\"simpletable\">\n",
              "<caption>OLS Regression Results</caption>\n",
              "<tr>\n",
              "  <th>Dep. Variable:</th>     <td>recharge_delay</td>  <th>  R-squared:         </th>  <td>   1.000</td> \n",
              "</tr>\n",
              "<tr>\n",
              "  <th>Model:</th>                   <td>OLS</td>       <th>  Adj. R-squared:    </th>  <td>   1.000</td> \n",
              "</tr>\n",
              "<tr>\n",
              "  <th>Method:</th>             <td>Least Squares</td>  <th>  F-statistic:       </th>  <td>2.030e+27</td>\n",
              "</tr>\n",
              "<tr>\n",
              "  <th>Date:</th>             <td>Thu, 01 Sep 2022</td> <th>  Prob (F-statistic):</th>   <td>  0.00</td>  \n",
              "</tr>\n",
              "<tr>\n",
              "  <th>Time:</th>                 <td>12:13:52</td>     <th>  Log-Likelihood:    </th>  <td>  21037.</td> \n",
              "</tr>\n",
              "<tr>\n",
              "  <th>No. Observations:</th>      <td>   792</td>      <th>  AIC:               </th> <td>-4.199e+04</td>\n",
              "</tr>\n",
              "<tr>\n",
              "  <th>Df Residuals:</th>          <td>   751</td>      <th>  BIC:               </th> <td>-4.180e+04</td>\n",
              "</tr>\n",
              "<tr>\n",
              "  <th>Df Model:</th>              <td>    40</td>      <th>                     </th>      <td> </td>    \n",
              "</tr>\n",
              "<tr>\n",
              "  <th>Covariance Type:</th>      <td>nonrobust</td>    <th>                     </th>      <td> </td>    \n",
              "</tr>\n",
              "</table>\n",
              "<table class=\"simpletable\">\n",
              "<tr>\n",
              "                  <td></td>                     <th>coef</th>     <th>std err</th>      <th>t</th>      <th>P>|t|</th>  <th>[0.025</th>    <th>0.975]</th>  \n",
              "</tr>\n",
              "<tr>\n",
              "  <th>const</th>                             <td>-2.842e-14</td> <td> 1.64e-12</td> <td>   -0.017</td> <td> 0.986</td> <td>-3.25e-12</td> <td>  3.2e-12</td>\n",
              "</tr>\n",
              "<tr>\n",
              "  <th>customer_id</th>                       <td>-5.757e-17</td> <td>  9.1e-17</td> <td>   -0.633</td> <td> 0.527</td> <td>-2.36e-16</td> <td> 1.21e-16</td>\n",
              "</tr>\n",
              "<tr>\n",
              "  <th>activation_plan_code</th>              <td>-3.539e-16</td> <td> 9.72e-15</td> <td>   -0.036</td> <td> 0.971</td> <td>-1.94e-14</td> <td> 1.87e-14</td>\n",
              "</tr>\n",
              "<tr>\n",
              "  <th>mnp_flag</th>                          <td>-5.718e-15</td> <td> 8.27e-14</td> <td>   -0.069</td> <td> 0.945</td> <td>-1.68e-13</td> <td> 1.57e-13</td>\n",
              "</tr>\n",
              "<tr>\n",
              "  <th>calls_incoming_cnt</th>                <td> 4.342e-14</td> <td> 1.74e-15</td> <td>   25.016</td> <td> 0.000</td> <td>    4e-14</td> <td> 4.68e-14</td>\n",
              "</tr>\n",
              "<tr>\n",
              "  <th>calls_outgoing_cnt</th>                <td> 4.272e-14</td> <td> 1.78e-15</td> <td>   23.985</td> <td> 0.000</td> <td> 3.92e-14</td> <td> 4.62e-14</td>\n",
              "</tr>\n",
              "<tr>\n",
              "  <th>calls_incoming_duration</th>           <td>-2.666e-15</td> <td> 8.47e-16</td> <td>   -3.146</td> <td> 0.002</td> <td>-4.33e-15</td> <td>   -1e-15</td>\n",
              "</tr>\n",
              "<tr>\n",
              "  <th>calls_outgoing_duration</th>           <td>-3.095e-15</td> <td> 7.95e-16</td> <td>   -3.891</td> <td> 0.000</td> <td>-4.66e-15</td> <td>-1.53e-15</td>\n",
              "</tr>\n",
              "<tr>\n",
              "  <th>total_call_count</th>                  <td>-4.316e-14</td> <td> 2.52e-15</td> <td>  -17.144</td> <td> 0.000</td> <td>-4.81e-14</td> <td>-3.82e-14</td>\n",
              "</tr>\n",
              "<tr>\n",
              "  <th>total_sum_duration</th>                <td> 3.083e-15</td> <td> 5.28e-16</td> <td>    5.843</td> <td> 0.000</td> <td> 2.05e-15</td> <td> 4.12e-15</td>\n",
              "</tr>\n",
              "<tr>\n",
              "  <th>tot_usage_mb</th>                      <td>-1.693e-13</td> <td> 7.02e-18</td> <td>-2.41e+04</td> <td> 0.000</td> <td>-1.69e-13</td> <td>-1.69e-13</td>\n",
              "</tr>\n",
              "<tr>\n",
              "  <th>upload_usage_mb</th>                   <td> 1.692e-13</td> <td> 1.16e-17</td> <td> 1.46e+04</td> <td> 0.000</td> <td> 1.69e-13</td> <td> 1.69e-13</td>\n",
              "</tr>\n",
              "<tr>\n",
              "  <th>download_usage_mb</th>                 <td> 1.693e-13</td> <td> 6.16e-18</td> <td> 2.75e+04</td> <td> 0.000</td> <td> 1.69e-13</td> <td> 1.69e-13</td>\n",
              "</tr>\n",
              "<tr>\n",
              "  <th>days_since_latch</th>                  <td> 8.812e-16</td> <td> 7.18e-14</td> <td>    0.012</td> <td> 0.990</td> <td> -1.4e-13</td> <td> 1.42e-13</td>\n",
              "</tr>\n",
              "<tr>\n",
              "  <th>cnt_open_qrc</th>                      <td> 6.314e-16</td> <td> 1.25e-14</td> <td>    0.050</td> <td> 0.960</td> <td> -2.4e-14</td> <td> 2.52e-14</td>\n",
              "</tr>\n",
              "<tr>\n",
              "  <th>avg_days_to_close</th>                 <td> 3.955e-16</td> <td> 8.36e-15</td> <td>    0.047</td> <td> 0.962</td> <td> -1.6e-14</td> <td> 1.68e-14</td>\n",
              "</tr>\n",
              "<tr>\n",
              "  <th>cnt_call_drops</th>                    <td>-5.551e-16</td> <td>  2.1e-14</td> <td>   -0.026</td> <td> 0.979</td> <td>-4.17e-14</td> <td> 4.06e-14</td>\n",
              "</tr>\n",
              "<tr>\n",
              "  <th>pcnt_dropped_calls</th>                <td> 2.193e-15</td> <td> 5.06e-14</td> <td>    0.043</td> <td> 0.965</td> <td>-9.72e-14</td> <td> 1.02e-13</td>\n",
              "</tr>\n",
              "<tr>\n",
              "  <th>rsrp_voice_pcnt_poor_duration</th>     <td> 1.574e-15</td> <td> 6.48e-16</td> <td>    2.431</td> <td> 0.015</td> <td> 3.03e-16</td> <td> 2.85e-15</td>\n",
              "</tr>\n",
              "<tr>\n",
              "  <th>rsrp_data_pcnt_poor_duration</th>      <td>-1.103e-15</td> <td> 7.19e-16</td> <td>   -1.534</td> <td> 0.126</td> <td>-2.52e-15</td> <td> 3.09e-16</td>\n",
              "</tr>\n",
              "<tr>\n",
              "  <th>mean_cqi_voice_pcnt_poor_duration</th> <td> 6.418e-17</td> <td> 1.55e-15</td> <td>    0.041</td> <td> 0.967</td> <td>-2.98e-15</td> <td> 3.11e-15</td>\n",
              "</tr>\n",
              "<tr>\n",
              "  <th>sinr_voice_pcnt_poor_duration</th>     <td>  6.64e-16</td> <td> 6.39e-16</td> <td>    1.039</td> <td> 0.299</td> <td>-5.91e-16</td> <td> 1.92e-15</td>\n",
              "</tr>\n",
              "<tr>\n",
              "  <th>sinr_data_pcnt_poor_duration</th>      <td>-4.881e-16</td> <td> 6.49e-16</td> <td>   -0.752</td> <td> 0.452</td> <td>-1.76e-15</td> <td> 7.86e-16</td>\n",
              "</tr>\n",
              "<tr>\n",
              "  <th>age_on_network</th>                    <td> 3.678e-16</td> <td> 7.83e-15</td> <td>    0.047</td> <td> 0.963</td> <td> -1.5e-14</td> <td> 1.57e-14</td>\n",
              "</tr>\n",
              "<tr>\n",
              "  <th>cnt_connections</th>                   <td> 3.452e-16</td> <td> 2.07e-14</td> <td>    0.017</td> <td> 0.987</td> <td>-4.03e-14</td> <td>  4.1e-14</td>\n",
              "</tr>\n",
              "<tr>\n",
              "  <th>current_plan_code</th>                 <td>-3.539e-16</td> <td> 8.93e-15</td> <td>   -0.040</td> <td> 0.968</td> <td>-1.79e-14</td> <td> 1.72e-14</td>\n",
              "</tr>\n",
              "<tr>\n",
              "  <th>cnt_recharges_made</th>                <td> -1.97e-15</td> <td> 1.55e-18</td> <td>-1266.924</td> <td> 0.000</td> <td>-1.97e-15</td> <td>-1.97e-15</td>\n",
              "</tr>\n",
              "<tr>\n",
              "  <th>total_payment_made</th>                <td> 1.967e-13</td> <td> 2.85e-16</td> <td>  690.488</td> <td> 0.000</td> <td> 1.96e-13</td> <td> 1.97e-13</td>\n",
              "</tr>\n",
              "<tr>\n",
              "  <th>cnt_main_plans_taken</th>              <td>-1.244e-15</td> <td> 7.78e-19</td> <td>-1599.029</td> <td> 0.000</td> <td>-1.25e-15</td> <td>-1.24e-15</td>\n",
              "</tr>\n",
              "<tr>\n",
              "  <th>total_main_plans_mrp</th>              <td>-1.968e-13</td> <td> 1.43e-16</td> <td>-1380.569</td> <td> 0.000</td> <td>-1.97e-13</td> <td>-1.97e-13</td>\n",
              "</tr>\n",
              "<tr>\n",
              "  <th>cnt_addon_plans_taken</th>             <td>-1.407e-15</td> <td> 7.79e-19</td> <td>-1807.359</td> <td> 0.000</td> <td>-1.41e-15</td> <td>-1.41e-15</td>\n",
              "</tr>\n",
              "<tr>\n",
              "  <th>total_addon_plans_mrp</th>             <td>-1.966e-13</td> <td> 1.43e-16</td> <td>-1378.309</td> <td> 0.000</td> <td>-1.97e-13</td> <td>-1.96e-13</td>\n",
              "</tr>\n",
              "<tr>\n",
              "  <th>cnt_rchg_offline</th>                  <td> 8.882e-16</td> <td> 5.64e-14</td> <td>    0.016</td> <td> 0.987</td> <td> -1.1e-13</td> <td> 1.12e-13</td>\n",
              "</tr>\n",
              "<tr>\n",
              "  <th>cnt_rchg_online</th>                   <td> -6.55e-15</td> <td> 5.64e-14</td> <td>   -0.116</td> <td> 0.908</td> <td>-1.17e-13</td> <td> 1.04e-13</td>\n",
              "</tr>\n",
              "<tr>\n",
              "  <th>cnt_rchg_on_or_before_expiry</th>      <td>-1.578e-15</td> <td> 7.03e-16</td> <td>   -2.245</td> <td> 0.025</td> <td>-2.96e-15</td> <td>-1.98e-16</td>\n",
              "</tr>\n",
              "<tr>\n",
              "  <th>cnt_rchg_after_expiry</th>             <td>-1.579e-15</td> <td> 7.03e-16</td> <td>   -2.247</td> <td> 0.025</td> <td>-2.96e-15</td> <td>-1.99e-16</td>\n",
              "</tr>\n",
              "<tr>\n",
              "  <th>current_active_plan_mrp</th>           <td> 6.939e-18</td> <td>  7.4e-16</td> <td>    0.009</td> <td> 0.993</td> <td>-1.45e-15</td> <td> 1.46e-15</td>\n",
              "</tr>\n",
              "<tr>\n",
              "  <th>current_active_plan_validity</th>      <td> 6.592e-17</td> <td> 2.81e-15</td> <td>    0.023</td> <td> 0.981</td> <td>-5.45e-15</td> <td> 5.58e-15</td>\n",
              "</tr>\n",
              "<tr>\n",
              "  <th>last_cycle_plan_mrp</th>               <td> 8.804e-17</td> <td> 2.87e-16</td> <td>    0.307</td> <td> 0.759</td> <td>-4.76e-16</td> <td> 6.52e-16</td>\n",
              "</tr>\n",
              "<tr>\n",
              "  <th>last_cycle_plan_validity</th>          <td>-8.197e-17</td> <td> 1.24e-15</td> <td>   -0.066</td> <td> 0.948</td> <td>-2.53e-15</td> <td> 2.36e-15</td>\n",
              "</tr>\n",
              "<tr>\n",
              "  <th>avg_days_bw_rchg_and_expiry</th>       <td>-3.331e-16</td> <td> 2.87e-14</td> <td>   -0.012</td> <td> 0.991</td> <td>-5.68e-14</td> <td> 5.61e-14</td>\n",
              "</tr>\n",
              "<tr>\n",
              "  <th>stddev_days_bw_rchg_and_expiry</th>    <td> 7.425e-16</td> <td> 8.75e-15</td> <td>    0.085</td> <td> 0.932</td> <td>-1.64e-14</td> <td> 1.79e-14</td>\n",
              "</tr>\n",
              "<tr>\n",
              "  <th>price_per_day</th>                     <td> 6.661e-16</td> <td> 6.23e-14</td> <td>    0.011</td> <td> 0.991</td> <td>-1.22e-13</td> <td> 1.23e-13</td>\n",
              "</tr>\n",
              "<tr>\n",
              "  <th>gb_per_day_quota</th>                  <td> 4.441e-16</td> <td> 1.11e-13</td> <td>    0.004</td> <td> 0.997</td> <td>-2.17e-13</td> <td> 2.18e-13</td>\n",
              "</tr>\n",
              "<tr>\n",
              "  <th>pcnt_quota_used</th>                   <td>-2.099e-16</td> <td> 2.14e-15</td> <td>   -0.098</td> <td> 0.922</td> <td> -4.4e-15</td> <td> 3.98e-15</td>\n",
              "</tr>\n",
              "<tr>\n",
              "  <th>recharge_delay</th>                    <td>    1.0000</td> <td> 1.61e-14</td> <td>  6.2e+13</td> <td> 0.000</td> <td>    1.000</td> <td>    1.000</td>\n",
              "</tr>\n",
              "<tr>\n",
              "  <th>perecentile_recharge_delay</th>        <td> 3.469e-18</td> <td> 2.53e-15</td> <td>    0.001</td> <td> 0.999</td> <td>-4.96e-15</td> <td> 4.97e-15</td>\n",
              "</tr>\n",
              "<tr>\n",
              "  <th>ownership_individual</th>              <td> 1.055e-15</td> <td> 5.79e-14</td> <td>    0.018</td> <td> 0.985</td> <td>-1.13e-13</td> <td> 1.15e-13</td>\n",
              "</tr>\n",
              "<tr>\n",
              "  <th>device_avg_asp_20K_to_30K</th>         <td> 1.249e-15</td> <td> 8.24e-14</td> <td>    0.015</td> <td> 0.988</td> <td>-1.61e-13</td> <td> 1.63e-13</td>\n",
              "</tr>\n",
              "<tr>\n",
              "  <th>device_avg_asp_30K_to_50K</th>         <td> 6.661e-16</td> <td> 8.22e-14</td> <td>    0.008</td> <td> 0.994</td> <td>-1.61e-13</td> <td> 1.62e-13</td>\n",
              "</tr>\n",
              "<tr>\n",
              "  <th>device_avg_asp_50K_above</th>          <td> 6.106e-16</td> <td> 8.35e-14</td> <td>    0.007</td> <td> 0.994</td> <td>-1.63e-13</td> <td> 1.64e-13</td>\n",
              "</tr>\n",
              "<tr>\n",
              "  <th>device_avg_asp_less_10K</th>           <td>  1.11e-16</td> <td> 8.41e-14</td> <td>    0.001</td> <td> 0.999</td> <td>-1.65e-13</td> <td> 1.65e-13</td>\n",
              "</tr>\n",
              "</table>\n",
              "<table class=\"simpletable\">\n",
              "<tr>\n",
              "  <th>Omnibus:</th>       <td>14.457</td> <th>  Durbin-Watson:     </th> <td>   0.668</td>\n",
              "</tr>\n",
              "<tr>\n",
              "  <th>Prob(Omnibus):</th> <td> 0.001</td> <th>  Jarque-Bera (JB):  </th> <td>  26.078</td>\n",
              "</tr>\n",
              "<tr>\n",
              "  <th>Skew:</th>          <td>-0.005</td> <th>  Prob(JB):          </th> <td>2.17e-06</td>\n",
              "</tr>\n",
              "<tr>\n",
              "  <th>Kurtosis:</th>      <td> 3.889</td> <th>  Cond. No.          </th> <td>1.09e+16</td>\n",
              "</tr>\n",
              "</table><br/><br/>Notes:<br/>[1] Standard Errors assume that the covariance matrix of the errors is correctly specified.<br/>[2] The smallest eigenvalue is 4.13e-21. This might indicate that there are<br/>strong multicollinearity problems or that the design matrix is singular."
            ]
          },
          "metadata": {},
          "execution_count": 47
        }
      ]
    },
    {
      "cell_type": "code",
      "source": [
        "from scipy import stats\n",
        "import numpy as np\n",
        "from sklearn.metrics import r2_score\n",
        "from sklearn.metrics import mean_squared_error\n",
        "pred_Y_data_df = lmod_rawdata.predict(test_x_raw)\n",
        "print(np.sqrt(mean_squared_error(test_y_raw,pred_Y_data_df)))\n",
        "print(np.abs(r2_score(test_y_raw, pred_Y_data_df)))"
      ],
      "metadata": {
        "id": "HJzbSbB_KPqS",
        "colab": {
          "base_uri": "https://localhost:8080/"
        },
        "outputId": "ccf5877d-cbe2-4d9d-a9ca-ab0456e35a5a"
      },
      "execution_count": 48,
      "outputs": [
        {
          "output_type": "stream",
          "name": "stdout",
          "text": [
            "6.78478017239071e-13\n",
            "1.0\n"
          ]
        }
      ]
    },
    {
      "cell_type": "code",
      "source": [
        "def get_standardized_values_data ( vals ) :\n",
        "    return (vals - vals.mean())/vals.std()\n",
        "\n",
        "standardized_predicted_values_data=get_standardized_values_data(lmod_rawdata.fittedvalues)\n",
        "standardized_residuals_data=get_standardized_values_data(lmod_rawdata.resid)\n",
        "\n",
        "# creating regression plots\n",
        "plt.scatter(standardized_predicted_values_data,standardized_residuals_data)\n",
        "plt.title(\"Residual Plot vs Fitted values (standardized)\")\n",
        "plt.show()"
      ],
      "metadata": {
        "id": "G2ybzsvdKPdm",
        "colab": {
          "base_uri": "https://localhost:8080/",
          "height": 281
        },
        "outputId": "42d902b1-712c-4474-be1a-ddc1c1f1de44"
      },
      "execution_count": 49,
      "outputs": [
        {
          "output_type": "display_data",
          "data": {
            "text/plain": [
              "<Figure size 432x288 with 1 Axes>"
            ],
            "image/png": "[encoded data removed]"
          },
          "metadata": {
            "needs_background": "light"
          }
        }
      ]
    },
    {
      "cell_type": "markdown",
      "source": [
        "Residual Vs Fitted Plot\n",
        "\n",
        "A \"residuals versus fits plot\" is the most frequently created plot. The plot is used to detect non-linearity, unequal error variances, and outliers.\n",
        "\n",
        "- The residuals \"bounce randomly\" around the 0 line. This suggests that the assumption that the relationship is linear is reasonable.\n",
        "\n",
        "- The residuals roughly form a \"horizontal band\" around the 0 line. This suggests that the variances of the error terms are equal.\n",
        "\n",
        "- No one residual \"stands out\" from the basic random pattern of residuals. This suggests that there are no outliers\n"
      ],
      "metadata": {
        "id": "4lKQQg9pSy0k"
      }
    },
    {
      "cell_type": "code",
      "source": [
        "qqplot=sm.ProbPlot(standardized_residuals_data)\n",
        "qqplot.ppplot(line=\"45\")\n",
        "plt.title(\"Q-Q plot of Standardized Residuals\")\n",
        "plt.show()"
      ],
      "metadata": {
        "colab": {
          "base_uri": "https://localhost:8080/",
          "height": 295
        },
        "id": "sIi5IWSwOan7",
        "outputId": "cd91caed-ce6f-4fa6-e57d-736fdbc9b3bc"
      },
      "execution_count": 50,
      "outputs": [
        {
          "output_type": "display_data",
          "data": {
            "text/plain": [
              "<Figure size 432x288 with 1 Axes>"
            ],
            "image/png": "[encoded data removed]"
          },
          "metadata": {
            "needs_background": "light"
          }
        }
      ]
    },
    {
      "cell_type": "code",
      "source": [
        "customer_data = lmod_rawdata.get_influence()  \n",
        "(c, p) = customer_data.cooks_distance  \n",
        "\n",
        "plt.stem(np.arange( len( train_x_raw)),  np.round( c, 3),  markerfmt=\",\");  \n",
        "plt.title( \" Cooks distance for all observations\"); "
      ],
      "metadata": {
        "colab": {
          "base_uri": "https://localhost:8080/",
          "height": 337
        },
        "id": "yV9EcSQ4Oad6",
        "outputId": "8e9fc34b-2fd7-4ae8-d452-48fa7b0e1361"
      },
      "execution_count": 51,
      "outputs": [
        {
          "output_type": "stream",
          "name": "stderr",
          "text": [
            "/usr/local/lib/python3.7/dist-packages/ipykernel_launcher.py:4: UserWarning: In Matplotlib 3.3 individual lines on a stem plot will be added as a LineCollection instead of individual lines. This significantly improves the performance of a stem plot. To remove this warning and switch to the new behaviour, set the \"use_line_collection\" keyword argument to True.\n",
            "  after removing the cwd from sys.path.\n"
          ]
        },
        {
          "output_type": "display_data",
          "data": {
            "text/plain": [
              "<Figure size 432x288 with 1 Axes>"
            ],
            "image/png": "[encoded data removed]"
          },
          "metadata": {
            "needs_background": "light"
          }
        }
      ]
    },
    {
      "cell_type": "markdown",
      "source": [
        "3 b: After you deliver your report, Ghansoli Raja wonders about the most importantpredictors of the recharge behaviour relationship depicted in question 3a. Only some ofthe features of the\n",
        "original\n",
        "dataset should be really meaningful. Then, he suggests to\n",
        "completely redo your analysis\n",
        "to see if you can find a (possibly, different) subset ofimportant (significant) predictors."
      ],
      "metadata": {
        "id": "DDNZrRkUtkcL"
      }
    },
    {
      "cell_type": "code",
      "source": [
        "import statsmodels.formula.api as smf\n",
        "import statsmodels.api as sm\n",
        "from sklearn.model_selection import train_test_split\n",
        "\n",
        "x = data_df[['stddev_days_bw_rchg_and_expiry','customer_id','ownership_individual','mnp_flag','pcnt_quota_used','calls_outgoing_cnt','tot_usage_mb','days_since_latch','avg_days_to_close','pcnt_dropped_calls','sinr_voice_pcnt_poor_duration','age_on_network','current_active_plan_validity','last_cycle_plan_mrp']]\n",
        "x = sm.add_constant(x)\n",
        "y = data_df['recharge_delay']\n",
        "train_x, test_x , train_y, test_y = train_test_split(x ,y ,train_size=0.8,random_state=123)\n",
        "\n",
        "lmod = sm.OLS(train_y, train_x).fit()\n",
        "lmod.summary()"
      ],
      "metadata": {
        "id": "8w5C9SAitmV4",
        "colab": {
          "base_uri": "https://localhost:8080/",
          "height": 807
        },
        "outputId": "c2263bf6-67bc-4649-ff29-0ae0417b78f1"
      },
      "execution_count": 52,
      "outputs": [
        {
          "output_type": "stream",
          "name": "stderr",
          "text": [
            "/usr/local/lib/python3.7/dist-packages/statsmodels/tsa/tsatools.py:142: FutureWarning: In a future version of pandas all arguments of concat except for the argument 'objs' will be keyword-only\n",
            "  x = pd.concat(x[::order], 1)\n"
          ]
        },
        {
          "output_type": "execute_result",
          "data": {
            "text/plain": [
              "<class 'statsmodels.iolib.summary.Summary'>\n",
              "\"\"\"\n",
              "                            OLS Regression Results                            \n",
              "==============================================================================\n",
              "Dep. Variable:         recharge_delay   R-squared:                       0.618\n",
              "Model:                            OLS   Adj. R-squared:                  0.612\n",
              "Method:                 Least Squares   F-statistic:                     89.97\n",
              "Date:                Thu, 01 Sep 2022   Prob (F-statistic):          7.53e-152\n",
              "Time:                        12:13:54   Log-Likelihood:                -2319.7\n",
              "No. Observations:                 792   AIC:                             4669.\n",
              "Df Residuals:                     777   BIC:                             4740.\n",
              "Df Model:                          14                                         \n",
              "Covariance Type:            nonrobust                                         \n",
              "==================================================================================================\n",
              "                                     coef    std err          t      P>|t|      [0.025      0.975]\n",
              "--------------------------------------------------------------------------------------------------\n",
              "const                             -9.6525      6.054     -1.594      0.111     -21.536       2.231\n",
              "stddev_days_bw_rchg_and_expiry     0.1220      0.053      2.323      0.020       0.019       0.225\n",
              "customer_id                        0.0004      0.001      0.646      0.518      -0.001       0.001\n",
              "ownership_individual               0.1991      0.359      0.555      0.579      -0.505       0.903\n",
              "mnp_flag                          -0.6074      0.514     -1.182      0.238      -1.616       0.401\n",
              "pcnt_quota_used                   -0.0576      0.008     -6.908      0.000      -0.074      -0.041\n",
              "calls_outgoing_cnt                -0.0024      0.004     -0.562      0.574      -0.011       0.006\n",
              "tot_usage_mb                      -0.0003   2.35e-05    -12.842      0.000      -0.000      -0.000\n",
              "days_since_latch                  -0.0570      0.061     -0.931      0.352      -0.177       0.063\n",
              "avg_days_to_close                 -0.0209      0.051     -0.407      0.684      -0.122       0.080\n",
              "pcnt_dropped_calls                 2.3847      0.105     22.659      0.000       2.178       2.591\n",
              "sinr_voice_pcnt_poor_duration      0.0643      0.006     11.129      0.000       0.053       0.076\n",
              "age_on_network                    -0.0017      0.002     -1.051      0.294      -0.005       0.001\n",
              "current_active_plan_validity       0.0004      0.001      0.450      0.653      -0.001       0.002\n",
              "last_cycle_plan_mrp             5.554e-05      0.000      0.137      0.891      -0.001       0.001\n",
              "==============================================================================\n",
              "Omnibus:                        0.914   Durbin-Watson:                   2.070\n",
              "Prob(Omnibus):                  0.633   Jarque-Bera (JB):                0.978\n",
              "Skew:                          -0.032   Prob(JB):                        0.613\n",
              "Kurtosis:                       2.840   Cond. No.                     6.35e+05\n",
              "==============================================================================\n",
              "\n",
              "Notes:\n",
              "[1] Standard Errors assume that the covariance matrix of the errors is correctly specified.\n",
              "[2] The condition number is large, 6.35e+05. This might indicate that there are\n",
              "strong multicollinearity or other numerical problems.\n",
              "\"\"\""
            ],
            "text/html": [
              "<table class=\"simpletable\">\n",
              "<caption>OLS Regression Results</caption>\n",
              "<tr>\n",
              "  <th>Dep. Variable:</th>     <td>recharge_delay</td>  <th>  R-squared:         </th> <td>   0.618</td> \n",
              "</tr>\n",
              "<tr>\n",
              "  <th>Model:</th>                   <td>OLS</td>       <th>  Adj. R-squared:    </th> <td>   0.612</td> \n",
              "</tr>\n",
              "<tr>\n",
              "  <th>Method:</th>             <td>Least Squares</td>  <th>  F-statistic:       </th> <td>   89.97</td> \n",
              "</tr>\n",
              "<tr>\n",
              "  <th>Date:</th>             <td>Thu, 01 Sep 2022</td> <th>  Prob (F-statistic):</th> <td>7.53e-152</td>\n",
              "</tr>\n",
              "<tr>\n",
              "  <th>Time:</th>                 <td>12:13:54</td>     <th>  Log-Likelihood:    </th> <td> -2319.7</td> \n",
              "</tr>\n",
              "<tr>\n",
              "  <th>No. Observations:</th>      <td>   792</td>      <th>  AIC:               </th> <td>   4669.</td> \n",
              "</tr>\n",
              "<tr>\n",
              "  <th>Df Residuals:</th>          <td>   777</td>      <th>  BIC:               </th> <td>   4740.</td> \n",
              "</tr>\n",
              "<tr>\n",
              "  <th>Df Model:</th>              <td>    14</td>      <th>                     </th>     <td> </td>    \n",
              "</tr>\n",
              "<tr>\n",
              "  <th>Covariance Type:</th>      <td>nonrobust</td>    <th>                     </th>     <td> </td>    \n",
              "</tr>\n",
              "</table>\n",
              "<table class=\"simpletable\">\n",
              "<tr>\n",
              "                 <td></td>                   <th>coef</th>     <th>std err</th>      <th>t</th>      <th>P>|t|</th>  <th>[0.025</th>    <th>0.975]</th>  \n",
              "</tr>\n",
              "<tr>\n",
              "  <th>const</th>                          <td>   -9.6525</td> <td>    6.054</td> <td>   -1.594</td> <td> 0.111</td> <td>  -21.536</td> <td>    2.231</td>\n",
              "</tr>\n",
              "<tr>\n",
              "  <th>stddev_days_bw_rchg_and_expiry</th> <td>    0.1220</td> <td>    0.053</td> <td>    2.323</td> <td> 0.020</td> <td>    0.019</td> <td>    0.225</td>\n",
              "</tr>\n",
              "<tr>\n",
              "  <th>customer_id</th>                    <td>    0.0004</td> <td>    0.001</td> <td>    0.646</td> <td> 0.518</td> <td>   -0.001</td> <td>    0.001</td>\n",
              "</tr>\n",
              "<tr>\n",
              "  <th>ownership_individual</th>           <td>    0.1991</td> <td>    0.359</td> <td>    0.555</td> <td> 0.579</td> <td>   -0.505</td> <td>    0.903</td>\n",
              "</tr>\n",
              "<tr>\n",
              "  <th>mnp_flag</th>                       <td>   -0.6074</td> <td>    0.514</td> <td>   -1.182</td> <td> 0.238</td> <td>   -1.616</td> <td>    0.401</td>\n",
              "</tr>\n",
              "<tr>\n",
              "  <th>pcnt_quota_used</th>                <td>   -0.0576</td> <td>    0.008</td> <td>   -6.908</td> <td> 0.000</td> <td>   -0.074</td> <td>   -0.041</td>\n",
              "</tr>\n",
              "<tr>\n",
              "  <th>calls_outgoing_cnt</th>             <td>   -0.0024</td> <td>    0.004</td> <td>   -0.562</td> <td> 0.574</td> <td>   -0.011</td> <td>    0.006</td>\n",
              "</tr>\n",
              "<tr>\n",
              "  <th>tot_usage_mb</th>                   <td>   -0.0003</td> <td> 2.35e-05</td> <td>  -12.842</td> <td> 0.000</td> <td>   -0.000</td> <td>   -0.000</td>\n",
              "</tr>\n",
              "<tr>\n",
              "  <th>days_since_latch</th>               <td>   -0.0570</td> <td>    0.061</td> <td>   -0.931</td> <td> 0.352</td> <td>   -0.177</td> <td>    0.063</td>\n",
              "</tr>\n",
              "<tr>\n",
              "  <th>avg_days_to_close</th>              <td>   -0.0209</td> <td>    0.051</td> <td>   -0.407</td> <td> 0.684</td> <td>   -0.122</td> <td>    0.080</td>\n",
              "</tr>\n",
              "<tr>\n",
              "  <th>pcnt_dropped_calls</th>             <td>    2.3847</td> <td>    0.105</td> <td>   22.659</td> <td> 0.000</td> <td>    2.178</td> <td>    2.591</td>\n",
              "</tr>\n",
              "<tr>\n",
              "  <th>sinr_voice_pcnt_poor_duration</th>  <td>    0.0643</td> <td>    0.006</td> <td>   11.129</td> <td> 0.000</td> <td>    0.053</td> <td>    0.076</td>\n",
              "</tr>\n",
              "<tr>\n",
              "  <th>age_on_network</th>                 <td>   -0.0017</td> <td>    0.002</td> <td>   -1.051</td> <td> 0.294</td> <td>   -0.005</td> <td>    0.001</td>\n",
              "</tr>\n",
              "<tr>\n",
              "  <th>current_active_plan_validity</th>   <td>    0.0004</td> <td>    0.001</td> <td>    0.450</td> <td> 0.653</td> <td>   -0.001</td> <td>    0.002</td>\n",
              "</tr>\n",
              "<tr>\n",
              "  <th>last_cycle_plan_mrp</th>            <td> 5.554e-05</td> <td>    0.000</td> <td>    0.137</td> <td> 0.891</td> <td>   -0.001</td> <td>    0.001</td>\n",
              "</tr>\n",
              "</table>\n",
              "<table class=\"simpletable\">\n",
              "<tr>\n",
              "  <th>Omnibus:</th>       <td> 0.914</td> <th>  Durbin-Watson:     </th> <td>   2.070</td>\n",
              "</tr>\n",
              "<tr>\n",
              "  <th>Prob(Omnibus):</th> <td> 0.633</td> <th>  Jarque-Bera (JB):  </th> <td>   0.978</td>\n",
              "</tr>\n",
              "<tr>\n",
              "  <th>Skew:</th>          <td>-0.032</td> <th>  Prob(JB):          </th> <td>   0.613</td>\n",
              "</tr>\n",
              "<tr>\n",
              "  <th>Kurtosis:</th>      <td> 2.840</td> <th>  Cond. No.          </th> <td>6.35e+05</td>\n",
              "</tr>\n",
              "</table><br/><br/>Notes:<br/>[1] Standard Errors assume that the covariance matrix of the errors is correctly specified.<br/>[2] The condition number is large, 6.35e+05. This might indicate that there are<br/>strong multicollinearity or other numerical problems."
            ]
          },
          "metadata": {},
          "execution_count": 52
        }
      ]
    },
    {
      "cell_type": "code",
      "source": [
        "pred_Y = lmod.predict(test_x)\n",
        "\n",
        "from sklearn.metrics import r2_score, mean_squared_error \n",
        "\n",
        "print(np.abs(r2_score(test_y, pred_Y)) )"
      ],
      "metadata": {
        "colab": {
          "base_uri": "https://localhost:8080/"
        },
        "id": "lEtSBjwnPG_Z",
        "outputId": "7a54fe01-1c2f-407e-b204-956bbba1dfc8"
      },
      "execution_count": 53,
      "outputs": [
        {
          "output_type": "stream",
          "name": "stdout",
          "text": [
            "0.6118133109550746\n"
          ]
        }
      ]
    },
    {
      "cell_type": "code",
      "source": [
        "np.sqrt(mean_squared_error(test_y,pred_Y))"
      ],
      "metadata": {
        "colab": {
          "base_uri": "https://localhost:8080/"
        },
        "id": "VzdnIYuyPG1t",
        "outputId": "1c764b13-a6ef-4a75-9fed-bc70abedaa18"
      },
      "execution_count": 54,
      "outputs": [
        {
          "output_type": "execute_result",
          "data": {
            "text/plain": [
              "4.5426506015171535"
            ]
          },
          "metadata": {},
          "execution_count": 54
        }
      ]
    },
    {
      "cell_type": "code",
      "source": [
        "def get_standardized_values ( vals ) :\n",
        "    return (vals - vals.mean())/vals.std()\n",
        "\n",
        "standardized_predicted_values=get_standardized_values(lmod.fittedvalues)\n",
        "standardized_residuals=get_standardized_values(lmod.resid)\n",
        "\n",
        "# creating regression plots\n",
        "plt.scatter(standardized_predicted_values,standardized_residuals)\n",
        "plt.title(\"Residual Plot vs Fitted values (standardized)\")\n",
        "plt.show()"
      ],
      "metadata": {
        "colab": {
          "base_uri": "https://localhost:8080/",
          "height": 281
        },
        "id": "sNCWba0yPGr1",
        "outputId": "6c5c77ba-107a-4062-f5de-f2504115f50a"
      },
      "execution_count": 55,
      "outputs": [
        {
          "output_type": "display_data",
          "data": {
            "text/plain": [
              "<Figure size 432x288 with 1 Axes>"
            ],
            "image/png": "[encoded data removed]"
          },
          "metadata": {
            "needs_background": "light"
          }
        }
      ]
    },
    {
      "cell_type": "code",
      "source": [
        "import numpy as np # linear algebra\n",
        "import pandas as pd # data processing, CSV file I/O (e.g. pd.read_csv)\n",
        "import matplotlib.pyplot as plt\n",
        "import scipy.stats as stats\n",
        "import statsmodels.api as sm\n",
        "\n",
        "qqplot=sm.ProbPlot(standardized_residuals)\n",
        "qqplot.ppplot(line=\"45\")\n",
        "plt.title(\"Q-Q plot of Standardized Residuals\")\n",
        "plt.show()"
      ],
      "metadata": {
        "colab": {
          "base_uri": "https://localhost:8080/",
          "height": 295
        },
        "id": "Ui89kqA2PXks",
        "outputId": "fe0abce5-9ba5-422d-c135-f234148c68d6"
      },
      "execution_count": 56,
      "outputs": [
        {
          "output_type": "display_data",
          "data": {
            "text/plain": [
              "<Figure size 432x288 with 1 Axes>"
            ],
            "image/png": "[encoded data removed]"
          },
          "metadata": {
            "needs_background": "light"
          }
        }
      ]
    },
    {
      "cell_type": "code",
      "source": [
        "customer_data = lmod.get_influence()  \n",
        "(c, p) = customer_data.cooks_distance  \n",
        "\n",
        "plt.stem(np.arange( len( train_x)),  np.round( c, 3),  markerfmt=\",\");  \n",
        "plt.title( \" Cooks distance for all observations\"); "
      ],
      "metadata": {
        "colab": {
          "base_uri": "https://localhost:8080/",
          "height": 337
        },
        "id": "3M2fqx2CPXYy",
        "outputId": "f28a84d6-50d8-4f8d-c4e3-a1d30d79f865"
      },
      "execution_count": 57,
      "outputs": [
        {
          "output_type": "stream",
          "name": "stderr",
          "text": [
            "/usr/local/lib/python3.7/dist-packages/ipykernel_launcher.py:4: UserWarning: In Matplotlib 3.3 individual lines on a stem plot will be added as a LineCollection instead of individual lines. This significantly improves the performance of a stem plot. To remove this warning and switch to the new behaviour, set the \"use_line_collection\" keyword argument to True.\n",
            "  after removing the cwd from sys.path.\n"
          ]
        },
        {
          "output_type": "display_data",
          "data": {
            "text/plain": [
              "<Figure size 432x288 with 1 Axes>"
            ],
            "image/png": "[encoded data removed]"
          },
          "metadata": {
            "needs_background": "light"
          }
        }
      ]
    },
    {
      "cell_type": "markdown",
      "source": [
        "4 a: Vashi Kumari has a very busy schedule. She just read the report on the churn rate thatyou have written in Question 1. She is very happy that you have found a way to identifychurned customers, and she suggests you should get a promotion. However, beforedoing that, she wants to see if you can also build a model to identify the customers whoare going to churn based on historical data and your expertise. You go back to yourdesk, excited about the incoming promotion, and write a report to answer her curiosity."
      ],
      "metadata": {
        "id": "cNeNqtFkYZ-m"
      }
    },
    {
      "cell_type": "code",
      "source": [
        "df_data1.loc[df_data1['perecentile_recharge_delay'] >=90.0, 'churner_or_not'] = 1\n",
        "df_data1.loc[df_data1['perecentile_recharge_delay'] < 90.0, 'churner_or_not'] = 0\n",
        "df_data1"
      ],
      "metadata": {
        "colab": {
          "base_uri": "https://localhost:8080/",
          "height": 641
        },
        "id": "QrV6tiw5Ys4E",
        "outputId": "a5a8d3e5-0999-492b-9dfc-aaee2cdb3f12"
      },
      "execution_count": 93,
      "outputs": [
        {
          "output_type": "stream",
          "name": "stderr",
          "text": [
            "/usr/local/lib/python3.7/dist-packages/pandas/core/indexing.py:1684: SettingWithCopyWarning: \n",
            "A value is trying to be set on a copy of a slice from a DataFrame.\n",
            "Try using .loc[row_indexer,col_indexer] = value instead\n",
            "\n",
            "See the caveats in the documentation: https://pandas.pydata.org/pandas-docs/stable/user_guide/indexing.html#returning-a-view-versus-a-copy\n",
            "  self.obj[key] = infer_fill_value(value)\n",
            "/usr/local/lib/python3.7/dist-packages/pandas/core/indexing.py:1817: SettingWithCopyWarning: \n",
            "A value is trying to be set on a copy of a slice from a DataFrame.\n",
            "Try using .loc[row_indexer,col_indexer] = value instead\n",
            "\n",
            "See the caveats in the documentation: https://pandas.pydata.org/pandas-docs/stable/user_guide/indexing.html#returning-a-view-versus-a-copy\n",
            "  self._setitem_single_column(loc, value, pi)\n"
          ]
        },
        {
          "output_type": "execute_result",
          "data": {
            "text/plain": [
              "     perecentile_recharge_delay  avg_days_bw_rchg_and_expiry  churner_or_not\n",
              "608                       100.0                     8.499451             1.0\n",
              "412                        99.9                     8.176130             1.0\n",
              "171                        99.8                     7.927657             1.0\n",
              "889                        99.7                     7.709917             1.0\n",
              "852                        99.6                     7.589958             1.0\n",
              "..                          ...                          ...             ...\n",
              "189                        90.5                     3.191037             1.0\n",
              "66                         90.4                     3.167711             1.0\n",
              "537                        90.3                     3.164718             1.0\n",
              "978                        90.2                     3.151526             1.0\n",
              "281                        90.1                     3.117617             1.0\n",
              "\n",
              "[100 rows x 3 columns]"
            ],
            "text/html": [
              "\n",
              "  <div id=\"df-1d07c0ce-9f2c-4fb8-997e-8d203d4aac69\">\n",
              "    <div class=\"colab-df-container\">\n",
              "      <div>\n",
              "<style scoped>\n",
              "    .dataframe tbody tr th:only-of-type {\n",
              "        vertical-align: middle;\n",
              "    }\n",
              "\n",
              "    .dataframe tbody tr th {\n",
              "        vertical-align: top;\n",
              "    }\n",
              "\n",
              "    .dataframe thead th {\n",
              "        text-align: right;\n",
              "    }\n",
              "</style>\n",
              "<table border=\"1\" class=\"dataframe\">\n",
              "  <thead>\n",
              "    <tr style=\"text-align: right;\">\n",
              "      <th></th>\n",
              "      <th>perecentile_recharge_delay</th>\n",
              "      <th>avg_days_bw_rchg_and_expiry</th>\n",
              "      <th>churner_or_not</th>\n",
              "    </tr>\n",
              "  </thead>\n",
              "  <tbody>\n",
              "    <tr>\n",
              "      <th>608</th>\n",
              "      <td>100.0</td>\n",
              "      <td>8.499451</td>\n",
              "      <td>1.0</td>\n",
              "    </tr>\n",
              "    <tr>\n",
              "      <th>412</th>\n",
              "      <td>99.9</td>\n",
              "      <td>8.176130</td>\n",
              "      <td>1.0</td>\n",
              "    </tr>\n",
              "    <tr>\n",
              "      <th>171</th>\n",
              "      <td>99.8</td>\n",
              "      <td>7.927657</td>\n",
              "      <td>1.0</td>\n",
              "    </tr>\n",
              "    <tr>\n",
              "      <th>889</th>\n",
              "      <td>99.7</td>\n",
              "      <td>7.709917</td>\n",
              "      <td>1.0</td>\n",
              "    </tr>\n",
              "    <tr>\n",
              "      <th>852</th>\n",
              "      <td>99.6</td>\n",
              "      <td>7.589958</td>\n",
              "      <td>1.0</td>\n",
              "    </tr>\n",
              "    <tr>\n",
              "      <th>...</th>\n",
              "      <td>...</td>\n",
              "      <td>...</td>\n",
              "      <td>...</td>\n",
              "    </tr>\n",
              "    <tr>\n",
              "      <th>189</th>\n",
              "      <td>90.5</td>\n",
              "      <td>3.191037</td>\n",
              "      <td>1.0</td>\n",
              "    </tr>\n",
              "    <tr>\n",
              "      <th>66</th>\n",
              "      <td>90.4</td>\n",
              "      <td>3.167711</td>\n",
              "      <td>1.0</td>\n",
              "    </tr>\n",
              "    <tr>\n",
              "      <th>537</th>\n",
              "      <td>90.3</td>\n",
              "      <td>3.164718</td>\n",
              "      <td>1.0</td>\n",
              "    </tr>\n",
              "    <tr>\n",
              "      <th>978</th>\n",
              "      <td>90.2</td>\n",
              "      <td>3.151526</td>\n",
              "      <td>1.0</td>\n",
              "    </tr>\n",
              "    <tr>\n",
              "      <th>281</th>\n",
              "      <td>90.1</td>\n",
              "      <td>3.117617</td>\n",
              "      <td>1.0</td>\n",
              "    </tr>\n",
              "  </tbody>\n",
              "</table>\n",
              "<p>100 rows × 3 columns</p>\n",
              "</div>\n",
              "      <button class=\"colab-df-convert\" onclick=\"convertToInteractive('df-1d07c0ce-9f2c-4fb8-997e-8d203d4aac69')\"\n",
              "              title=\"Convert this dataframe to an interactive table.\"\n",
              "              style=\"display:none;\">\n",
              "        \n",
              "  <svg xmlns=\"http://www.w3.org/2000/svg\" height=\"24px\"viewBox=\"0 0 24 24\"\n",
              "       width=\"24px\">\n",
              "    <path d=\"M0 0h24v24H0V0z\" fill=\"none\"/>\n",
              "    <path d=\"M18.56 5.44l.94 2.06.94-2.06 2.06-.94-2.06-.94-.94-2.06-.94 2.06-2.06.94zm-11 1L8.5 8.5l.94-2.06 2.06-.94-2.06-.94L8.5 2.5l-.94 2.06-2.06.94zm10 10l.94 2.06.94-2.06 2.06-.94-2.06-.94-.94-2.06-.94 2.06-2.06.94z\"/><path d=\"M17.41 7.96l-1.37-1.37c-.4-.4-.92-.59-1.43-.59-.52 0-1.04.2-1.43.59L10.3 9.45l-7.72 7.72c-.78.78-.78 2.05 0 2.83L4 21.41c.39.39.9.59 1.41.59.51 0 1.02-.2 1.41-.59l7.78-7.78 2.81-2.81c.8-.78.8-2.07 0-2.86zM5.41 20L4 18.59l7.72-7.72 1.47 1.35L5.41 20z\"/>\n",
              "  </svg>\n",
              "      </button>\n",
              "      \n",
              "  <style>\n",
              "    .colab-df-container {\n",
              "      display:flex;\n",
              "      flex-wrap:wrap;\n",
              "      gap: 12px;\n",
              "    }\n",
              "\n",
              "    .colab-df-convert {\n",
              "      background-color: #E8F0FE;\n",
              "      border: none;\n",
              "      border-radius: 50%;\n",
              "      cursor: pointer;\n",
              "      display: none;\n",
              "      fill: #1967D2;\n",
              "      height: 32px;\n",
              "      padding: 0 0 0 0;\n",
              "      width: 32px;\n",
              "    }\n",
              "\n",
              "    .colab-df-convert:hover {\n",
              "      background-color: #E2EBFA;\n",
              "      box-shadow: 0px 1px 2px rgba(60, 64, 67, 0.3), 0px 1px 3px 1px rgba(60, 64, 67, 0.15);\n",
              "      fill: #174EA6;\n",
              "    }\n",
              "\n",
              "    [theme=dark] .colab-df-convert {\n",
              "      background-color: #3B4455;\n",
              "      fill: #D2E3FC;\n",
              "    }\n",
              "\n",
              "    [theme=dark] .colab-df-convert:hover {\n",
              "      background-color: #434B5C;\n",
              "      box-shadow: 0px 1px 3px 1px rgba(0, 0, 0, 0.15);\n",
              "      filter: drop-shadow(0px 1px 2px rgba(0, 0, 0, 0.3));\n",
              "      fill: #FFFFFF;\n",
              "    }\n",
              "  </style>\n",
              "\n",
              "      <script>\n",
              "        const buttonEl =\n",
              "          document.querySelector('#df-1d07c0ce-9f2c-4fb8-997e-8d203d4aac69 button.colab-df-convert');\n",
              "        buttonEl.style.display =\n",
              "          google.colab.kernel.accessAllowed ? 'block' : 'none';\n",
              "\n",
              "        async function convertToInteractive(key) {\n",
              "          const element = document.querySelector('#df-1d07c0ce-9f2c-4fb8-997e-8d203d4aac69');\n",
              "          const dataTable =\n",
              "            await google.colab.kernel.invokeFunction('convertToInteractive',\n",
              "                                                     [key], {});\n",
              "          if (!dataTable) return;\n",
              "\n",
              "          const docLinkHtml = 'Like what you see? Visit the ' +\n",
              "            '<a target=\"_blank\" href=https://colab.research.google.com/notebooks/data_table.ipynb>data table notebook</a>'\n",
              "            + ' to learn more about interactive tables.';\n",
              "          element.innerHTML = '';\n",
              "          dataTable['output_type'] = 'display_data';\n",
              "          await google.colab.output.renderOutput(dataTable, element);\n",
              "          const docLink = document.createElement('div');\n",
              "          docLink.innerHTML = docLinkHtml;\n",
              "          element.appendChild(docLink);\n",
              "        }\n",
              "      </script>\n",
              "    </div>\n",
              "  </div>\n",
              "  "
            ]
          },
          "metadata": {},
          "execution_count": 93
        }
      ]
    },
    {
      "cell_type": "code",
      "source": [
        "X= df_data1\n",
        "X = sm.add_constant(X)\n",
        "Y = df_data1['churner_or_not']\n",
        "train_X, test_X, train_Y, test_Y = train_test_split(X, Y, train_size = 0.75)"
      ],
      "metadata": {
        "colab": {
          "base_uri": "https://localhost:8080/"
        },
        "id": "mybtzUqeadsZ",
        "outputId": "f56424bb-5533-43a3-8e27-456c21d706a4"
      },
      "execution_count": 98,
      "outputs": [
        {
          "output_type": "stream",
          "name": "stderr",
          "text": [
            "/usr/local/lib/python3.7/dist-packages/statsmodels/tsa/tsatools.py:142: FutureWarning: In a future version of pandas all arguments of concat except for the argument 'objs' will be keyword-only\n",
            "  x = pd.concat(x[::order], 1)\n"
          ]
        }
      ]
    },
    {
      "cell_type": "code",
      "source": [
        "X= df_data1\n",
        "X = sm.add_constant(X)\n",
        "Y = df_data1['churner_or_not']\n",
        "train_X, test_X, train_Y, test_Y = train_test_split(X, Y, train_size = 0.75, random_state =1234)"
      ],
      "metadata": {
        "colab": {
          "base_uri": "https://localhost:8080/"
        },
        "id": "mSt0ehOTa8IC",
        "outputId": "76d82fa6-3f2f-42b1-a9ae-75c8ae007533"
      },
      "execution_count": 105,
      "outputs": [
        {
          "output_type": "stream",
          "name": "stderr",
          "text": [
            "/usr/local/lib/python3.7/dist-packages/statsmodels/tsa/tsatools.py:142: FutureWarning: In a future version of pandas all arguments of concat except for the argument 'objs' will be keyword-only\n",
            "  x = pd.concat(x[::order], 1)\n"
          ]
        }
      ]
    },
    {
      "cell_type": "code",
      "source": [
        "from sklearn.linear_model import LogisticRegression\n",
        "## Initializing the model\n",
        "logit_model = LogisticRegression(solver='lbfgs', random_state=0, penalty=\"none\", max_iter=2000)\n",
        "logit_model.fit(train_X, train_Y)"
      ],
      "metadata": {
        "colab": {
          "base_uri": "https://localhost:8080/",
          "height": 334
        },
        "id": "xQyyBW_2bUSM",
        "outputId": "8eec50e7-15c0-43e7-b1eb-f4fc6f130276"
      },
      "execution_count": 108,
      "outputs": [
        {
          "output_type": "error",
          "ename": "ValueError",
          "evalue": "ignored",
          "traceback": [
            "\u001b[0;31m---------------------------------------------------------------------------\u001b[0m",
            "\u001b[0;31mValueError\u001b[0m                                Traceback (most recent call last)",
            "\u001b[0;32m<ipython-input-108-153b0d319be4>\u001b[0m in \u001b[0;36m<module>\u001b[0;34m\u001b[0m\n\u001b[1;32m      2\u001b[0m \u001b[0;31m## Initializing the model\u001b[0m\u001b[0;34m\u001b[0m\u001b[0;34m\u001b[0m\u001b[0;34m\u001b[0m\u001b[0m\n\u001b[1;32m      3\u001b[0m \u001b[0mlogit_model\u001b[0m \u001b[0;34m=\u001b[0m \u001b[0mLogisticRegression\u001b[0m\u001b[0;34m(\u001b[0m\u001b[0msolver\u001b[0m\u001b[0;34m=\u001b[0m\u001b[0;34m'lbfgs'\u001b[0m\u001b[0;34m,\u001b[0m \u001b[0mrandom_state\u001b[0m\u001b[0;34m=\u001b[0m\u001b[0;36m0\u001b[0m\u001b[0;34m,\u001b[0m \u001b[0mpenalty\u001b[0m\u001b[0;34m=\u001b[0m\u001b[0;34m\"none\"\u001b[0m\u001b[0;34m,\u001b[0m \u001b[0mmax_iter\u001b[0m\u001b[0;34m=\u001b[0m\u001b[0;36m2000\u001b[0m\u001b[0;34m)\u001b[0m\u001b[0;34m\u001b[0m\u001b[0;34m\u001b[0m\u001b[0m\n\u001b[0;32m----> 4\u001b[0;31m \u001b[0mlogit_model\u001b[0m\u001b[0;34m.\u001b[0m\u001b[0mfit\u001b[0m\u001b[0;34m(\u001b[0m\u001b[0mtrain_X\u001b[0m\u001b[0;34m,\u001b[0m \u001b[0mtrain_Y\u001b[0m\u001b[0;34m)\u001b[0m\u001b[0;34m\u001b[0m\u001b[0;34m\u001b[0m\u001b[0m\n\u001b[0m",
            "\u001b[0;32m/usr/local/lib/python3.7/dist-packages/sklearn/linear_model/_logistic.py\u001b[0m in \u001b[0;36mfit\u001b[0;34m(self, X, y, sample_weight)\u001b[0m\n\u001b[1;32m   1556\u001b[0m                 \u001b[0;34m\" in the data, but the data contains only one\"\u001b[0m\u001b[0;34m\u001b[0m\u001b[0;34m\u001b[0m\u001b[0m\n\u001b[1;32m   1557\u001b[0m                 \u001b[0;34m\" class: %r\"\u001b[0m\u001b[0;34m\u001b[0m\u001b[0;34m\u001b[0m\u001b[0m\n\u001b[0;32m-> 1558\u001b[0;31m                 \u001b[0;34m%\u001b[0m \u001b[0mclasses_\u001b[0m\u001b[0;34m[\u001b[0m\u001b[0;36m0\u001b[0m\u001b[0;34m]\u001b[0m\u001b[0;34m\u001b[0m\u001b[0;34m\u001b[0m\u001b[0m\n\u001b[0m\u001b[1;32m   1559\u001b[0m             )\n\u001b[1;32m   1560\u001b[0m \u001b[0;34m\u001b[0m\u001b[0m\n",
            "\u001b[0;31mValueError\u001b[0m: This solver needs samples of at least 2 classes in the data, but the data contains only one class: 1.0"
          ]
        }
      ]
    },
    {
      "cell_type": "code",
      "source": [
        "logit_model.intercept_"
      ],
      "metadata": {
        "colab": {
          "base_uri": "https://localhost:8080/",
          "height": 171
        },
        "id": "hBYXvA4rbr8F",
        "outputId": "9ec03356-9723-4d52-a16b-999a481a10b4"
      },
      "execution_count": 109,
      "outputs": [
        {
          "output_type": "error",
          "ename": "AttributeError",
          "evalue": "ignored",
          "traceback": [
            "\u001b[0;31m---------------------------------------------------------------------------\u001b[0m",
            "\u001b[0;31mAttributeError\u001b[0m                            Traceback (most recent call last)",
            "\u001b[0;32m<ipython-input-109-f2548b2bbbbe>\u001b[0m in \u001b[0;36m<module>\u001b[0;34m\u001b[0m\n\u001b[0;32m----> 1\u001b[0;31m \u001b[0mlogit_model\u001b[0m\u001b[0;34m.\u001b[0m\u001b[0mintercept_\u001b[0m\u001b[0;34m\u001b[0m\u001b[0;34m\u001b[0m\u001b[0m\n\u001b[0m",
            "\u001b[0;31mAttributeError\u001b[0m: 'LogisticRegression' object has no attribute 'intercept_'"
          ]
        }
      ]
    },
    {
      "cell_type": "code",
      "source": [
        "logit_model.coef_"
      ],
      "metadata": {
        "colab": {
          "base_uri": "https://localhost:8080/",
          "height": 171
        },
        "id": "Wv9rqlWiezDg",
        "outputId": "6656e20d-9258-43f5-9fbc-a19abdd1ba2e"
      },
      "execution_count": 110,
      "outputs": [
        {
          "output_type": "error",
          "ename": "AttributeError",
          "evalue": "ignored",
          "traceback": [
            "\u001b[0;31m---------------------------------------------------------------------------\u001b[0m",
            "\u001b[0;31mAttributeError\u001b[0m                            Traceback (most recent call last)",
            "\u001b[0;32m<ipython-input-110-cfdfe819b9a7>\u001b[0m in \u001b[0;36m<module>\u001b[0;34m\u001b[0m\n\u001b[0;32m----> 1\u001b[0;31m \u001b[0mlogit_model\u001b[0m\u001b[0;34m.\u001b[0m\u001b[0mcoef_\u001b[0m\u001b[0;34m\u001b[0m\u001b[0;34m\u001b[0m\u001b[0m\n\u001b[0m",
            "\u001b[0;31mAttributeError\u001b[0m: 'LogisticRegression' object has no attribute 'coef_'"
          ]
        }
      ]
    },
    {
      "cell_type": "code",
      "source": [
        "logit_model.predict(test_X)"
      ],
      "metadata": {
        "colab": {
          "base_uri": "https://localhost:8080/",
          "height": 322
        },
        "id": "kW1ukeTCe4bP",
        "outputId": "4bef3abc-f3ef-4dc1-d735-492745ceb0eb"
      },
      "execution_count": 111,
      "outputs": [
        {
          "output_type": "error",
          "ename": "AttributeError",
          "evalue": "ignored",
          "traceback": [
            "\u001b[0;31m---------------------------------------------------------------------------\u001b[0m",
            "\u001b[0;31mAttributeError\u001b[0m                            Traceback (most recent call last)",
            "\u001b[0;32m<ipython-input-111-5430e5f1297c>\u001b[0m in \u001b[0;36m<module>\u001b[0;34m\u001b[0m\n\u001b[0;32m----> 1\u001b[0;31m \u001b[0mlogit_model\u001b[0m\u001b[0;34m.\u001b[0m\u001b[0mpredict\u001b[0m\u001b[0;34m(\u001b[0m\u001b[0mtest_X\u001b[0m\u001b[0;34m)\u001b[0m\u001b[0;34m\u001b[0m\u001b[0;34m\u001b[0m\u001b[0m\n\u001b[0m",
            "\u001b[0;32m/usr/local/lib/python3.7/dist-packages/sklearn/linear_model/_base.py\u001b[0m in \u001b[0;36mpredict\u001b[0;34m(self, X)\u001b[0m\n\u001b[1;32m    423\u001b[0m             \u001b[0mVector\u001b[0m \u001b[0mcontaining\u001b[0m \u001b[0mthe\u001b[0m \u001b[0;32mclass\u001b[0m \u001b[0mlabels\u001b[0m \u001b[0;32mfor\u001b[0m \u001b[0meach\u001b[0m \u001b[0msample\u001b[0m\u001b[0;34m.\u001b[0m\u001b[0;34m\u001b[0m\u001b[0;34m\u001b[0m\u001b[0m\n\u001b[1;32m    424\u001b[0m         \"\"\"\n\u001b[0;32m--> 425\u001b[0;31m         \u001b[0mscores\u001b[0m \u001b[0;34m=\u001b[0m \u001b[0mself\u001b[0m\u001b[0;34m.\u001b[0m\u001b[0mdecision_function\u001b[0m\u001b[0;34m(\u001b[0m\u001b[0mX\u001b[0m\u001b[0;34m)\u001b[0m\u001b[0;34m\u001b[0m\u001b[0;34m\u001b[0m\u001b[0m\n\u001b[0m\u001b[1;32m    426\u001b[0m         \u001b[0;32mif\u001b[0m \u001b[0mlen\u001b[0m\u001b[0;34m(\u001b[0m\u001b[0mscores\u001b[0m\u001b[0;34m.\u001b[0m\u001b[0mshape\u001b[0m\u001b[0;34m)\u001b[0m \u001b[0;34m==\u001b[0m \u001b[0;36m1\u001b[0m\u001b[0;34m:\u001b[0m\u001b[0;34m\u001b[0m\u001b[0;34m\u001b[0m\u001b[0m\n\u001b[1;32m    427\u001b[0m             \u001b[0mindices\u001b[0m \u001b[0;34m=\u001b[0m \u001b[0;34m(\u001b[0m\u001b[0mscores\u001b[0m \u001b[0;34m>\u001b[0m \u001b[0;36m0\u001b[0m\u001b[0;34m)\u001b[0m\u001b[0;34m.\u001b[0m\u001b[0mastype\u001b[0m\u001b[0;34m(\u001b[0m\u001b[0mint\u001b[0m\u001b[0;34m)\u001b[0m\u001b[0;34m\u001b[0m\u001b[0;34m\u001b[0m\u001b[0m\n",
            "\u001b[0;32m/usr/local/lib/python3.7/dist-packages/sklearn/linear_model/_base.py\u001b[0m in \u001b[0;36mdecision_function\u001b[0;34m(self, X)\u001b[0m\n\u001b[1;32m    406\u001b[0m \u001b[0;34m\u001b[0m\u001b[0m\n\u001b[1;32m    407\u001b[0m         \u001b[0mX\u001b[0m \u001b[0;34m=\u001b[0m \u001b[0mself\u001b[0m\u001b[0;34m.\u001b[0m\u001b[0m_validate_data\u001b[0m\u001b[0;34m(\u001b[0m\u001b[0mX\u001b[0m\u001b[0;34m,\u001b[0m \u001b[0maccept_sparse\u001b[0m\u001b[0;34m=\u001b[0m\u001b[0;34m\"csr\"\u001b[0m\u001b[0;34m,\u001b[0m \u001b[0mreset\u001b[0m\u001b[0;34m=\u001b[0m\u001b[0;32mFalse\u001b[0m\u001b[0;34m)\u001b[0m\u001b[0;34m\u001b[0m\u001b[0;34m\u001b[0m\u001b[0m\n\u001b[0;32m--> 408\u001b[0;31m         \u001b[0mscores\u001b[0m \u001b[0;34m=\u001b[0m \u001b[0msafe_sparse_dot\u001b[0m\u001b[0;34m(\u001b[0m\u001b[0mX\u001b[0m\u001b[0;34m,\u001b[0m \u001b[0mself\u001b[0m\u001b[0;34m.\u001b[0m\u001b[0mcoef_\u001b[0m\u001b[0;34m.\u001b[0m\u001b[0mT\u001b[0m\u001b[0;34m,\u001b[0m \u001b[0mdense_output\u001b[0m\u001b[0;34m=\u001b[0m\u001b[0;32mTrue\u001b[0m\u001b[0;34m)\u001b[0m \u001b[0;34m+\u001b[0m \u001b[0mself\u001b[0m\u001b[0;34m.\u001b[0m\u001b[0mintercept_\u001b[0m\u001b[0;34m\u001b[0m\u001b[0;34m\u001b[0m\u001b[0m\n\u001b[0m\u001b[1;32m    409\u001b[0m         \u001b[0;32mreturn\u001b[0m \u001b[0mscores\u001b[0m\u001b[0;34m.\u001b[0m\u001b[0mravel\u001b[0m\u001b[0;34m(\u001b[0m\u001b[0;34m)\u001b[0m \u001b[0;32mif\u001b[0m \u001b[0mscores\u001b[0m\u001b[0;34m.\u001b[0m\u001b[0mshape\u001b[0m\u001b[0;34m[\u001b[0m\u001b[0;36m1\u001b[0m\u001b[0;34m]\u001b[0m \u001b[0;34m==\u001b[0m \u001b[0;36m1\u001b[0m \u001b[0;32melse\u001b[0m \u001b[0mscores\u001b[0m\u001b[0;34m\u001b[0m\u001b[0;34m\u001b[0m\u001b[0m\n\u001b[1;32m    410\u001b[0m \u001b[0;34m\u001b[0m\u001b[0m\n",
            "\u001b[0;31mAttributeError\u001b[0m: 'LogisticRegression' object has no attribute 'coef_'"
          ]
        }
      ]
    },
    {
      "cell_type": "code",
      "source": [
        "cm = confusion_matrix(test_Y, logit_model.predict(test_X))\n",
        "\n",
        "fig, ax = plt.subplots(figsize=(8, 8))\n",
        "ax.imshow(cm)\n",
        "ax.grid(False)\n",
        "ax.xaxis.set(ticks=(0, 1), ticklabels=('Predicted 0s', 'Predicted 1s'))\n",
        "ax.yaxis.set(ticks=(0, 1), ticklabels=('Actual 0s', 'Actual 1s'))\n",
        "ax.set_ylim(1.5, -0.5)\n",
        "for i in range(2):\n",
        "    for j in range(2):\n",
        "        ax.text(j, i, cm[i, j], ha='center', va='center', color='red')\n",
        "plt.show()"
      ],
      "metadata": {
        "colab": {
          "base_uri": "https://localhost:8080/",
          "height": 394
        },
        "id": "RytIULl5e6vS",
        "outputId": "c8ad2d9c-857d-41b8-d303-53a90cedf765"
      },
      "execution_count": 112,
      "outputs": [
        {
          "output_type": "error",
          "ename": "AttributeError",
          "evalue": "ignored",
          "traceback": [
            "\u001b[0;31m---------------------------------------------------------------------------\u001b[0m",
            "\u001b[0;31mAttributeError\u001b[0m                            Traceback (most recent call last)",
            "\u001b[0;32m<ipython-input-112-7629261e4bb6>\u001b[0m in \u001b[0;36m<module>\u001b[0;34m\u001b[0m\n\u001b[0;32m----> 1\u001b[0;31m \u001b[0mcm\u001b[0m \u001b[0;34m=\u001b[0m \u001b[0mconfusion_matrix\u001b[0m\u001b[0;34m(\u001b[0m\u001b[0mtest_Y\u001b[0m\u001b[0;34m,\u001b[0m \u001b[0mlogit_model\u001b[0m\u001b[0;34m.\u001b[0m\u001b[0mpredict\u001b[0m\u001b[0;34m(\u001b[0m\u001b[0mtest_X\u001b[0m\u001b[0;34m)\u001b[0m\u001b[0;34m)\u001b[0m\u001b[0;34m\u001b[0m\u001b[0;34m\u001b[0m\u001b[0m\n\u001b[0m\u001b[1;32m      2\u001b[0m \u001b[0;34m\u001b[0m\u001b[0m\n\u001b[1;32m      3\u001b[0m \u001b[0mfig\u001b[0m\u001b[0;34m,\u001b[0m \u001b[0max\u001b[0m \u001b[0;34m=\u001b[0m \u001b[0mplt\u001b[0m\u001b[0;34m.\u001b[0m\u001b[0msubplots\u001b[0m\u001b[0;34m(\u001b[0m\u001b[0mfigsize\u001b[0m\u001b[0;34m=\u001b[0m\u001b[0;34m(\u001b[0m\u001b[0;36m8\u001b[0m\u001b[0;34m,\u001b[0m \u001b[0;36m8\u001b[0m\u001b[0;34m)\u001b[0m\u001b[0;34m)\u001b[0m\u001b[0;34m\u001b[0m\u001b[0;34m\u001b[0m\u001b[0m\n\u001b[1;32m      4\u001b[0m \u001b[0max\u001b[0m\u001b[0;34m.\u001b[0m\u001b[0mimshow\u001b[0m\u001b[0;34m(\u001b[0m\u001b[0mcm\u001b[0m\u001b[0;34m)\u001b[0m\u001b[0;34m\u001b[0m\u001b[0;34m\u001b[0m\u001b[0m\n\u001b[1;32m      5\u001b[0m \u001b[0max\u001b[0m\u001b[0;34m.\u001b[0m\u001b[0mgrid\u001b[0m\u001b[0;34m(\u001b[0m\u001b[0;32mFalse\u001b[0m\u001b[0;34m)\u001b[0m\u001b[0;34m\u001b[0m\u001b[0;34m\u001b[0m\u001b[0m\n",
            "\u001b[0;32m/usr/local/lib/python3.7/dist-packages/sklearn/linear_model/_base.py\u001b[0m in \u001b[0;36mpredict\u001b[0;34m(self, X)\u001b[0m\n\u001b[1;32m    423\u001b[0m             \u001b[0mVector\u001b[0m \u001b[0mcontaining\u001b[0m \u001b[0mthe\u001b[0m \u001b[0;32mclass\u001b[0m \u001b[0mlabels\u001b[0m \u001b[0;32mfor\u001b[0m \u001b[0meach\u001b[0m \u001b[0msample\u001b[0m\u001b[0;34m.\u001b[0m\u001b[0;34m\u001b[0m\u001b[0;34m\u001b[0m\u001b[0m\n\u001b[1;32m    424\u001b[0m         \"\"\"\n\u001b[0;32m--> 425\u001b[0;31m         \u001b[0mscores\u001b[0m \u001b[0;34m=\u001b[0m \u001b[0mself\u001b[0m\u001b[0;34m.\u001b[0m\u001b[0mdecision_function\u001b[0m\u001b[0;34m(\u001b[0m\u001b[0mX\u001b[0m\u001b[0;34m)\u001b[0m\u001b[0;34m\u001b[0m\u001b[0;34m\u001b[0m\u001b[0m\n\u001b[0m\u001b[1;32m    426\u001b[0m         \u001b[0;32mif\u001b[0m \u001b[0mlen\u001b[0m\u001b[0;34m(\u001b[0m\u001b[0mscores\u001b[0m\u001b[0;34m.\u001b[0m\u001b[0mshape\u001b[0m\u001b[0;34m)\u001b[0m \u001b[0;34m==\u001b[0m \u001b[0;36m1\u001b[0m\u001b[0;34m:\u001b[0m\u001b[0;34m\u001b[0m\u001b[0;34m\u001b[0m\u001b[0m\n\u001b[1;32m    427\u001b[0m             \u001b[0mindices\u001b[0m \u001b[0;34m=\u001b[0m \u001b[0;34m(\u001b[0m\u001b[0mscores\u001b[0m \u001b[0;34m>\u001b[0m \u001b[0;36m0\u001b[0m\u001b[0;34m)\u001b[0m\u001b[0;34m.\u001b[0m\u001b[0mastype\u001b[0m\u001b[0;34m(\u001b[0m\u001b[0mint\u001b[0m\u001b[0;34m)\u001b[0m\u001b[0;34m\u001b[0m\u001b[0;34m\u001b[0m\u001b[0m\n",
            "\u001b[0;32m/usr/local/lib/python3.7/dist-packages/sklearn/linear_model/_base.py\u001b[0m in \u001b[0;36mdecision_function\u001b[0;34m(self, X)\u001b[0m\n\u001b[1;32m    406\u001b[0m \u001b[0;34m\u001b[0m\u001b[0m\n\u001b[1;32m    407\u001b[0m         \u001b[0mX\u001b[0m \u001b[0;34m=\u001b[0m \u001b[0mself\u001b[0m\u001b[0;34m.\u001b[0m\u001b[0m_validate_data\u001b[0m\u001b[0;34m(\u001b[0m\u001b[0mX\u001b[0m\u001b[0;34m,\u001b[0m \u001b[0maccept_sparse\u001b[0m\u001b[0;34m=\u001b[0m\u001b[0;34m\"csr\"\u001b[0m\u001b[0;34m,\u001b[0m \u001b[0mreset\u001b[0m\u001b[0;34m=\u001b[0m\u001b[0;32mFalse\u001b[0m\u001b[0;34m)\u001b[0m\u001b[0;34m\u001b[0m\u001b[0;34m\u001b[0m\u001b[0m\n\u001b[0;32m--> 408\u001b[0;31m         \u001b[0mscores\u001b[0m \u001b[0;34m=\u001b[0m \u001b[0msafe_sparse_dot\u001b[0m\u001b[0;34m(\u001b[0m\u001b[0mX\u001b[0m\u001b[0;34m,\u001b[0m \u001b[0mself\u001b[0m\u001b[0;34m.\u001b[0m\u001b[0mcoef_\u001b[0m\u001b[0;34m.\u001b[0m\u001b[0mT\u001b[0m\u001b[0;34m,\u001b[0m \u001b[0mdense_output\u001b[0m\u001b[0;34m=\u001b[0m\u001b[0;32mTrue\u001b[0m\u001b[0;34m)\u001b[0m \u001b[0;34m+\u001b[0m \u001b[0mself\u001b[0m\u001b[0;34m.\u001b[0m\u001b[0mintercept_\u001b[0m\u001b[0;34m\u001b[0m\u001b[0;34m\u001b[0m\u001b[0m\n\u001b[0m\u001b[1;32m    409\u001b[0m         \u001b[0;32mreturn\u001b[0m \u001b[0mscores\u001b[0m\u001b[0;34m.\u001b[0m\u001b[0mravel\u001b[0m\u001b[0;34m(\u001b[0m\u001b[0;34m)\u001b[0m \u001b[0;32mif\u001b[0m \u001b[0mscores\u001b[0m\u001b[0;34m.\u001b[0m\u001b[0mshape\u001b[0m\u001b[0;34m[\u001b[0m\u001b[0;36m1\u001b[0m\u001b[0;34m]\u001b[0m \u001b[0;34m==\u001b[0m \u001b[0;36m1\u001b[0m \u001b[0;32melse\u001b[0m \u001b[0mscores\u001b[0m\u001b[0;34m\u001b[0m\u001b[0;34m\u001b[0m\u001b[0m\n\u001b[1;32m    410\u001b[0m \u001b[0;34m\u001b[0m\u001b[0m\n",
            "\u001b[0;31mAttributeError\u001b[0m: 'LogisticRegression' object has no attribute 'coef_'"
          ]
        }
      ]
    },
    {
      "cell_type": "code",
      "source": [
        "print(classification_report(test_Y, logit_model.predict(test_X)))"
      ],
      "metadata": {
        "colab": {
          "base_uri": "https://localhost:8080/",
          "height": 322
        },
        "id": "nF1IaLoye9SU",
        "outputId": "5790daae-4a57-4bc9-9a2b-0c516f7e3dd0"
      },
      "execution_count": 113,
      "outputs": [
        {
          "output_type": "error",
          "ename": "AttributeError",
          "evalue": "ignored",
          "traceback": [
            "\u001b[0;31m---------------------------------------------------------------------------\u001b[0m",
            "\u001b[0;31mAttributeError\u001b[0m                            Traceback (most recent call last)",
            "\u001b[0;32m<ipython-input-113-aa290d9aeff9>\u001b[0m in \u001b[0;36m<module>\u001b[0;34m\u001b[0m\n\u001b[0;32m----> 1\u001b[0;31m \u001b[0mprint\u001b[0m\u001b[0;34m(\u001b[0m\u001b[0mclassification_report\u001b[0m\u001b[0;34m(\u001b[0m\u001b[0mtest_Y\u001b[0m\u001b[0;34m,\u001b[0m \u001b[0mlogit_model\u001b[0m\u001b[0;34m.\u001b[0m\u001b[0mpredict\u001b[0m\u001b[0;34m(\u001b[0m\u001b[0mtest_X\u001b[0m\u001b[0;34m)\u001b[0m\u001b[0;34m)\u001b[0m\u001b[0;34m)\u001b[0m\u001b[0;34m\u001b[0m\u001b[0;34m\u001b[0m\u001b[0m\n\u001b[0m",
            "\u001b[0;32m/usr/local/lib/python3.7/dist-packages/sklearn/linear_model/_base.py\u001b[0m in \u001b[0;36mpredict\u001b[0;34m(self, X)\u001b[0m\n\u001b[1;32m    423\u001b[0m             \u001b[0mVector\u001b[0m \u001b[0mcontaining\u001b[0m \u001b[0mthe\u001b[0m \u001b[0;32mclass\u001b[0m \u001b[0mlabels\u001b[0m \u001b[0;32mfor\u001b[0m \u001b[0meach\u001b[0m \u001b[0msample\u001b[0m\u001b[0;34m.\u001b[0m\u001b[0;34m\u001b[0m\u001b[0;34m\u001b[0m\u001b[0m\n\u001b[1;32m    424\u001b[0m         \"\"\"\n\u001b[0;32m--> 425\u001b[0;31m         \u001b[0mscores\u001b[0m \u001b[0;34m=\u001b[0m \u001b[0mself\u001b[0m\u001b[0;34m.\u001b[0m\u001b[0mdecision_function\u001b[0m\u001b[0;34m(\u001b[0m\u001b[0mX\u001b[0m\u001b[0;34m)\u001b[0m\u001b[0;34m\u001b[0m\u001b[0;34m\u001b[0m\u001b[0m\n\u001b[0m\u001b[1;32m    426\u001b[0m         \u001b[0;32mif\u001b[0m \u001b[0mlen\u001b[0m\u001b[0;34m(\u001b[0m\u001b[0mscores\u001b[0m\u001b[0;34m.\u001b[0m\u001b[0mshape\u001b[0m\u001b[0;34m)\u001b[0m \u001b[0;34m==\u001b[0m \u001b[0;36m1\u001b[0m\u001b[0;34m:\u001b[0m\u001b[0;34m\u001b[0m\u001b[0;34m\u001b[0m\u001b[0m\n\u001b[1;32m    427\u001b[0m             \u001b[0mindices\u001b[0m \u001b[0;34m=\u001b[0m \u001b[0;34m(\u001b[0m\u001b[0mscores\u001b[0m \u001b[0;34m>\u001b[0m \u001b[0;36m0\u001b[0m\u001b[0;34m)\u001b[0m\u001b[0;34m.\u001b[0m\u001b[0mastype\u001b[0m\u001b[0;34m(\u001b[0m\u001b[0mint\u001b[0m\u001b[0;34m)\u001b[0m\u001b[0;34m\u001b[0m\u001b[0;34m\u001b[0m\u001b[0m\n",
            "\u001b[0;32m/usr/local/lib/python3.7/dist-packages/sklearn/linear_model/_base.py\u001b[0m in \u001b[0;36mdecision_function\u001b[0;34m(self, X)\u001b[0m\n\u001b[1;32m    406\u001b[0m \u001b[0;34m\u001b[0m\u001b[0m\n\u001b[1;32m    407\u001b[0m         \u001b[0mX\u001b[0m \u001b[0;34m=\u001b[0m \u001b[0mself\u001b[0m\u001b[0;34m.\u001b[0m\u001b[0m_validate_data\u001b[0m\u001b[0;34m(\u001b[0m\u001b[0mX\u001b[0m\u001b[0;34m,\u001b[0m \u001b[0maccept_sparse\u001b[0m\u001b[0;34m=\u001b[0m\u001b[0;34m\"csr\"\u001b[0m\u001b[0;34m,\u001b[0m \u001b[0mreset\u001b[0m\u001b[0;34m=\u001b[0m\u001b[0;32mFalse\u001b[0m\u001b[0;34m)\u001b[0m\u001b[0;34m\u001b[0m\u001b[0;34m\u001b[0m\u001b[0m\n\u001b[0;32m--> 408\u001b[0;31m         \u001b[0mscores\u001b[0m \u001b[0;34m=\u001b[0m \u001b[0msafe_sparse_dot\u001b[0m\u001b[0;34m(\u001b[0m\u001b[0mX\u001b[0m\u001b[0;34m,\u001b[0m \u001b[0mself\u001b[0m\u001b[0;34m.\u001b[0m\u001b[0mcoef_\u001b[0m\u001b[0;34m.\u001b[0m\u001b[0mT\u001b[0m\u001b[0;34m,\u001b[0m \u001b[0mdense_output\u001b[0m\u001b[0;34m=\u001b[0m\u001b[0;32mTrue\u001b[0m\u001b[0;34m)\u001b[0m \u001b[0;34m+\u001b[0m \u001b[0mself\u001b[0m\u001b[0;34m.\u001b[0m\u001b[0mintercept_\u001b[0m\u001b[0;34m\u001b[0m\u001b[0;34m\u001b[0m\u001b[0m\n\u001b[0m\u001b[1;32m    409\u001b[0m         \u001b[0;32mreturn\u001b[0m \u001b[0mscores\u001b[0m\u001b[0;34m.\u001b[0m\u001b[0mravel\u001b[0m\u001b[0;34m(\u001b[0m\u001b[0;34m)\u001b[0m \u001b[0;32mif\u001b[0m \u001b[0mscores\u001b[0m\u001b[0;34m.\u001b[0m\u001b[0mshape\u001b[0m\u001b[0;34m[\u001b[0m\u001b[0;36m1\u001b[0m\u001b[0;34m]\u001b[0m \u001b[0;34m==\u001b[0m \u001b[0;36m1\u001b[0m \u001b[0;32melse\u001b[0m \u001b[0mscores\u001b[0m\u001b[0;34m\u001b[0m\u001b[0;34m\u001b[0m\u001b[0m\n\u001b[1;32m    410\u001b[0m \u001b[0;34m\u001b[0m\u001b[0m\n",
            "\u001b[0;31mAttributeError\u001b[0m: 'LogisticRegression' object has no attribute 'coef_'"
          ]
        }
      ]
    },
    {
      "cell_type": "code",
      "source": [
        "precision = precision_score(test_Y, logit_model.predict(test_X))\n",
        "recall = recall_score(test_Y, logit_model.predict(test_X))\n",
        " \n",
        "print('Precision: ',precision)\n",
        "print('Recall: ',recall)"
      ],
      "metadata": {
        "colab": {
          "base_uri": "https://localhost:8080/",
          "height": 394
        },
        "id": "cX1DShS7fAqy",
        "outputId": "25d1c3f3-9bb4-434c-91a9-cb64b142483e"
      },
      "execution_count": 114,
      "outputs": [
        {
          "output_type": "error",
          "ename": "AttributeError",
          "evalue": "ignored",
          "traceback": [
            "\u001b[0;31m---------------------------------------------------------------------------\u001b[0m",
            "\u001b[0;31mAttributeError\u001b[0m                            Traceback (most recent call last)",
            "\u001b[0;32m<ipython-input-114-6296102ce8d6>\u001b[0m in \u001b[0;36m<module>\u001b[0;34m\u001b[0m\n\u001b[0;32m----> 1\u001b[0;31m \u001b[0mprecision\u001b[0m \u001b[0;34m=\u001b[0m \u001b[0mprecision_score\u001b[0m\u001b[0;34m(\u001b[0m\u001b[0mtest_Y\u001b[0m\u001b[0;34m,\u001b[0m \u001b[0mlogit_model\u001b[0m\u001b[0;34m.\u001b[0m\u001b[0mpredict\u001b[0m\u001b[0;34m(\u001b[0m\u001b[0mtest_X\u001b[0m\u001b[0;34m)\u001b[0m\u001b[0;34m)\u001b[0m\u001b[0;34m\u001b[0m\u001b[0;34m\u001b[0m\u001b[0m\n\u001b[0m\u001b[1;32m      2\u001b[0m \u001b[0mrecall\u001b[0m \u001b[0;34m=\u001b[0m \u001b[0mrecall_score\u001b[0m\u001b[0;34m(\u001b[0m\u001b[0mtest_Y\u001b[0m\u001b[0;34m,\u001b[0m \u001b[0mlogit_model\u001b[0m\u001b[0;34m.\u001b[0m\u001b[0mpredict\u001b[0m\u001b[0;34m(\u001b[0m\u001b[0mtest_X\u001b[0m\u001b[0;34m)\u001b[0m\u001b[0;34m)\u001b[0m\u001b[0;34m\u001b[0m\u001b[0;34m\u001b[0m\u001b[0m\n\u001b[1;32m      3\u001b[0m \u001b[0;34m\u001b[0m\u001b[0m\n\u001b[1;32m      4\u001b[0m \u001b[0mprint\u001b[0m\u001b[0;34m(\u001b[0m\u001b[0;34m'Precision: '\u001b[0m\u001b[0;34m,\u001b[0m\u001b[0mprecision\u001b[0m\u001b[0;34m)\u001b[0m\u001b[0;34m\u001b[0m\u001b[0;34m\u001b[0m\u001b[0m\n\u001b[1;32m      5\u001b[0m \u001b[0mprint\u001b[0m\u001b[0;34m(\u001b[0m\u001b[0;34m'Recall: '\u001b[0m\u001b[0;34m,\u001b[0m\u001b[0mrecall\u001b[0m\u001b[0;34m)\u001b[0m\u001b[0;34m\u001b[0m\u001b[0;34m\u001b[0m\u001b[0m\n",
            "\u001b[0;32m/usr/local/lib/python3.7/dist-packages/sklearn/linear_model/_base.py\u001b[0m in \u001b[0;36mpredict\u001b[0;34m(self, X)\u001b[0m\n\u001b[1;32m    423\u001b[0m             \u001b[0mVector\u001b[0m \u001b[0mcontaining\u001b[0m \u001b[0mthe\u001b[0m \u001b[0;32mclass\u001b[0m \u001b[0mlabels\u001b[0m \u001b[0;32mfor\u001b[0m \u001b[0meach\u001b[0m \u001b[0msample\u001b[0m\u001b[0;34m.\u001b[0m\u001b[0;34m\u001b[0m\u001b[0;34m\u001b[0m\u001b[0m\n\u001b[1;32m    424\u001b[0m         \"\"\"\n\u001b[0;32m--> 425\u001b[0;31m         \u001b[0mscores\u001b[0m \u001b[0;34m=\u001b[0m \u001b[0mself\u001b[0m\u001b[0;34m.\u001b[0m\u001b[0mdecision_function\u001b[0m\u001b[0;34m(\u001b[0m\u001b[0mX\u001b[0m\u001b[0;34m)\u001b[0m\u001b[0;34m\u001b[0m\u001b[0;34m\u001b[0m\u001b[0m\n\u001b[0m\u001b[1;32m    426\u001b[0m         \u001b[0;32mif\u001b[0m \u001b[0mlen\u001b[0m\u001b[0;34m(\u001b[0m\u001b[0mscores\u001b[0m\u001b[0;34m.\u001b[0m\u001b[0mshape\u001b[0m\u001b[0;34m)\u001b[0m \u001b[0;34m==\u001b[0m \u001b[0;36m1\u001b[0m\u001b[0;34m:\u001b[0m\u001b[0;34m\u001b[0m\u001b[0;34m\u001b[0m\u001b[0m\n\u001b[1;32m    427\u001b[0m             \u001b[0mindices\u001b[0m \u001b[0;34m=\u001b[0m \u001b[0;34m(\u001b[0m\u001b[0mscores\u001b[0m \u001b[0;34m>\u001b[0m \u001b[0;36m0\u001b[0m\u001b[0;34m)\u001b[0m\u001b[0;34m.\u001b[0m\u001b[0mastype\u001b[0m\u001b[0;34m(\u001b[0m\u001b[0mint\u001b[0m\u001b[0;34m)\u001b[0m\u001b[0;34m\u001b[0m\u001b[0;34m\u001b[0m\u001b[0m\n",
            "\u001b[0;32m/usr/local/lib/python3.7/dist-packages/sklearn/linear_model/_base.py\u001b[0m in \u001b[0;36mdecision_function\u001b[0;34m(self, X)\u001b[0m\n\u001b[1;32m    406\u001b[0m \u001b[0;34m\u001b[0m\u001b[0m\n\u001b[1;32m    407\u001b[0m         \u001b[0mX\u001b[0m \u001b[0;34m=\u001b[0m \u001b[0mself\u001b[0m\u001b[0;34m.\u001b[0m\u001b[0m_validate_data\u001b[0m\u001b[0;34m(\u001b[0m\u001b[0mX\u001b[0m\u001b[0;34m,\u001b[0m \u001b[0maccept_sparse\u001b[0m\u001b[0;34m=\u001b[0m\u001b[0;34m\"csr\"\u001b[0m\u001b[0;34m,\u001b[0m \u001b[0mreset\u001b[0m\u001b[0;34m=\u001b[0m\u001b[0;32mFalse\u001b[0m\u001b[0;34m)\u001b[0m\u001b[0;34m\u001b[0m\u001b[0;34m\u001b[0m\u001b[0m\n\u001b[0;32m--> 408\u001b[0;31m         \u001b[0mscores\u001b[0m \u001b[0;34m=\u001b[0m \u001b[0msafe_sparse_dot\u001b[0m\u001b[0;34m(\u001b[0m\u001b[0mX\u001b[0m\u001b[0;34m,\u001b[0m \u001b[0mself\u001b[0m\u001b[0;34m.\u001b[0m\u001b[0mcoef_\u001b[0m\u001b[0;34m.\u001b[0m\u001b[0mT\u001b[0m\u001b[0;34m,\u001b[0m \u001b[0mdense_output\u001b[0m\u001b[0;34m=\u001b[0m\u001b[0;32mTrue\u001b[0m\u001b[0;34m)\u001b[0m \u001b[0;34m+\u001b[0m \u001b[0mself\u001b[0m\u001b[0;34m.\u001b[0m\u001b[0mintercept_\u001b[0m\u001b[0;34m\u001b[0m\u001b[0;34m\u001b[0m\u001b[0m\n\u001b[0m\u001b[1;32m    409\u001b[0m         \u001b[0;32mreturn\u001b[0m \u001b[0mscores\u001b[0m\u001b[0;34m.\u001b[0m\u001b[0mravel\u001b[0m\u001b[0;34m(\u001b[0m\u001b[0;34m)\u001b[0m \u001b[0;32mif\u001b[0m \u001b[0mscores\u001b[0m\u001b[0;34m.\u001b[0m\u001b[0mshape\u001b[0m\u001b[0;34m[\u001b[0m\u001b[0;36m1\u001b[0m\u001b[0;34m]\u001b[0m \u001b[0;34m==\u001b[0m \u001b[0;36m1\u001b[0m \u001b[0;32melse\u001b[0m \u001b[0mscores\u001b[0m\u001b[0;34m\u001b[0m\u001b[0;34m\u001b[0m\u001b[0m\n\u001b[1;32m    410\u001b[0m \u001b[0;34m\u001b[0m\u001b[0m\n",
            "\u001b[0;31mAttributeError\u001b[0m: 'LogisticRegression' object has no attribute 'coef_'"
          ]
        }
      ]
    },
    {
      "cell_type": "code",
      "source": [],
      "metadata": {
        "id": "m5Yr7R4TfCuH"
      },
      "execution_count": null,
      "outputs": []
    }
  ],
  "metadata": {
    "kernelspec": {
      "display_name": "Python 3 (ipykernel)",
      "language": "python",
      "name": "python3"
    },
    "language_info": {
      "codemirror_mode": {
        "name": "ipython",
        "version": 3
      },
      "file_extension": ".py",
      "mimetype": "text/x-python",
      "name": "python",
      "nbconvert_exporter": "python",
      "pygments_lexer": "ipython3",
      "version": "3.9.7"
    },
    "colab": {
      "provenance": [],
      "collapsed_sections": []
    }
  },
  "nbformat": 4,
  "nbformat_minor": 0
}